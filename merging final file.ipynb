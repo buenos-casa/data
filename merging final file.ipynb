{
 "cells": [
  {
   "cell_type": "code",
   "execution_count": 1,
   "metadata": {},
   "outputs": [],
   "source": [
    "import pandas as pd\n",
    "import numpy as np\n",
    "import unicodedata\n",
    "\n"
   ]
  },
  {
   "cell_type": "markdown",
   "metadata": {},
   "source": [
    "### Import the different files"
   ]
  },
  {
   "cell_type": "code",
   "execution_count": 2,
   "metadata": {},
   "outputs": [],
   "source": [
    "sell_data = pd.read_csv('properati_data/sell/sell_census_barrios.csv')\n",
    "sell_data = sell_data.drop_duplicates(subset='id_left')\n",
    "health_data = pd.read_csv('properati_data/sell_stripped/sell_census_health.csv')\n",
    "humanity_data = pd.read_csv('properati_data/sell_stripped/sell_census_humanity.csv')\n",
    "property_data = pd.read_csv('properati_data/sell_stripped/sell_census_property.csv')\n",
    "wifi_data = pd.read_csv('properati_data/sell_stripped/sell_census_public_wifi.csv')\n",
    "sports_data = pd.read_csv('properati_data/sell_stripped/sell_census_sports.csv')\n",
    "transport_data = pd.read_csv('properati_data/sell_stripped/sell_census_transportation.csv')\n"
   ]
  },
  {
   "cell_type": "code",
   "execution_count": 3,
   "metadata": {},
   "outputs": [
    {
     "data": {
      "text/plain": [
       "array(['BARRACAS', 'PARQUE LELOIR', 'CAPITAL FEDERAL', 'SAN TELMO',\n",
       "       'SAN NICOLAS', 'PALERMO', 'BOCA', 'PARQUE PATRICIOS', 'TIGRE',\n",
       "       'BENAVIDEZ', 'REMEDIOS DE ESCALADA', 'CABALLITO', 'POMPEYA',\n",
       "       'PUERTO MADERO', 'CONSTITUCION', 'MONSERRAT', 'LANÃºS',\n",
       "       'AVELLANEDA', 'ALMAGRO', 'BALVANERA', 'BOEDO', 'FLORIDA OESTE',\n",
       "       'PARQUE CHACABUCO', 'FLORES', 'VILLA CRESPO', 'PARQUE AVELLANEDA',\n",
       "       'VILLA LUGANO', 'FLORESTA', 'VILLA GENERAL MITRE', 'BELGRANO',\n",
       "       'COLEGIALES', 'NUÑEZ', 'VILLA URQUIZA', 'VILLA ORTUZAR', 'COGHLAN',\n",
       "       'VILLA SANTA RITA', 'BARRIO NORTE', 'RECOLETA', 'LAS CANITAS',\n",
       "       'PATERNAL', 'PALERMO CHICO', 'VILLA PUEYRREDON', 'MAR DEL PLATA',\n",
       "       'ABASTO', 'NORDELTA', 'AZUL', 'CHACARITA', 'SAN MARTIN', 'RETIRO',\n",
       "       'SAAVEDRA', 'VILLA DEVOTO', 'LINIERS', 'OLIVOS', 'VELEZ SARSFIELD',\n",
       "       'PALERMO HOLLYWOOD', 'PALERMO SOHO', 'VILLA LURO', 'MATADEROS',\n",
       "       'MONTE CASTRO', 'VILLA REAL', 'VERSALLES', 'RAMOS MEJIA',\n",
       "       'CIUDADELA', 'CONGRESO', 'SAN CRISTOBAL', 'CENTRO / MICROCENTRO',\n",
       "       'SAN FERNANDO', 'CATALINAS', 'BS.AS. G.B.A. ZONA NORTE',\n",
       "       'PALERMO VIEJO', 'DISTRITO AUDIOVISUAL', 'LA PLATA', 'PILAR',\n",
       "       'VILLA DEL PARQUE', 'ONCE', 'VICENTER LOPEZ', 'CASEROS',\n",
       "       'GENERAL SAN MARTIN', 'AGRONOMIA', 'PARQUE CENTENARIO',\n",
       "       'PARQUE CHAS', 'VILLA RAFFO', 'SANTOS LUGARES', 'TRES DE FEBRERO',\n",
       "       'VILLA BALLESTER', 'SAENZ PENA', 'VILLA LYNCH', 'ITUZAINGO',\n",
       "       'TRIBUNALES', 'LOS TRES CONILES', 'CORONEL ROSALES', 'LOBOS',\n",
       "       'BARRIO CEIBOS', 'GENERAL PACHECO', 'VILLANUEVA', 'PINAMAR',\n",
       "       'EZEIZA', 'LUJAN', 'DON TORCUATO', 'ADROGUE', 'ESCOBAR',\n",
       "       'GUILLERMO HUDSON', 'RINCON DE MILBERG', 'SAN VICENTE',\n",
       "       'EL TALAR DE PACHECO', 'CITY BELL', 'BERAZATEGUI', 'EL TALAR',\n",
       "       'SOLARES DEL TALAR', 'LAS TONINAS', 'LOS HORNOS', 'RANELAGH',\n",
       "       'LA COMARCA', 'ESTEBAN ECHEVERRIA', 'TRES ARROYOS',\n",
       "       'VILLA UDAONDO', 'SANTA BARBARA BARRIO CERRADO', 'ACASSUSO',\n",
       "       'HARAS MARIA VICTORIA', 'CANNING', 'COSTA DEL ESTE',\n",
       "       'HARAS MARIA ELENA', 'FINCAS DE IRAOLA', 'SOLAR DEL BOSQUE',\n",
       "       'MORENO', 'BARRIO PARQUE GENERAL SAN MARTIN', 'LAGUNA DEL SOL',\n",
       "       'SEPTIEMBRE', 'BS.AS. G.B.A. ZONA OESTE', 'VILLA SARMIENTO',\n",
       "       'GENERAL PAZ', 'VILLA GESELL', 'MANUEL B GONNET',\n",
       "       'SAN ANTONIO DE PADUA', 'MIRAMAR', 'GUERNICA', 'MASCHWITZ',\n",
       "       'VILLA ARIZA', 'BARRIO PARQUE ALMIRANTE IRIZAR', 'VALLE CLARO',\n",
       "       'PILAR GREEN PARK', 'MALVINAS ARGENTINAS', 'RINCON DE LA COSTA',\n",
       "       'JOSE MARMOL', 'CASTELAR', 'NORBERTO DE LA RIESTRA',\n",
       "       'LOS ROBLES DE MASCHWITZ', 'VILLA ELVIRA', 'CORONEL SUAREZ',\n",
       "       'CAMPOS DE ALVAREZ', 'LOMAS DE ZAMORA', 'VILLA SOLDATI',\n",
       "       'SAN MIGUEL', 'DISTRITO DE LAS ARTES',\n",
       "       'BUENOS AIRES COSTA ATLANTICA', 'QUILMES', 'BELLA VISTA', 'MERLO',\n",
       "       'EL PALOMAR', 'LAS FLORES', 'MORON', 'VILLA ADELINA',\n",
       "       'LANAS OESTE', 'SAN JUSTO', 'ROQUE PAREZ', 'VILLA MARTELLI',\n",
       "       'MUNRO', 'LOMAS DEL MIRADOR', 'CARAPACHAY', 'MARTINEZ',\n",
       "       'LA MATANZA', 'LA TABLADA', 'BARRIO SAN ISIDRO LABRADOR',\n",
       "       'SAN ISIDRO', 'FLORIDA', 'ZONA PORTUARIA', 'DELTA', 'ISLAS',\n",
       "       'SAN LORENZO', 'CAMPANA', 'BAHIA BLANCA', 'TORNQUIST',\n",
       "       'VILLA RIACHUELO', 'TAPIALES', 'VICTORIA', 'LANUS ESTE',\n",
       "       'MONTE CHINGOLO'], dtype=object)"
      ]
     },
     "execution_count": 3,
     "metadata": {},
     "output_type": "execute_result"
    }
   ],
   "source": [
    "def remove_accents(input_str):\n",
    "    nfkd_form = unicodedata.normalize('NFKD', input_str)\n",
    "    return u\"\".join([c for c in nfkd_form if not unicodedata.combining(c)])\n",
    "\n",
    "sell_data.place_name = sell_data.place_name.apply(lambda x: x.upper())\n",
    "sell_data.place_name = sell_data.place_name.apply(lambda x: str(x.replace('SAN NICOLÃ¡S', 'SAN NICOLAS')))\n",
    "sell_data.place_name = sell_data.place_name.apply(lambda x: str(x.replace('CONSTITUCIÃ³N', 'CONSTITUCION')))\n",
    "sell_data.place_name = sell_data.place_name.apply(lambda x: str(x.replace('NUÃ±EZ', 'NUÑEZ')))\n",
    "sell_data.place_name = sell_data.place_name.apply(lambda x: str(x.replace('LAS CAÃ±ITAS', 'LAS CANITAS')))\n",
    "sell_data.place_name = sell_data.place_name.apply(lambda x: str(x.replace('VILLA PUEYRREDÃ³N', 'VILLA PUEYRREDON')))\n",
    "sell_data.place_name = sell_data.place_name.apply(lambda x: str(x.replace('SAN MARTÃ\\xadN', 'SAN MARTIN')))\n",
    "sell_data.place_name = sell_data.place_name.apply(lambda x: str(x.replace('RAMOS MEJÃ\\xadA', 'RAMOS MEJIA')))\n",
    "sell_data.place_name = sell_data.place_name.apply(lambda x: str(x.replace('VICENTE LÃ³PEZ', 'VICENTER LOPEZ')))\n",
    "sell_data.place_name = sell_data.place_name.apply(lambda x: str(x.replace('GENERAL SAN MARTÃ\\xadN', 'GENERAL SAN MARTIN')))\n",
    "sell_data.place_name = sell_data.place_name.apply(lambda x: str(x.replace('AGRONOMÃ\\xadA', 'AGRONOMIA')))\n",
    "sell_data.place_name = sell_data.place_name.apply(lambda x: str(x.replace('SÃ¡ENZ PEÃ±A', 'SAENZ PENA')))\n",
    "sell_data.place_name = sell_data.place_name.apply(lambda x: str(x.replace('ITUZAINGÃ³', 'ITUZAINGO')))\n",
    "sell_data.place_name = sell_data.place_name.apply(lambda x: str(x.replace('LUJÃ¡N', 'LUJAN')))\n",
    "sell_data.place_name = sell_data.place_name.apply(lambda x: str(x.replace('ADROGUÃ©', 'ADROGUE')))\n",
    "sell_data.place_name = sell_data.place_name.apply(lambda x: str(x.replace('RINCÃ³N DE MILBERG', 'RINCON DE MILBERG')))\n",
    "sell_data.place_name = sell_data.place_name.apply(lambda x: str(x.replace('ESTEBAN ECHEVERRÃ\\xadA', 'ESTEBAN ECHEVERRIA')))\n",
    "sell_data.place_name = sell_data.place_name.apply(lambda x: str(x.replace('HARAS MARÃ\\xadA VICTORIA', 'HARAS MARIA VICTORIA')))\n",
    "sell_data.place_name = sell_data.place_name.apply(lambda x: str(x.replace('HARAS MARÃ\\xadA ELENA', 'HARAS MARIA ELENA')))\n",
    "sell_data.place_name = sell_data.place_name.apply(lambda x: str(x.replace('BARRIO PARQUE ALMIRANTE IRÃ\\xadZAR', 'BARRIO PARQUE ALMIRANTE IRIZAR')))\n",
    "sell_data.place_name = sell_data.place_name.apply(lambda x: str(x.replace('RINCÃ³N DE LA COSTA', 'RINCON DE LA COSTA')))\n",
    "sell_data.place_name = sell_data.place_name.apply(lambda x: str(x.replace('CORONEL SUÃ¡REZ', 'CORONEL SUAREZ')))\n",
    "sell_data.place_name = sell_data.place_name.apply(lambda x: str(x.replace('CAMPOS DE Ã\\x81LVAREZ', 'CAMPOS DE ALVAREZ')))\n",
    "sell_data.place_name = sell_data.place_name.apply(lambda x: str(x.replace('BUENOS AIRES COSTA ATLÃ¡NTICA', 'BUENOS AIRES COSTA ATLANTICA')))\n",
    "sell_data.place_name = sell_data.place_name.apply(lambda x: str(x.replace('MORÃ³N', 'MORON')))\n",
    "sell_data.place_name = sell_data.place_name.apply(lambda x: str(x.replace('ROQUE PÃ©REZ', 'ROQUE PAREZ')))\n",
    "sell_data.place_name = sell_data.place_name.apply(lambda x: str(x.replace('LANÃºS OESTE', 'LANAS OESTE')))\n",
    "sell_data.place_name = sell_data.place_name.apply(lambda x: str(x.replace('MARTÃ\\xadNEZ', 'MARTINEZ')))\n",
    "sell_data.place_name = sell_data.place_name.apply(lambda x: str(x.replace('BAHÃ\\xadA BLANCA', 'BAHIA BLANCA')))\n",
    "sell_data.place_name = sell_data.place_name.apply(lambda x: str(x.replace('LANÃºS ESTE', 'LANUS ESTE')))\n",
    "\n",
    "\n",
    "                                                  \n",
    "sell_data.place_name.unique()"
   ]
  },
  {
   "cell_type": "code",
   "execution_count": 4,
   "metadata": {},
   "outputs": [],
   "source": [
    "sell_data.place_name = sell_data.place_name.apply(lambda x: remove_accents(x))"
   ]
  },
  {
   "cell_type": "code",
   "execution_count": 5,
   "metadata": {},
   "outputs": [
    {
     "name": "stdout",
     "output_type": "stream",
     "text": [
      "Health:\n",
      " ['field_1' 'id_left' 'lat' 'lon' 'join_long' 'join_lat' 'join_object'\n",
      " 'join_id' 'join_name' 'join_comune' 'distance']\n",
      "\n",
      "Humanity:\n",
      " ['field_1' 'id_left' 'lat' 'lon' 'join_object' 'join_long' 'join_lat'\n",
      " 'join_name' 'join_comune' 'distance']\n",
      "\n",
      "Property:\n",
      " ['field_1' 'id_left' 'lat' 'lon' 'join_Commune' 'join_Longitude'\n",
      " 'join_Latitude' 'join_Date' 'join_Value in US Dollars'\n",
      " 'join_Value of m2 (US Dollars)' 'join_m2' 'join_b_id' 'distance']\n",
      "\n",
      "Wifi:\n",
      " ['field_1' 'id_left' 'lat' 'lon' 'join_lat' 'join_long' 'join_id'\n",
      " 'join_object' 'join_name' 'join_comune' 'distance']\n",
      "\n",
      "Sports:\n",
      " ['field_1' 'id_left' 'lat' 'lon' 'join_long' 'join_lat' 'join_id'\n",
      " 'join_object' 'join_name' 'join_comune' 'distance']\n",
      "\n"
     ]
    }
   ],
   "source": [
    "print ('Health:\\n {}\\n'.format(health_data.columns.values))\n",
    "print ('Humanity:\\n {}\\n'.format(humanity_data.columns.values))\n",
    "print ('Property:\\n {}\\n'.format(property_data.columns.values))\n",
    "print ('Wifi:\\n {}\\n'.format(wifi_data.columns.values))\n",
    "print ('Sports:\\n {}\\n'.format(sports_data.columns.values))\n"
   ]
  },
  {
   "cell_type": "code",
   "execution_count": 6,
   "metadata": {},
   "outputs": [],
   "source": [
    "def rename_columns(label, label_list):\n",
    "    label_dict = {}\n",
    "    \n",
    "    for lab in label_list:\n",
    "        if lab.find('join') == 0:\n",
    "            label_dict[lab] = lab.replace('join',label)\n",
    "        elif lab == 'distance':\n",
    "            label_dict[lab] = label + '_' + lab\n",
    "    return label_dict \n"
   ]
  },
  {
   "cell_type": "code",
   "execution_count": 7,
   "metadata": {},
   "outputs": [],
   "source": [
    "health_data.rename(columns=rename_columns('health',health_data.columns.values), inplace=True)\n",
    "humanity_data.rename(columns=rename_columns('humanity',humanity_data.columns.values), inplace=True)\n",
    "property_data.rename(columns=rename_columns('property_values',property_data.columns.values), inplace=True)\n",
    "wifi_data.rename(columns=rename_columns('public_wifi',wifi_data.columns.values), inplace=True)\n",
    "sports_data.rename(columns=rename_columns('sports',sports_data.columns.values), inplace=True)\n",
    "transport_data.rename(columns=rename_columns('transportation',transport_data.columns.values), inplace=True)\n"
   ]
  },
  {
   "cell_type": "code",
   "execution_count": 8,
   "metadata": {},
   "outputs": [],
   "source": [
    "sell_data = pd.merge(sell_data, health_data, on='id_left', how='left')\n",
    "sell_data = pd.merge(sell_data, humanity_data, on='id_left', how='left')\n",
    "sell_data = pd.merge(sell_data, property_data, on='id_left', how='left')\n",
    "sell_data = pd.merge(sell_data, wifi_data, on='id_left', how='left')\n",
    "sell_data = pd.merge(sell_data, sports_data, on='id_left', how='left')\n",
    "sell_data = pd.merge(sell_data, transport_data, on='id_left', how='left')"
   ]
  },
  {
   "cell_type": "code",
   "execution_count": 9,
   "metadata": {},
   "outputs": [
    {
     "name": "stdout",
     "output_type": "stream",
     "text": [
      "['Unnamed: 0' 'Unnamed: 0.1' 'dataset_date' 'id_left' 'created_on'\n",
      " 'operation' 'property_type' 'place_name' 'country_name' 'state_name'\n",
      " 'geonames_id' 'lat_lon' 'lat_x' 'lon_x' 'price' 'currency'\n",
      " 'price_aprox_local_currency' 'price_aprox_usd' 'coordinates' 'AREA'\n",
      " 'Commune' 'DEPTO' 'FRAC' 'Computer Percent' 'Computer Quantile'\n",
      " 'Cellular Percent' 'Cellular Quantile' 'Rent Percent' 'Rent Quantile'\n",
      " 'LINK' 'Immigration Percent' 'Immigration Quantile' 'Education Percent'\n",
      " 'Education Quantile' 'PERIMETER' 'Owner Percent' 'Owner Quantile' 'PROV'\n",
      " 'RADIO' 'RADPAIS_' 'REDCODE' 'Regular Percent' 'Regular Quantile' 'TIPO'\n",
      " 'Uninhabited Percent' 'Uninhabited Quantile' 'type' 'index_right'\n",
      " 'barrio' 'comuna' 'perimetro' 'area' 'Barrio' 'id' 'b_id' 'field_1_x'\n",
      " 'lat_y' 'lon_y' 'health_long' 'health_lat' 'health_object' 'health_id'\n",
      " 'health_name' 'health_comune' 'health_distance' 'field_1_y' 'lat_x'\n",
      " 'lon_x' 'humanity_object' 'humanity_long' 'humanity_lat' 'humanity_name'\n",
      " 'humanity_comune' 'humanity_distance' 'field_1_x' 'lat_y' 'lon_y'\n",
      " 'property_values_Commune' 'property_values_Longitude'\n",
      " 'property_values_Latitude' 'property_values_Date'\n",
      " 'property_values_Value in US Dollars'\n",
      " 'property_values_Value of m2 (US Dollars)' 'property_values_m2'\n",
      " 'property_values_b_id' 'property_values_distance' 'field_1_y' 'lat_x'\n",
      " 'lon_x' 'public_wifi_lat' 'public_wifi_long' 'public_wifi_id'\n",
      " 'public_wifi_object' 'public_wifi_name' 'public_wifi_comune'\n",
      " 'public_wifi_distance' 'field_1_x' 'lat_y' 'lon_y' 'sports_long'\n",
      " 'sports_lat' 'sports_id' 'sports_object' 'sports_name' 'sports_comune'\n",
      " 'sports_distance' 'field_1_y' 'lat' 'lon' 'transportation_long'\n",
      " 'transportation_lat' 'transportation_id' 'transportation_object'\n",
      " 'transportation_name' 'transportation_distance']\n"
     ]
    }
   ],
   "source": [
    "print (sell_data.columns.values)"
   ]
  },
  {
   "cell_type": "code",
   "execution_count": 10,
   "metadata": {},
   "outputs": [],
   "source": [
    "sell_data = sell_data[['dataset_date','id_left','created_on','operation',\\\n",
    "                         'property_type', 'place_name','country_name','state_name','geonames_id',\\\n",
    "                         'lat_lon', 'lat_x' ,'lon_x' ,'price','currency','price_aprox_local_currency',\\\n",
    "                        'price_aprox_usd','coordinates', 'barrio','comuna','AREA',\\\n",
    "                       'Commune','b_id',\\\n",
    "                        'Computer Percent', 'Computer Quantile','Cellular Percent','Cellular Quantile',\\\n",
    "                       'Rent Percent', 'Rent Quantile','Immigration Percent' ,'Immigration Quantile',\\\n",
    "                       'Education Percent','Education Quantile','Owner Percent','Owner Quantile',\\\n",
    "                       'Regular Percent','Regular Quantile','Uninhabited Percent','Uninhabited Quantile',\\\n",
    "                       'health_long','health_lat','health_object','health_id','health_name','health_comune',\\\n",
    "                       'health_distance','property_values_Commune','property_values_Longitude','property_values_Latitude',\\\n",
    "                       'property_values_Date','property_values_Value in US Dollars','property_values_Value of m2 (US Dollars)',\\\n",
    "                       'property_values_m2', 'property_values_b_id','property_values_distance','public_wifi_lat',\\\n",
    "                       'public_wifi_long','public_wifi_id','public_wifi_object','public_wifi_name', 'public_wifi_comune',\\\n",
    "                       'public_wifi_distance','sports_long','sports_lat','sports_id','sports_object','sports_name',\\\n",
    "                       'sports_comune', 'sports_distance','transportation_long','transportation_lat','transportation_id',\\\n",
    "                       'transportation_object','transportation_name','transportation_distance'\n",
    "                      ]]"
   ]
  },
  {
   "cell_type": "code",
   "execution_count": 11,
   "metadata": {},
   "outputs": [
    {
     "data": {
      "text/html": [
       "<div>\n",
       "<style scoped>\n",
       "    .dataframe tbody tr th:only-of-type {\n",
       "        vertical-align: middle;\n",
       "    }\n",
       "\n",
       "    .dataframe tbody tr th {\n",
       "        vertical-align: top;\n",
       "    }\n",
       "\n",
       "    .dataframe thead th {\n",
       "        text-align: right;\n",
       "    }\n",
       "</style>\n",
       "<table border=\"1\" class=\"dataframe\">\n",
       "  <thead>\n",
       "    <tr style=\"text-align: right;\">\n",
       "      <th></th>\n",
       "      <th>b_id</th>\n",
       "      <th>barrio</th>\n",
       "      <th>property_values_b_id</th>\n",
       "    </tr>\n",
       "  </thead>\n",
       "  <tbody>\n",
       "    <tr>\n",
       "      <th>15789</th>\n",
       "      <td>NaN</td>\n",
       "      <td>MONSERRAT</td>\n",
       "      <td>36</td>\n",
       "    </tr>\n",
       "    <tr>\n",
       "      <th>15919</th>\n",
       "      <td>NaN</td>\n",
       "      <td>MONSERRAT</td>\n",
       "      <td>36</td>\n",
       "    </tr>\n",
       "    <tr>\n",
       "      <th>15920</th>\n",
       "      <td>NaN</td>\n",
       "      <td>MONSERRAT</td>\n",
       "      <td>36</td>\n",
       "    </tr>\n",
       "    <tr>\n",
       "      <th>106764</th>\n",
       "      <td>NaN</td>\n",
       "      <td>VELEZ SARSFIELD</td>\n",
       "      <td>22</td>\n",
       "    </tr>\n",
       "    <tr>\n",
       "      <th>110076</th>\n",
       "      <td>NaN</td>\n",
       "      <td>VILLA GRAL. MITRE</td>\n",
       "      <td>7</td>\n",
       "    </tr>\n",
       "    <tr>\n",
       "      <th>110331</th>\n",
       "      <td>NaN</td>\n",
       "      <td>VILLA GRAL. MITRE</td>\n",
       "      <td>7</td>\n",
       "    </tr>\n",
       "  </tbody>\n",
       "</table>\n",
       "</div>"
      ],
      "text/plain": [
       "        b_id             barrio  property_values_b_id\n",
       "15789    NaN          MONSERRAT                    36\n",
       "15919    NaN          MONSERRAT                    36\n",
       "15920    NaN          MONSERRAT                    36\n",
       "106764   NaN    VELEZ SARSFIELD                    22\n",
       "110076   NaN  VILLA GRAL. MITRE                     7\n",
       "110331   NaN  VILLA GRAL. MITRE                     7"
      ]
     },
     "execution_count": 11,
     "metadata": {},
     "output_type": "execute_result"
    }
   ],
   "source": [
    "vals = ['d0a0a3a555462be846d751fc2fece38bf8fa3a96', 'b896e5f273bfdaef5bf3987ca3d169801fc78afc', '65a00d06276b9fc3e2ff75d3f6591fa8aa1b73f5',\\\n",
    "        'cfb6026107f5325a80cbef56a8c7449381d44105', '7a0466eafa22d2822a1be8a5898a35cdcf8bd9c4', '6517d45950d8e8f0bcb55d9f4cd6b36e09c12ac4']\n",
    "df = sell_data[sell_data.id_left.isin(vals)]\n",
    "df[['b_id','barrio', 'property_values_b_id']]"
   ]
  },
  {
   "cell_type": "code",
   "execution_count": 12,
   "metadata": {},
   "outputs": [],
   "source": [
    "#sell_data.to_csv('properati_data/sell data/final_file_3.csv')"
   ]
  },
  {
   "cell_type": "code",
   "execution_count": 13,
   "metadata": {},
   "outputs": [
    {
     "data": {
      "text/plain": [
       "array(['2006/12/07', '2007/12/18', '2001/12/10', '2008/12/02',\n",
       "       '2010/12/10', '2007/12/28', '2013/12/18', '2010/12/09',\n",
       "       '2011/12/19', '2014/01/06', '2017/08/06', '2018/02/27',\n",
       "       '2010/12/16', '2004/12/02', '2018/09/02', '2002/11/26',\n",
       "       '2006/12/28', '2010/12/13', '2008/01/02', '2014/01/07',\n",
       "       '2007/12/13', '2007/12/14', '2013/12/19', '2013/12/27',\n",
       "       '2007/12/26', '2009/12/16', '2007/12/17', '2011/12/22',\n",
       "       '2006/12/01', '2010/12/15', '2011/12/23', '2012/12/04',\n",
       "       '2007/12/07', '2018/03/02', '2013/12/20', '2011/12/16',\n",
       "       '2009/12/17', '2007/12/12', '2009/09/16', '2002/11/27',\n",
       "       '2009/12/18', '2004/12/16', '2005/12/01', '2009/09/17',\n",
       "       '2007/12/11', '2017/12/06', '2014/01/03', '2011/12/27',\n",
       "       '2012/12/11', '2011/12/29', '2005/12/16', '2006/12/12',\n",
       "       '2010/12/20', '2017/06/13', '2010/12/14', '2006/12/18',\n",
       "       '2004/12/17', '2005/12/13', '2011/12/28', '2014/01/02',\n",
       "       '2004/12/07', '2003/12/23', '2010/12/17', '2012/12/10',\n",
       "       '2017/06/16', '2014/01/09', '2003/12/03', '2004/12/20',\n",
       "       '2005/12/27', '2003/12/01', '2012/12/07', '2005/12/15',\n",
       "       '2002/11/30', '2003/12/02', '2009/12/21', '2018/05/02',\n",
       "       '2003/12/10', '2005/12/14', '2004/12/03', '2018/01/02',\n",
       "       '2006/12/21', '2006/12/14', '2017/05/06', '2004/12/18',\n",
       "       '2005/12/03', '2004/12/14', '1965/12/03', '2004/12/06',\n",
       "       '2002/11/25', '2002/12/15', '2011/12/26', '2018/02/21',\n",
       "       '2002/11/28', '2002/12/16', '2004/12/21', '2014/01/08',\n",
       "       '2008/01/03', '2017/06/06', '2006/12/06', '2017/09/06',\n",
       "       '2012/12/17', '2013/12/26', '1970/12/03', '2018/02/22',\n",
       "       '2018/02/26', '2018/08/02', '2018/06/02', '2018/02/23',\n",
       "       '2018/07/02', '2003/12/09', '2009/12/23', '2018/02/19',\n",
       "       '2017/06/15', '2018/02/16', '2004/12/22', '2013/01/02',\n",
       "       '2005/12/05', '2005/12/08', '2018/02/14', '2002/12/08',\n",
       "       '2002/12/09', '2004/12/23', '2004/12/13', '2002/12/17',\n",
       "       '2005/12/10', '2002/12/18', '2004/12/29', '2018/02/15',\n",
       "       '2004/12/04', '2012/12/14', '2005/12/21', '2012/12/13',\n",
       "       '2003/12/11', '2017/06/14', '2018/02/13', '2004/12/10',\n",
       "       '2018/02/20', '2005/12/07', '1978/12/03', '1976/12/03',\n",
       "       '2004/12/12', '2002/12/03', '2018/02/25', '2018/02/02',\n",
       "       '2004/12/30', '2005/12/22', '2017/07/06', '2004/12/09',\n",
       "       '2001/12/03', '2013/12/17', '2003/12/19', '2000/12/03',\n",
       "       '2002/11/29', '2002/12/10', '2003/12/05', '2003/12/06',\n",
       "       '2005/12/09', '2004/12/08', '1960/12/03', '2003/12/12',\n",
       "       '2004/12/28', '1958/12/03', '2004/12/11', '2003/12/16',\n",
       "       '2002/12/23', '2005/12/19', '1991/12/03', '1992/12/03',\n",
       "       '2005/12/18', '1994/12/03', '2018/02/18', '2018/10/02',\n",
       "       '1955/12/03', '2018/02/17', '2004/12/26', '1986/12/03',\n",
       "       '2010/12/21', '2005/12/28', '2018/02/24', '2017/06/21',\n",
       "       '2004/12/19', '2003/12/22', '1973/12/03', '1974/12/03',\n",
       "       '1995/12/03', '2004/12/01', '2004/12/15', '1964/12/03',\n",
       "       '1963/12/03', '2002/12/14', '1971/12/03', '1979/12/03',\n",
       "       '2013/12/23', '1969/12/03', '1952/12/03', '1981/12/03',\n",
       "       '1983/12/03', '2005/12/26', '2004/12/27', '1957/12/03',\n",
       "       '2005/12/02', '1954/12/03', '2002/12/12', '1989/12/03',\n",
       "       '2012/10/11', '2003/12/26', '1966/12/03', '1949/12/03'],\n",
       "      dtype=object)"
      ]
     },
     "execution_count": 13,
     "metadata": {},
     "output_type": "execute_result"
    }
   ],
   "source": [
    "sell_data.property_values_Date.unique()"
   ]
  },
  {
   "cell_type": "code",
   "execution_count": null,
   "metadata": {},
   "outputs": [],
   "source": []
  }
 ],
 "metadata": {
  "kernelspec": {
   "display_name": "Python 3",
   "language": "python",
   "name": "python3"
  },
  "language_info": {
   "codemirror_mode": {
    "name": "ipython",
    "version": 3
   },
   "file_extension": ".py",
   "mimetype": "text/x-python",
   "name": "python",
   "nbconvert_exporter": "python",
   "pygments_lexer": "ipython3",
   "version": "3.7.3"
  }
 },
 "nbformat": 4,
 "nbformat_minor": 2
}
