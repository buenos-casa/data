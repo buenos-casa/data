{
 "cells": [
  {
   "cell_type": "code",
   "execution_count": 1,
   "metadata": {},
   "outputs": [],
   "source": [
    "import pandas as pd\n",
    "import numpy as np\n",
    "\n"
   ]
  },
  {
   "cell_type": "markdown",
   "metadata": {},
   "source": [
    "### Import the different files"
   ]
  },
  {
   "cell_type": "code",
   "execution_count": 9,
   "metadata": {},
   "outputs": [],
   "source": [
    "sell_data = pd.read_csv('properati_data/sell data/sell_census_barrios.csv')\n",
    "sell_data = sell_data.drop_duplicates(subset='id_left')\n",
    "health_data = pd.read_csv('properati_data/sell_stripped/sell_census_health.csv')\n",
    "humanity_data = pd.read_csv('properati_data/sell_stripped/sell_census_humanity.csv')\n",
    "property_data = pd.read_csv('properati_data/sell_stripped/sell_census_property.csv')\n",
    "wifi_data = pd.read_csv('properati_data/sell_stripped/sell_census_public_wifi.csv')\n",
    "sports_data = pd.read_csv('properati_data/sell_stripped/sell_census_sports.csv')\n",
    "transport_data = pd.read_csv('properati_data/sell_stripped/sell_census_transportation.csv')\n"
   ]
  },
  {
   "cell_type": "code",
   "execution_count": 10,
   "metadata": {},
   "outputs": [
    {
     "name": "stdout",
     "output_type": "stream",
     "text": [
      "Health:\n",
      " ['field_1' 'id_left' 'lat' 'lon' 'join_long' 'join_lat' 'join_object'\n",
      " 'join_id' 'join_name' 'join_comune' 'distance']\n",
      "\n",
      "Humanity:\n",
      " ['field_1' 'id_left' 'lat' 'lon' 'join_object' 'join_long' 'join_lat'\n",
      " 'join_name' 'join_comune' 'distance']\n",
      "\n",
      "Property:\n",
      " ['field_1' 'id_left' 'lat' 'lon' 'join_Commune' 'join_Longitude'\n",
      " 'join_Latitude' 'join_Date' 'join_Value in US Dollars'\n",
      " 'join_Value of m2 (US Dollars)' 'join_m2' 'join_b_id' 'distance']\n",
      "\n",
      "Wifi:\n",
      " ['field_1' 'id_left' 'lat' 'lon' 'join_lat' 'join_long' 'join_id'\n",
      " 'join_object' 'join_name' 'join_comune' 'distance']\n",
      "\n",
      "Sports:\n",
      " ['field_1' 'id_left' 'lat' 'lon' 'join_long' 'join_lat' 'join_id'\n",
      " 'join_object' 'join_name' 'join_comune' 'distance']\n",
      "\n"
     ]
    }
   ],
   "source": [
    "print ('Health:\\n {}\\n'.format(health_data.columns.values))\n",
    "print ('Humanity:\\n {}\\n'.format(humanity_data.columns.values))\n",
    "print ('Property:\\n {}\\n'.format(property_data.columns.values))\n",
    "print ('Wifi:\\n {}\\n'.format(wifi_data.columns.values))\n",
    "print ('Sports:\\n {}\\n'.format(sports_data.columns.values))\n"
   ]
  },
  {
   "cell_type": "code",
   "execution_count": 11,
   "metadata": {},
   "outputs": [],
   "source": [
    "def rename_columns(label, label_list):\n",
    "    label_dict = {}\n",
    "    \n",
    "    for lab in label_list:\n",
    "        if lab.find('join') == 0:\n",
    "            label_dict[lab] = lab.replace('join',label)\n",
    "        elif lab == 'distance':\n",
    "            label_dict[lab] = label + '_' + lab\n",
    "    return label_dict \n"
   ]
  },
  {
   "cell_type": "code",
   "execution_count": 12,
   "metadata": {},
   "outputs": [],
   "source": [
    "health_data.rename(columns=rename_columns('health',health_data.columns.values), inplace=True)\n",
    "humanity_data.rename(columns=rename_columns('humanity',humanity_data.columns.values), inplace=True)\n",
    "property_data.rename(columns=rename_columns('property_values',property_data.columns.values), inplace=True)\n",
    "wifi_data.rename(columns=rename_columns('public_wifi',wifi_data.columns.values), inplace=True)\n",
    "sports_data.rename(columns=rename_columns('sports',sports_data.columns.values), inplace=True)\n",
    "transport_data.rename(columns=rename_columns('transportation',transport_data.columns.values), inplace=True)\n"
   ]
  },
  {
   "cell_type": "code",
   "execution_count": 13,
   "metadata": {},
   "outputs": [],
   "source": [
    "sell_data = pd.merge(sell_data, health_data, on='id_left', how='left')\n",
    "sell_data = pd.merge(sell_data, humanity_data, on='id_left', how='left')\n",
    "sell_data = pd.merge(sell_data, property_data, on='id_left', how='left')\n",
    "sell_data = pd.merge(sell_data, wifi_data, on='id_left', how='left')\n",
    "sell_data = pd.merge(sell_data, sports_data, on='id_left', how='left')\n",
    "sell_data = pd.merge(sell_data, transport_data, on='id_left', how='left')"
   ]
  },
  {
   "cell_type": "code",
   "execution_count": 14,
   "metadata": {},
   "outputs": [
    {
     "name": "stdout",
     "output_type": "stream",
     "text": [
      "['Unnamed: 0' 'Unnamed: 0.1' 'dataset_date' 'id_left' 'created_on'\n",
      " 'operation' 'property_type' 'place_name' 'country_name' 'state_name'\n",
      " 'geonames_id' 'lat_lon' 'lat_x' 'lon_x' 'price' 'currency'\n",
      " 'price_aprox_local_currency' 'price_aprox_usd' 'coordinates' 'AREA'\n",
      " 'Commune' 'DEPTO' 'FRAC' 'Computer Percent' 'Computer Quantile'\n",
      " 'Cellular Percent' 'Cellular Quantile' 'Rent Percent' 'Rent Quantile'\n",
      " 'LINK' 'Immigration Percent' 'Immigration Quantile' 'Education Percent'\n",
      " 'Education Quantile' 'PERIMETER' 'Owner Percent' 'Owner Quantile' 'PROV'\n",
      " 'RADIO' 'RADPAIS_' 'REDCODE' 'Regular Percent' 'Regular Quantile' 'TIPO'\n",
      " 'Uninhabited Percent' 'Uninhabited Quantile' 'type' 'index_right'\n",
      " 'barrio' 'comuna' 'perimetro' 'area' 'Barrio' 'id' 'b_id' 'field_1_x'\n",
      " 'lat_y' 'lon_y' 'health_long' 'health_lat' 'health_object' 'health_id'\n",
      " 'health_name' 'health_comune' 'health_distance' 'field_1_y' 'lat_x'\n",
      " 'lon_x' 'humanity_object' 'humanity_long' 'humanity_lat' 'humanity_name'\n",
      " 'humanity_comune' 'humanity_distance' 'field_1_x' 'lat_y' 'lon_y'\n",
      " 'property_values_Commune' 'property_values_Longitude'\n",
      " 'property_values_Latitude' 'property_values_Date'\n",
      " 'property_values_Value in US Dollars'\n",
      " 'property_values_Value of m2 (US Dollars)' 'property_values_m2'\n",
      " 'property_values_b_id' 'property_values_distance' 'field_1_y' 'lat_x'\n",
      " 'lon_x' 'public_wifi_lat' 'public_wifi_long' 'public_wifi_id'\n",
      " 'public_wifi_object' 'public_wifi_name' 'public_wifi_comune'\n",
      " 'public_wifi_distance' 'field_1_x' 'lat_y' 'lon_y' 'sports_long'\n",
      " 'sports_lat' 'sports_id' 'sports_object' 'sports_name' 'sports_comune'\n",
      " 'sports_distance' 'field_1_y' 'lat' 'lon' 'transportation_long'\n",
      " 'transportation_lat' 'transportation_id' 'transportation_object'\n",
      " 'transportation_name' 'transportation_distance']\n"
     ]
    }
   ],
   "source": [
    "print (sell_data.columns.values)"
   ]
  },
  {
   "cell_type": "code",
   "execution_count": 16,
   "metadata": {},
   "outputs": [],
   "source": [
    "sell_data = sell_data[['dataset_date','id_left','created_on','operation',\\\n",
    "                         'property_type', 'place_name','country_name','state_name','geonames_id',\\\n",
    "                         'lat_lon', 'lat_x' ,'lon_x' ,'price','currency','price_aprox_local_currency',\\\n",
    "                        'price_aprox_usd','coordinates', 'barrio','comuna','AREA',\\\n",
    "                       'Commune','b_id',\\\n",
    "                        'Computer Percent', 'Computer Quantile','Cellular Percent','Cellular Quantile',\\\n",
    "                       'Rent Percent', 'Rent Quantile','Immigration Percent' ,'Immigration Quantile',\\\n",
    "                       'Education Percent','Education Quantile','Owner Percent','Owner Quantile',\\\n",
    "                       'Regular Percent','Regular Quantile','Uninhabited Percent','Uninhabited Quantile',\\\n",
    "                       'health_long','health_lat','health_object','health_id','health_name','health_comune',\\\n",
    "                       'health_distance','property_values_Commune','property_values_Longitude','property_values_Latitude',\\\n",
    "                       'property_values_Date','property_values_Value in US Dollars','property_values_Value of m2 (US Dollars)',\\\n",
    "                       'property_values_m2', 'property_values_b_id','property_values_distance','public_wifi_lat',\\\n",
    "                       'public_wifi_long','public_wifi_id','public_wifi_object','public_wifi_name', 'public_wifi_comune',\\\n",
    "                       'public_wifi_distance','sports_long','sports_lat','sports_id','sports_object','sports_name',\\\n",
    "                       'sports_comune', 'sports_distance','transportation_long','transportation_lat','transportation_id',\\\n",
    "                       'transportation_object','transportation_name','transportation_distance'\n",
    "                      ]]"
   ]
  },
  {
   "cell_type": "code",
   "execution_count": 18,
   "metadata": {},
   "outputs": [
    {
     "data": {
      "text/plain": [
       "116413"
      ]
     },
     "execution_count": 18,
     "metadata": {},
     "output_type": "execute_result"
    }
   ],
   "source": [
    "len(sell_data)"
   ]
  },
  {
   "cell_type": "code",
   "execution_count": 19,
   "metadata": {},
   "outputs": [],
   "source": [
    "sell_data.to_csv('properati_data/sell data/final_file_2.csv')"
   ]
  },
  {
   "cell_type": "code",
   "execution_count": null,
   "metadata": {},
   "outputs": [],
   "source": [
    "rent_data = pd.read_csv('properati_data/rent data/rent-combined.csv'')\n",
    "rent_data = rent_data.drop_duplicates(subset='id')\n",
    "rent_data['id_left'] = rent_data['id']\n",
    "                        \n",
    "rent_data = pd.read_csv('properati_data/rent_strippped/sell_census_health.csv')\n",
    "humanity_data = pd.read_csv('properati_data/sell_stripped/sell_census_humanity.csv')\n",
    "property_data = pd.read_csv('properati_data/sell_stripped/sell_census_property.csv')\n",
    "wifi_data = pd.read_csv('properati_data/sell_stripped/sell_census_public_wifi.csv')\n",
    "sports_data = pd.read_csv('properati_data/sell_stripped/sell_census_sports.csv')\n",
    "transport_data = pd.read_csv('properati_data/sell_stripped/sell_census_transportation.csv')"
   ]
  }
 ],
 "metadata": {
  "kernelspec": {
   "display_name": "Python 3",
   "language": "python",
   "name": "python3"
  },
  "language_info": {
   "codemirror_mode": {
    "name": "ipython",
    "version": 3
   },
   "file_extension": ".py",
   "mimetype": "text/x-python",
   "name": "python",
   "nbconvert_exporter": "python",
   "pygments_lexer": "ipython3",
   "version": "3.7.3"
  }
 },
 "nbformat": 4,
 "nbformat_minor": 2
}
