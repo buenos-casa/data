{
 "cells": [
  {
   "cell_type": "code",
   "execution_count": 1,
   "metadata": {},
   "outputs": [],
   "source": [
    "import pandas as pd\n",
    "import ast\n",
    "import numpy as np\n",
    "import sys\n",
    "import geopandas\n",
    "from geopy.distance import geodesic\n",
    "from shapely.geometry import Point\n",
    "from shapely.geometry.polygon import Polygon\n",
    "from shapely.ops import nearest_points\n",
    "from shapely import wkt"
   ]
  },
  {
   "cell_type": "markdown",
   "metadata": {},
   "source": [
    "### import data"
   ]
  },
  {
   "cell_type": "code",
   "execution_count": 5,
   "metadata": {},
   "outputs": [],
   "source": [
    "properati = pd.read_csv('properati_data/combined_sell.csv', encoding= \"ISO-8859-1\")\n",
    "prop_data = pd.read_csv('prop_data/cleaned_data.csv', encoding= \"ISO-8859-1\")\n",
    "census = pd.read_csv('census/cleaned_data2.csv',encoding= \"ISO-8859-1\")"
   ]
  },
  {
   "cell_type": "markdown",
   "metadata": {},
   "source": [
    "### Create GeoPandas dataframes"
   ]
  },
  {
   "cell_type": "code",
   "execution_count": 6,
   "metadata": {},
   "outputs": [],
   "source": [
    "def modify_poly(data):\n",
    "    coord_list = []\n",
    "    #row = ast.literal_eval(data)\n",
    "    for coord in data:\n",
    "        coord_list.append(tuple(coord))\n",
    "    return coord_list"
   ]
  },
  {
   "cell_type": "code",
   "execution_count": 7,
   "metadata": {},
   "outputs": [
    {
     "name": "stdout",
     "output_type": "stream",
     "text": [
      "False\n",
      "1871732\n",
      "3552\n",
      "False\n"
     ]
    }
   ],
   "source": [
    "# create a new column called coordinates on properati data frame\n",
    "properati['coordinates'] = list(zip(properati.lon, properati.lat))\n",
    "properati['coordinates'] = properati['coordinates'].apply(Point)\n",
    "\n",
    "# convert properati data into geopandas dataframe\n",
    "properati_gdf = geopandas.GeoDataFrame(properati, geometry='coordinates')\n",
    "\n",
    "# convert the longitudes and latitudes in the properaty values dataframe into float (they were originally in string)\n",
    "prop_data.Latitude = pd.to_numeric(prop_data.Latitude, errors='coerce')\n",
    "prop_data.Longitude = pd.to_numeric(prop_data.Longitude, errors='coerce')\n",
    "\n",
    "#print (properati_gdf.coordinates.head(5))\n",
    "print (properati_gdf.coordinates.isnull().values.any())\n",
    "print (len(properati_gdf))\n",
    "\n",
    "# convert property values data into geopandas dataframe\n",
    "prop_data['coordinates'] = list(zip(prop_data.Longitude, prop_data.Latitude))\n",
    "#prop_data['coordinates'] = list(zip(prop_data.Latitude, prop_data.Longitude))\n",
    "prop_data['coordinates'] = prop_data['coordinates'].apply(Point)\n",
    "prop_data_gdf = geopandas.GeoDataFrame(prop_data, geometry='coordinates')\n",
    "\n",
    "\n",
    "# convert census polygon data into tuples and polygon\n",
    "census.coordinates = census.coordinates.apply(lambda x: ast.literal_eval(x)[0])\n",
    "census.coordinates = census.coordinates.apply(lambda x: modify_poly(x))\n",
    "census.coordinates = census.coordinates.apply(Polygon)\n",
    "\n",
    "census_gdf = geopandas.GeoDataFrame(census, geometry='coordinates')\n",
    "print (len(census_gdf))\n",
    "#print (census_gdf.coordinates[0])\n",
    "print (census_gdf.coordinates.isnull().values.any())"
   ]
  },
  {
   "cell_type": "markdown",
   "metadata": {},
   "source": [
    "### Filter only data that is in the city of the Buenos Aires"
   ]
  },
  {
   "cell_type": "code",
   "execution_count": 8,
   "metadata": {},
   "outputs": [
    {
     "name": "stderr",
     "output_type": "stream",
     "text": [
      "/anaconda3/envs/geopandas/lib/python3.7/site-packages/numpy/lib/function_base.py:2167: RuntimeWarning: invalid value encountered in ? (vectorized)\n",
      "  outputs = ufunc(*inputs)\n"
     ]
    },
    {
     "name": "stdout",
     "output_type": "stream",
     "text": [
      "0.25%\n",
      "464869\n"
     ]
    }
   ],
   "source": [
    "properati_census_gdf = geopandas.sjoin(properati_gdf, census_gdf, how=\"inner\", op='within')\n",
    "print ('{:.2f}%'.format(len(properati_census_gdf)/len(properati_gdf)))\n",
    "\n",
    "print (len(properati_census_gdf))"
   ]
  },
  {
   "cell_type": "markdown",
   "metadata": {},
   "source": [
    "#### save the properati/census combined data because the sjoin takes forever"
   ]
  },
  {
   "cell_type": "code",
   "execution_count": 3,
   "metadata": {},
   "outputs": [
    {
     "ename": "NameError",
     "evalue": "name 'properati_census_gdf' is not defined",
     "output_type": "error",
     "traceback": [
      "\u001b[0;31m---------------------------------------------------------------------------\u001b[0m",
      "\u001b[0;31mNameError\u001b[0m                                 Traceback (most recent call last)",
      "\u001b[0;32m<ipython-input-3-02d86c75ccbd>\u001b[0m in \u001b[0;36m<module>\u001b[0;34m\u001b[0m\n\u001b[0;32m----> 1\u001b[0;31m \u001b[0mtemp_df\u001b[0m \u001b[0;34m=\u001b[0m \u001b[0mpd\u001b[0m\u001b[0;34m.\u001b[0m\u001b[0mDataFrame\u001b[0m\u001b[0;34m(\u001b[0m\u001b[0mproperati_census_gdf\u001b[0m\u001b[0;34m)\u001b[0m\u001b[0;34m\u001b[0m\u001b[0;34m\u001b[0m\u001b[0m\n\u001b[0m\u001b[1;32m      2\u001b[0m \u001b[0mtemp_df\u001b[0m\u001b[0;34m.\u001b[0m\u001b[0mto_csv\u001b[0m\u001b[0;34m(\u001b[0m\u001b[0;34m'properati_data/sell_census.csv'\u001b[0m\u001b[0;34m)\u001b[0m\u001b[0;34m\u001b[0m\u001b[0;34m\u001b[0m\u001b[0m\n\u001b[1;32m      3\u001b[0m \u001b[0mtemp_df\u001b[0m \u001b[0;34m=\u001b[0m \u001b[0mtemp_df\u001b[0m\u001b[0;34m.\u001b[0m\u001b[0mdrop_duplicates\u001b[0m\u001b[0;34m(\u001b[0m\u001b[0msubset\u001b[0m\u001b[0;34m=\u001b[0m\u001b[0;34m'id_left'\u001b[0m\u001b[0;34m)\u001b[0m\u001b[0;34m\u001b[0m\u001b[0;34m\u001b[0m\u001b[0m\n\u001b[1;32m      4\u001b[0m \u001b[0mprint\u001b[0m \u001b[0;34m(\u001b[0m\u001b[0mprop_census_df\u001b[0m\u001b[0;34m.\u001b[0m\u001b[0mhead\u001b[0m\u001b[0;34m(\u001b[0m\u001b[0;36m5\u001b[0m\u001b[0;34m)\u001b[0m\u001b[0;34m)\u001b[0m\u001b[0;34m\u001b[0m\u001b[0;34m\u001b[0m\u001b[0m\n\u001b[1;32m      5\u001b[0m \u001b[0mproperati_census_gdf\u001b[0m \u001b[0;34m=\u001b[0m \u001b[0mgeopandas\u001b[0m\u001b[0;34m.\u001b[0m\u001b[0mGeoDataFrame\u001b[0m\u001b[0;34m(\u001b[0m\u001b[0mprop_census_df\u001b[0m\u001b[0;34m,\u001b[0m \u001b[0mgeometry\u001b[0m\u001b[0;34m=\u001b[0m\u001b[0;34m'coordinates'\u001b[0m\u001b[0;34m)\u001b[0m\u001b[0;34m\u001b[0m\u001b[0;34m\u001b[0m\u001b[0m\n",
      "\u001b[0;31mNameError\u001b[0m: name 'properati_census_gdf' is not defined"
     ]
    }
   ],
   "source": [
    "temp_df = pd.DataFrame(properati_census_gdf)\n",
    "temp_df.to_csv('properati_data/sell_census.csv')\n",
    "temp_df = temp_df.drop_duplicates(subset='id_left')\n",
    "print (prop_census_df.head(5))\n",
    "properati_census_gdf = geopandas.GeoDataFrame(prop_census_df, geometry='coordinates')"
   ]
  },
  {
   "cell_type": "code",
   "execution_count": 5,
   "metadata": {},
   "outputs": [
    {
     "name": "stdout",
     "output_type": "stream",
     "text": [
      "116425\n"
     ]
    }
   ],
   "source": [
    "temp_df = pd.read_csv('properati_data/sell/sell_census.csv')\n",
    "#print (temp_df.id_left.head(5))\n",
    "temp_df = temp_df.drop_duplicates(subset='id_left')\n",
    "print (len(temp_df))\n",
    "temp_df.to_csv('properati_data/sell/sell_census_stripped.csv', columns=['id_left', 'lat', 'lon'])\n",
    "temp_df.coordinates = list(zip(temp_df.lon, temp_df.lat))\n",
    "temp_df.coordinates = temp_df.coordinates.apply(Point)\n",
    "properati_census_gdf = geopandas.GeoDataFrame(temp_df, geometry='coordinates')\n",
    "#print ('{:.2f}'.format((len(properati_census_gdf)/ 464869)*100))"
   ]
  },
  {
   "cell_type": "markdown",
   "metadata": {},
   "source": [
    "#### import barrios geojson"
   ]
  },
  {
   "cell_type": "code",
   "execution_count": 6,
   "metadata": {},
   "outputs": [
    {
     "name": "stdout",
     "output_type": "stream",
     "text": [
      "0                 PALERMO\n",
      "1                BELGRANO\n",
      "2                   NUÑEZ\n",
      "3           VILLA ORTUZAR\n",
      "4               BALVANERA\n",
      "5           SAN CRISTOBAL\n",
      "6            VILLA CRESPO\n",
      "7     VILLA GENERAL MITRE\n",
      "8                FLORESTA\n",
      "9        PARQUE CHACABUCO\n",
      "10      PARQUE AVELLANEDA\n",
      "11              CABALLITO\n",
      "12                ALMAGRO\n",
      "13                POMPEYA\n",
      "14          VILLA URQUIZA\n",
      "15               SAAVEDRA\n",
      "16       VILLA PUEYRREDON\n",
      "17             VILLA LURO\n",
      "18              MATADEROS\n",
      "19                 FLORES\n",
      "20             VERSAILLES\n",
      "21                LINIERS\n",
      "22         VELEZ SARFIELD\n",
      "23           VILLA DEVOTO\n",
      "24                   BOCA\n",
      "25              AGRONOMIA\n",
      "26              CHACARITA\n",
      "27               PATERNAL\n",
      "28             COLEGIALES\n",
      "29       VILLA DEL PARQUE\n",
      "30           VILLA LUGANO\n",
      "31       VILLA SANTA RITA\n",
      "32               BARRACAS\n",
      "33           MONTE CASTRO\n",
      "34        VILLA RIACHUELO\n",
      "35                 RETIRO\n",
      "36             MONTSERRAT\n",
      "37          VILLA SOLDATI\n",
      "38           CONSTITUCION\n",
      "39                  BOEDO\n",
      "40       PARQUE PATRICIOS\n",
      "41              SAN TELMO\n",
      "42                COGHLAN\n",
      "43            SAN NICOLAS\n",
      "44               RECOLETA\n",
      "45             VILLA REAL\n",
      "46          NUEVA POMPEYA\n",
      "47            PARQUE CHAS\n",
      "48          PUERTO MADERO\n",
      "Name: barrio, dtype: object\n"
     ]
    }
   ],
   "source": [
    "barrios = pd.read_csv('shape files/barrios.csv')\n",
    "barrios.WKT = barrios.WKT.apply(wkt.loads)\n",
    "\n",
    "barrios['barrio'] = (barrios['barrio'].apply(lambda x: str(x.replace('VELEZ SARSFIELD', 'VELEZ SARFIELD'))))\n",
    "barrios['barrio'] = (barrios['barrio'].apply(lambda x: str(x.replace('VILLA GRAL. MITRE', 'VILLA GENERAL MITRE'))))\n",
    "barrios['barrio'] = (barrios['barrio'].apply(lambda x: str(x.replace('VILLA GRAL. MITR', 'VILLA GENERAL MITRE'))))\n",
    "barrios['barrio'] = (barrios['barrio'].apply(lambda x: str(x.replace('VILLA GRAL MITRE', 'VILLA GENERAL MITRE'))))\n",
    "barrios['barrio'] = (barrios['barrio'].apply(lambda x: str(x.replace('VERSALLES', 'VERSAILLES'))))\n",
    "barrios['barrio'] = (barrios['barrio'].apply(lambda x: str(x.replace('MONSERRAT', 'MONTSERRAT'))))\n",
    "\n",
    "barrio_df = pd.read_csv('barrio_table.csv')\n",
    "barrio_df['b_id'] = [int(barrio_df[barrio_df.Barrio == i].id) for i in barrio_df.Barrio]\n",
    "barrio_df['barrio'] = barrio_df.Barrio\n",
    "\n",
    "print (barrio_df['barrio'])\n",
    "\n",
    "barrios = pd.merge(barrios, barrio_df, on='barrio', how='left')\n",
    "df = barrios[barrios.id.isnull()]\n",
    "\n",
    "barrios_gdf = geopandas.GeoDataFrame(barrios, geometry='WKT')"
   ]
  },
  {
   "cell_type": "code",
   "execution_count": null,
   "metadata": {},
   "outputs": [
    {
     "name": "stdout",
     "output_type": "stream",
     "text": [
      "['Unnamed: 0' 'dataset_date' 'id_left' 'created_on' 'operation'\n",
      " 'property_type' 'place_name' 'country_name' 'state_name' 'geonames_id'\n",
      " 'lat_lon' 'lat' 'lon' 'price' 'currency' 'price_aprox_local_currency'\n",
      " 'price_aprox_usd' 'coordinates' 'AREA' 'Commune' 'DEPTO' 'FRAC'\n",
      " 'Computer Percent' 'Computer Quantile' 'Cellular Percent'\n",
      " 'Cellular Quantile' 'Rent Percent' 'Rent Quantile' 'LINK'\n",
      " 'Immigration Percent' 'Immigration Quantile' 'Education Percent'\n",
      " 'Education Quantile' 'PERIMETER' 'Owner Percent' 'Owner Quantile' 'PROV'\n",
      " 'RADIO' 'RADPAIS_' 'REDCODE' 'Regular Percent' 'Regular Quantile' 'TIPO'\n",
      " 'Uninhabited Percent' 'Uninhabited Quantile' 'type']\n"
     ]
    }
   ],
   "source": [
    "properati_census_gdf = properati_census_gdf.drop(columns=['id_right', 'index_right'], axis=1)\n",
    "print (properati_census_gdf.columns.values)\n",
    "final_gdf = geopandas.sjoin(properati_census_gdf , barrios_gdf, how=\"inner\", op='within')\n",
    "print (final_gdf.columns.values)\n",
    "print (len(final_gdf))\n"
   ]
  },
  {
   "cell_type": "code",
   "execution_count": null,
   "metadata": {},
   "outputs": [],
   "source": [
    "temp_df = pd.DataFrame(final_gdf)\n",
    "df = temp_df[temp_df.b_id.isnull()]\n",
    "print (df)\n",
    "#temp_df.to_csv('properati_data/sell data/sell_census_barrios.csv')\n"
   ]
  },
  {
   "cell_type": "code",
   "execution_count": null,
   "metadata": {},
   "outputs": [],
   "source": [
    "filtered_gdf = final_gdf[['dataset_date', 'created_on', 'operation', 'property_type', 'place_name',\\\n",
    "                          'state_name', 'price', 'currency', 'price_aprox_local_currency', 'price_aprox_usd',\\\n",
    "                         'Commune', 'barrio','b_id', 'comuna', 'perimetro','area']]\n",
    "\n",
    "filter_df = pd.DataFrame(filtered_gdf)\n",
    "filter_df = filter_df[filter_df['price_aprox_local_currency'] > 0]"
   ]
  },
  {
   "cell_type": "code",
   "execution_count": null,
   "metadata": {},
   "outputs": [],
   "source": [
    "barrios_filter_df = filter_df[['barrio','comuna','b_id', 'perimetro','area','price_aprox_local_currency', 'price_aprox_usd','created_on']]\n",
    "grouped = barrios_filter_df.groupby(['b_id','barrio'], as_index=False).agg({\"price_aprox_local_currency\": [\"min\", \"max\", \"mean\", \"std\"], \"price_aprox_usd\": [\"min\", \"max\", \"mean\", \"std\"],\\\n",
    "                                                \"created_on\": \"count\"})\n",
    "grouped.columns = [\"_\".join(x) for x in grouped.columns.ravel()]\n",
    "print (grouped.head(5))\n",
    "grouped.to_csv('properati_data/sell/properati_sell_grouped.csv')"
   ]
  },
  {
   "cell_type": "code",
   "execution_count": null,
   "metadata": {},
   "outputs": [],
   "source": [
    "grouped.to_json(\"properati_data/sell/properati_sell.json\", orient = \"records\", date_format = \"epoch\", double_precision = 10, force_ascii = True, date_unit = \"ms\", default_handler = None)\n",
    "\n"
   ]
  },
  {
   "cell_type": "code",
   "execution_count": null,
   "metadata": {},
   "outputs": [],
   "source": [
    "filter_df['created_on'] = pd.to_datetime(filter_df['created_on'])\n",
    "filter_df['month'] = filter_df.created_on.apply(lambda x: x.month)\n",
    "filter_df['year'] = filter_df.created_on.apply(lambda x: x.year)\n",
    "filter_df = filter_df[filter_df['price_aprox_local_currency'] > 0]\n",
    "\n",
    "barrios_filter_df = filter_df[['barrio','b_id','dataset_date','comuna','perimetro','area','price_aprox_local_currency', 'price_aprox_usd',\\\n",
    "                             'created_on', 'month', 'year']]\n",
    "print (barrios_filter_df.head(5))"
   ]
  },
  {
   "cell_type": "code",
   "execution_count": null,
   "metadata": {},
   "outputs": [],
   "source": [
    "grouped_month = barrios_filter_df.groupby(['barrio', 'b_id','month', 'year'], as_index=False).agg({\"price_aprox_local_currency\": [\"min\", \"max\", \"mean\", \"std\"], \"price_aprox_usd\": [\"min\", \"max\", \"mean\", \"std\"],\\\n",
    "                                                \"created_on\": \"count\"}).fillna(0) #for the std deviation values that resulted in NaN \n",
    "grouped_month.columns = [\"_\".join(x) for x in grouped_month.columns.ravel()]\n",
    "print (grouped_month.head(5))\n",
    "print (len(grouped_month))"
   ]
  },
  {
   "cell_type": "code",
   "execution_count": null,
   "metadata": {},
   "outputs": [],
   "source": [
    "grouped_month.to_csv('properati_data/sell/properati_sell_grouped_month.csv')\n",
    "grouped_month.to_json(\"properati_data/sell/properati_sell_month.json\", orient = \"records\", date_format = \"epoch\", double_precision = 10, force_ascii = True, date_unit = \"ms\", default_handler = None)\n",
    "\n"
   ]
  },
  {
   "cell_type": "code",
   "execution_count": null,
   "metadata": {},
   "outputs": [],
   "source": []
  }
 ],
 "metadata": {
  "kernelspec": {
   "display_name": "Python 3",
   "language": "python",
   "name": "python3"
  },
  "language_info": {
   "codemirror_mode": {
    "name": "ipython",
    "version": 3
   },
   "file_extension": ".py",
   "mimetype": "text/x-python",
   "name": "python",
   "nbconvert_exporter": "python",
   "pygments_lexer": "ipython3",
   "version": "3.7.3"
  }
 },
 "nbformat": 4,
 "nbformat_minor": 2
}
