{
 "cells": [
  {
   "cell_type": "code",
   "execution_count": 14,
   "metadata": {},
   "outputs": [],
   "source": [
    "import pandas as pd\n",
    "import ast\n",
    "import numpy as np\n",
    "import sys\n",
    "import geopandas\n",
    "from geopy.distance import geodesic\n",
    "from shapely.geometry import Point\n",
    "from shapely.geometry.polygon import Polygon\n",
    "from shapely.ops import nearest_points\n",
    "from shapely import wkt"
   ]
  },
  {
   "cell_type": "markdown",
   "metadata": {},
   "source": [
    "### import data"
   ]
  },
  {
   "cell_type": "code",
   "execution_count": 5,
   "metadata": {},
   "outputs": [],
   "source": [
    "properati = pd.read_csv('properati_data/combined_sell.csv', encoding= \"ISO-8859-1\")\n",
    "prop_data = pd.read_csv('prop_data/cleaned_data.csv', encoding= \"ISO-8859-1\")\n",
    "census = pd.read_csv('census/cleaned_data2.csv',encoding= \"ISO-8859-1\")"
   ]
  },
  {
   "cell_type": "markdown",
   "metadata": {},
   "source": [
    "### Create GeoPandas dataframes"
   ]
  },
  {
   "cell_type": "code",
   "execution_count": 6,
   "metadata": {},
   "outputs": [],
   "source": [
    "def modify_poly(data):\n",
    "    coord_list = []\n",
    "    #row = ast.literal_eval(data)\n",
    "    for coord in data:\n",
    "        coord_list.append(tuple(coord))\n",
    "    return coord_list"
   ]
  },
  {
   "cell_type": "code",
   "execution_count": 7,
   "metadata": {},
   "outputs": [
    {
     "name": "stdout",
     "output_type": "stream",
     "text": [
      "False\n",
      "1871732\n",
      "3552\n",
      "False\n"
     ]
    }
   ],
   "source": [
    "# create a new column called coordinates on properati data frame\n",
    "properati['coordinates'] = list(zip(properati.lon, properati.lat))\n",
    "properati['coordinates'] = properati['coordinates'].apply(Point)\n",
    "\n",
    "# convert properati data into geopandas dataframe\n",
    "properati_gdf = geopandas.GeoDataFrame(properati, geometry='coordinates')\n",
    "\n",
    "# convert the longitudes and latitudes in the properaty values dataframe into float (they were originally in string)\n",
    "prop_data.Latitude = pd.to_numeric(prop_data.Latitude, errors='coerce')\n",
    "prop_data.Longitude = pd.to_numeric(prop_data.Longitude, errors='coerce')\n",
    "\n",
    "#print (properati_gdf.coordinates.head(5))\n",
    "print (properati_gdf.coordinates.isnull().values.any())\n",
    "print (len(properati_gdf))\n",
    "\n",
    "# convert property values data into geopandas dataframe\n",
    "prop_data['coordinates'] = list(zip(prop_data.Longitude, prop_data.Latitude))\n",
    "#prop_data['coordinates'] = list(zip(prop_data.Latitude, prop_data.Longitude))\n",
    "prop_data['coordinates'] = prop_data['coordinates'].apply(Point)\n",
    "prop_data_gdf = geopandas.GeoDataFrame(prop_data, geometry='coordinates')\n",
    "\n",
    "\n",
    "# convert census polygon data into tuples and polygon\n",
    "census.coordinates = census.coordinates.apply(lambda x: ast.literal_eval(x)[0])\n",
    "census.coordinates = census.coordinates.apply(lambda x: modify_poly(x))\n",
    "census.coordinates = census.coordinates.apply(Polygon)\n",
    "\n",
    "census_gdf = geopandas.GeoDataFrame(census, geometry='coordinates')\n",
    "print (len(census_gdf))\n",
    "#print (census_gdf.coordinates[0])\n",
    "print (census_gdf.coordinates.isnull().values.any())"
   ]
  },
  {
   "cell_type": "markdown",
   "metadata": {},
   "source": [
    "### Filter only data that is in the city of the Buenos Aires"
   ]
  },
  {
   "cell_type": "code",
   "execution_count": 8,
   "metadata": {},
   "outputs": [
    {
     "name": "stderr",
     "output_type": "stream",
     "text": [
      "/anaconda3/envs/geopandas/lib/python3.7/site-packages/numpy/lib/function_base.py:2167: RuntimeWarning: invalid value encountered in ? (vectorized)\n",
      "  outputs = ufunc(*inputs)\n"
     ]
    },
    {
     "name": "stdout",
     "output_type": "stream",
     "text": [
      "0.25%\n",
      "464869\n"
     ]
    }
   ],
   "source": [
    "properati_census_gdf = geopandas.sjoin(properati_gdf, census_gdf, how=\"inner\", op='within')\n",
    "print ('{:.2f}%'.format(len(properati_census_gdf)/len(properati_gdf)))\n",
    "\n",
    "print (len(properati_census_gdf))"
   ]
  },
  {
   "cell_type": "markdown",
   "metadata": {},
   "source": [
    "#### save the properati/census combined data because the sjoin takes forever"
   ]
  },
  {
   "cell_type": "code",
   "execution_count": 15,
   "metadata": {},
   "outputs": [],
   "source": [
    "temp_df = pd.DataFrame(properati_census_gdf)\n",
    "temp_df.to_csv('properati_data/sell_census.csv')"
   ]
  },
  {
   "cell_type": "markdown",
   "metadata": {},
   "source": [
    "#### import barrios geojson"
   ]
  },
  {
   "cell_type": "code",
   "execution_count": 16,
   "metadata": {},
   "outputs": [],
   "source": [
    "barrios = pd.read_csv('shape files/barrios.csv')\n",
    "barrios.WKT = barrios.WKT.apply(wkt.loads)\n",
    "barrios_gdf = geopandas.GeoDataFrame(barrios, geometry='WKT')"
   ]
  },
  {
   "cell_type": "code",
   "execution_count": 20,
   "metadata": {},
   "outputs": [
    {
     "name": "stdout",
     "output_type": "stream",
     "text": [
      "['dataset_date' 'created_on' 'operation' 'property_type' 'place_name'\n",
      " 'country_name' 'state_name' 'geonames_id' 'lat_lon' 'lat' 'lon' 'price'\n",
      " 'currency' 'price_aprox_local_currency' 'price_aprox_usd' 'coordinates'\n",
      " 'AREA' 'Commune' 'DEPTO' 'FRAC' 'Computer Percent' 'Computer Quantile'\n",
      " 'Cellular Percent' 'Cellular Quantile' 'Rent Percent' 'Rent Quantile'\n",
      " 'LINK' 'Immigration Percent' 'Immigration Quantile' 'Education Percent'\n",
      " 'Education Quantile' 'PERIMETER' 'Owner Percent' 'Owner Quantile' 'PROV'\n",
      " 'RADIO' 'RADPAIS_' 'REDCODE' 'Regular Percent' 'Regular Quantile' 'TIPO'\n",
      " 'Uninhabited Percent' 'Uninhabited Quantile' 'type']\n",
      "['dataset_date' 'created_on' 'operation' 'property_type' 'place_name'\n",
      " 'country_name' 'state_name' 'geonames_id' 'lat_lon' 'lat' 'lon' 'price'\n",
      " 'currency' 'price_aprox_local_currency' 'price_aprox_usd' 'coordinates'\n",
      " 'AREA' 'Commune' 'DEPTO' 'FRAC' 'Computer Percent' 'Computer Quantile'\n",
      " 'Cellular Percent' 'Cellular Quantile' 'Rent Percent' 'Rent Quantile'\n",
      " 'LINK' 'Immigration Percent' 'Immigration Quantile' 'Education Percent'\n",
      " 'Education Quantile' 'PERIMETER' 'Owner Percent' 'Owner Quantile' 'PROV'\n",
      " 'RADIO' 'RADPAIS_' 'REDCODE' 'Regular Percent' 'Regular Quantile' 'TIPO'\n",
      " 'Uninhabited Percent' 'Uninhabited Quantile' 'type' 'index_right'\n",
      " 'barrio' 'comuna' 'perimetro' 'area']\n",
      "464795\n"
     ]
    }
   ],
   "source": [
    "#properati_census_gdf = properati_census_gdf.drop(columns=['id_left', 'id_right', 'index_right'], axis=1)\n",
    "print (properati_census_gdf.columns.values)\n",
    "final_gdf = geopandas.sjoin(properati_census_gdf , barrios_gdf, how=\"inner\", op='within')\n",
    "print (final_gdf.columns.values)\n",
    "print (len(final_gdf))\n"
   ]
  },
  {
   "cell_type": "code",
   "execution_count": 21,
   "metadata": {},
   "outputs": [],
   "source": [
    "filtered_gdf = final_gdf[['dataset_date', 'created_on', 'operation', 'property_type', 'place_name',\\\n",
    "                          'state_name', 'price', 'currency', 'price_aprox_local_currency', 'price_aprox_usd',\\\n",
    "                         'Commune', 'Computer Percent', 'Computer Quantile', 'Cellular Percent', 'Cellular Quantile',\\\n",
    "                          'Rent Percent','Rent Quantile','Immigration Percent', 'Immigration Quantile','Education Percent', \\\n",
    "                          'Education Quantile', 'Owner Percent','Owner Quantile','Regular Percent','Regular Quantile', \\\n",
    "                          'Uninhabited Percent','Uninhabited Quantile','barrio', 'comuna', 'perimetro','area']]\n",
    "\n",
    "filter_df = pd.DataFrame(filtered_gdf)"
   ]
  },
  {
   "cell_type": "code",
   "execution_count": 22,
   "metadata": {},
   "outputs": [
    {
     "name": "stdout",
     "output_type": "stream",
     "text": [
      "     barrio_  price_aprox_local_currency_min  price_aprox_local_currency_max  \\\n",
      "0  AGRONOMIA                             0.0                      11388300.0   \n",
      "1    ALMAGRO                             0.0                     197603750.0   \n",
      "2  BALVANERA                             0.0                      88222500.0   \n",
      "3   BARRACAS                             0.0                     265072500.0   \n",
      "4   BELGRANO                             0.0                     107992500.0   \n",
      "\n",
      "   price_aprox_local_currency_mean  price_aprox_local_currency_std  \\\n",
      "0                     2.855905e+06                    2.077619e+06   \n",
      "1                     2.700272e+06                    3.901816e+06   \n",
      "2                     2.747228e+06                    3.509469e+06   \n",
      "3                     3.983442e+06                    1.030250e+07   \n",
      "4                     6.334873e+06                    8.465324e+06   \n",
      "\n",
      "   price_aprox_usd_min  price_aprox_usd_max  price_aprox_usd_mean  \\\n",
      "0                  0.0             580000.0         168220.197950   \n",
      "1                  0.0           10625000.0         159827.639711   \n",
      "2                  0.0            5000000.0         162875.923707   \n",
      "3                  0.0           13500000.0         238344.183608   \n",
      "4                  0.0            5500000.0         374876.375069   \n",
      "\n",
      "   price_aprox_usd_std  Computer Percent_mean  Cellular Percent_mean  \\\n",
      "0        118876.459404              72.893866              86.650388   \n",
      "1        223340.280441              71.353607              87.601881   \n",
      "2        205433.975437              65.264886              85.768615   \n",
      "3        612381.043394              65.690265              86.197899   \n",
      "4        500833.593424              80.298747              89.997340   \n",
      "\n",
      "   Rent Percent_mean  Immigration Percent_mean  Education Percent_mean  \\\n",
      "0          21.518634                  7.256599               34.930047   \n",
      "1          35.815126                 11.146002               41.499409   \n",
      "2          42.969929                 17.577944               35.319612   \n",
      "3          31.719952                 11.221331               27.983561   \n",
      "4          25.377507                  9.078360               54.796367   \n",
      "\n",
      "   Owner Percent_mean  created_on_count  \n",
      "0           66.623370              1288  \n",
      "1           50.361142             21473  \n",
      "2           42.237398             24429  \n",
      "3           53.361443              6235  \n",
      "4           62.552139             27444  \n"
     ]
    }
   ],
   "source": [
    "barrios_filter_df = filter_df[['barrio','comuna','perimetro','area','price_aprox_local_currency', 'price_aprox_usd', 'Computer Percent',\\\n",
    "                              'Cellular Percent', 'Rent Percent','Immigration Percent', 'Education Percent',\\\n",
    "                              'Owner Percent', 'created_on']]\n",
    "grouped = barrios_filter_df.groupby('barrio', as_index=False).agg({\"price_aprox_local_currency\": [\"min\", \"max\", \"mean\", \"std\"], \"price_aprox_usd\": [\"min\", \"max\", \"mean\", \"std\"],\\\n",
    "                                                \"Computer Percent\": \"mean\", \"Cellular Percent\": \"mean\", \"Rent Percent\": \"mean\",\\\n",
    "                                                \"Immigration Percent\": \"mean\", \"Education Percent\": \"mean\", \"Owner Percent\": \"mean\",\\\n",
    "                                                \"created_on\": \"count\"})\n",
    "grouped.columns = [\"_\".join(x) for x in grouped.columns.ravel()]\n",
    "print (grouped.head(5))\n",
    "grouped.to_csv('properati_data/properati_sell_grouped.csv')"
   ]
  },
  {
   "cell_type": "code",
   "execution_count": 23,
   "metadata": {},
   "outputs": [],
   "source": [
    "grouped.to_json(\"properati_data/properati_sell.json\", orient = \"records\", date_format = \"epoch\", double_precision = 10, force_ascii = True, date_unit = \"ms\", default_handler = None)\n",
    "\n"
   ]
  },
  {
   "cell_type": "code",
   "execution_count": 25,
   "metadata": {},
   "outputs": [
    {
     "name": "stdout",
     "output_type": "stream",
     "text": [
      "          barrio  dataset_date  comuna     perimetro          area  \\\n",
      "1       BARRACAS        201501       4  13018.210271  7.961000e+06   \n",
      "13547   BARRACAS        201501       4  13018.210271  7.961000e+06   \n",
      "38029   BARRACAS        201502       4  13018.210271  7.961000e+06   \n",
      "51933   BARRACAS        201502       4  13018.210271  7.961000e+06   \n",
      "109853  BARRACAS        201502       4  13018.210271  7.961000e+06   \n",
      "\n",
      "        price_aprox_local_currency  price_aprox_usd  Computer Percent  \\\n",
      "1                       3109410.00        180000.00              67.1   \n",
      "13547                   2591175.00        150000.00              67.1   \n",
      "38029                   1627587.50         95000.00              67.1   \n",
      "51933                     85275.81          4977.43              67.1   \n",
      "109853                  2826862.50        165000.00              67.1   \n",
      "\n",
      "        Cellular Percent  Rent Percent  Immigration Percent  \\\n",
      "1                   88.1          39.7                 13.0   \n",
      "13547               88.1          39.7                 13.0   \n",
      "38029               88.1          39.7                 13.0   \n",
      "51933               88.1          39.7                 13.0   \n",
      "109853              88.1          39.7                 13.0   \n",
      "\n",
      "        Education Percent  Owner Percent created_on  month  year  \n",
      "1                    34.5           41.7 2014-08-08      8  2014  \n",
      "13547                34.5           41.7 2014-08-08      8  2014  \n",
      "38029                34.5           41.7 2015-11-27     11  2015  \n",
      "51933                34.5           41.7 2015-11-28     11  2015  \n",
      "109853               34.5           41.7 2015-11-10     11  2015  \n"
     ]
    }
   ],
   "source": [
    "filter_df['created_on'] = pd.to_datetime(filter_df['created_on'])\n",
    "filter_df['month'] = filter_df.created_on.apply(lambda x: x.month)\n",
    "filter_df['year'] = filter_df.created_on.apply(lambda x: x.year)\n",
    "\n",
    "barrios_filter_df = filter_df[['barrio','dataset_date','comuna','perimetro','area','price_aprox_local_currency', 'price_aprox_usd', 'Computer Percent',\\\n",
    "                              'Cellular Percent', 'Rent Percent','Immigration Percent', 'Education Percent',\\\n",
    "                              'Owner Percent', 'created_on', 'month', 'year']]\n",
    "print (barrios_filter_df.head(5))"
   ]
  },
  {
   "cell_type": "code",
   "execution_count": 26,
   "metadata": {},
   "outputs": [
    {
     "name": "stdout",
     "output_type": "stream",
     "text": [
      "     barrio_  month_  year_  price_aprox_local_currency_min  \\\n",
      "0  AGRONOMIA       1   2015                      1347411.00   \n",
      "1  AGRONOMIA       1   2016                      1037952.50   \n",
      "2  AGRONOMIA       1   2017                            0.00   \n",
      "3  AGRONOMIA       1   2018                      1366497.82   \n",
      "4  AGRONOMIA       2   2015                            0.00   \n",
      "\n",
      "   price_aprox_local_currency_max  price_aprox_local_currency_mean  \\\n",
      "0                       1347411.0                     1.347411e+06   \n",
      "1                       1516410.0                     1.251206e+06   \n",
      "2                       4774581.5                     2.259034e+06   \n",
      "3                      11388300.0                     4.791015e+06   \n",
      "4                       1209215.0                     3.847502e+05   \n",
      "\n",
      "   price_aprox_local_currency_std  price_aprox_usd_min  price_aprox_usd_max  \\\n",
      "0                    0.000000e+00              78000.0              78000.0   \n",
      "1                    2.147109e+05              65000.0              90000.0   \n",
      "2                    9.223987e+05                  0.0             299000.0   \n",
      "3                    3.174858e+06              69595.0             580000.0   \n",
      "4                    5.764706e+05                  0.0              70000.0   \n",
      "\n",
      "   price_aprox_usd_mean  price_aprox_usd_std  created_on_count  \n",
      "0          78000.000000             0.000000                 6  \n",
      "1          77500.000000         13176.156917                10  \n",
      "2         140794.117647         57680.299358                34  \n",
      "3         244003.800000        161693.814773                29  \n",
      "4          22272.727273         33371.190624                22  \n",
      "2026\n"
     ]
    }
   ],
   "source": [
    "grouped_month = barrios_filter_df.groupby(['barrio', 'month', 'year'], as_index=False).agg({\"price_aprox_local_currency\": [\"min\", \"max\", \"mean\", \"std\"], \"price_aprox_usd\": [\"min\", \"max\", \"mean\", \"std\"],\\\n",
    "                                                \"created_on\": \"count\"}).fillna(0) #for the std deviation values that resulted in NaN \n",
    "grouped_month.columns = [\"_\".join(x) for x in grouped_month.columns.ravel()]\n",
    "print (grouped_month.head(5))\n",
    "print (len(grouped_month))"
   ]
  },
  {
   "cell_type": "code",
   "execution_count": 27,
   "metadata": {},
   "outputs": [],
   "source": [
    "grouped_month.to_csv('properati_data/properati_sell_grouped_month.csv')\n",
    "grouped_month.to_json(\"properati_data/properati_sell_month.json\", orient = \"records\", date_format = \"epoch\", double_precision = 10, force_ascii = True, date_unit = \"ms\", default_handler = None)\n",
    "\n"
   ]
  },
  {
   "cell_type": "code",
   "execution_count": null,
   "metadata": {},
   "outputs": [],
   "source": []
  }
 ],
 "metadata": {
  "kernelspec": {
   "display_name": "Python 3",
   "language": "python",
   "name": "python3"
  },
  "language_info": {
   "codemirror_mode": {
    "name": "ipython",
    "version": 3
   },
   "file_extension": ".py",
   "mimetype": "text/x-python",
   "name": "python",
   "nbconvert_exporter": "python",
   "pygments_lexer": "ipython3",
   "version": "3.7.3"
  }
 },
 "nbformat": 4,
 "nbformat_minor": 2
}
