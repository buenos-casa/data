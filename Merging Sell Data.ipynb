{
 "cells": [
  {
   "cell_type": "code",
   "execution_count": 2,
   "metadata": {},
   "outputs": [],
   "source": [
    "import pandas as pd\n",
    "import ast\n",
    "import numpy as np\n",
    "import sys\n",
    "import geopandas\n",
    "from geopy.distance import geodesic\n",
    "from shapely.geometry import Point\n",
    "from shapely.geometry.polygon import Polygon\n",
    "from shapely.ops import nearest_points\n",
    "from shapely import wkt"
   ]
  },
  {
   "cell_type": "markdown",
   "metadata": {},
   "source": [
    "### import data"
   ]
  },
  {
   "cell_type": "code",
   "execution_count": 5,
   "metadata": {},
   "outputs": [],
   "source": [
    "properati = pd.read_csv('properati_data/combined_sell.csv', encoding= \"ISO-8859-1\")\n",
    "prop_data = pd.read_csv('prop_data/cleaned_data.csv', encoding= \"ISO-8859-1\")\n",
    "census = pd.read_csv('census/cleaned_data2.csv',encoding= \"ISO-8859-1\")"
   ]
  },
  {
   "cell_type": "markdown",
   "metadata": {},
   "source": [
    "### Create GeoPandas dataframes"
   ]
  },
  {
   "cell_type": "code",
   "execution_count": 6,
   "metadata": {},
   "outputs": [],
   "source": [
    "def modify_poly(data):\n",
    "    coord_list = []\n",
    "    #row = ast.literal_eval(data)\n",
    "    for coord in data:\n",
    "        coord_list.append(tuple(coord))\n",
    "    return coord_list"
   ]
  },
  {
   "cell_type": "code",
   "execution_count": 7,
   "metadata": {},
   "outputs": [
    {
     "name": "stdout",
     "output_type": "stream",
     "text": [
      "False\n",
      "1871732\n",
      "3552\n",
      "False\n"
     ]
    }
   ],
   "source": [
    "# create a new column called coordinates on properati data frame\n",
    "properati['coordinates'] = list(zip(properati.lon, properati.lat))\n",
    "properati['coordinates'] = properati['coordinates'].apply(Point)\n",
    "\n",
    "# convert properati data into geopandas dataframe\n",
    "properati_gdf = geopandas.GeoDataFrame(properati, geometry='coordinates')\n",
    "\n",
    "# convert the longitudes and latitudes in the properaty values dataframe into float (they were originally in string)\n",
    "prop_data.Latitude = pd.to_numeric(prop_data.Latitude, errors='coerce')\n",
    "prop_data.Longitude = pd.to_numeric(prop_data.Longitude, errors='coerce')\n",
    "\n",
    "#print (properati_gdf.coordinates.head(5))\n",
    "print (properati_gdf.coordinates.isnull().values.any())\n",
    "print (len(properati_gdf))\n",
    "\n",
    "# convert property values data into geopandas dataframe\n",
    "prop_data['coordinates'] = list(zip(prop_data.Longitude, prop_data.Latitude))\n",
    "#prop_data['coordinates'] = list(zip(prop_data.Latitude, prop_data.Longitude))\n",
    "prop_data['coordinates'] = prop_data['coordinates'].apply(Point)\n",
    "prop_data_gdf = geopandas.GeoDataFrame(prop_data, geometry='coordinates')\n",
    "\n",
    "\n",
    "# convert census polygon data into tuples and polygon\n",
    "census.coordinates = census.coordinates.apply(lambda x: ast.literal_eval(x)[0])\n",
    "census.coordinates = census.coordinates.apply(lambda x: modify_poly(x))\n",
    "census.coordinates = census.coordinates.apply(Polygon)\n",
    "\n",
    "census_gdf = geopandas.GeoDataFrame(census, geometry='coordinates')\n",
    "print (len(census_gdf))\n",
    "#print (census_gdf.coordinates[0])\n",
    "print (census_gdf.coordinates.isnull().values.any())"
   ]
  },
  {
   "cell_type": "markdown",
   "metadata": {},
   "source": [
    "### Filter only data that is in the city of the Buenos Aires"
   ]
  },
  {
   "cell_type": "code",
   "execution_count": 8,
   "metadata": {},
   "outputs": [
    {
     "name": "stderr",
     "output_type": "stream",
     "text": [
      "/anaconda3/envs/geopandas/lib/python3.7/site-packages/numpy/lib/function_base.py:2167: RuntimeWarning: invalid value encountered in ? (vectorized)\n",
      "  outputs = ufunc(*inputs)\n"
     ]
    },
    {
     "name": "stdout",
     "output_type": "stream",
     "text": [
      "0.25%\n",
      "464869\n"
     ]
    }
   ],
   "source": [
    "properati_census_gdf = geopandas.sjoin(properati_gdf, census_gdf, how=\"inner\", op='within')\n",
    "print ('{:.2f}%'.format(len(properati_census_gdf)/len(properati_gdf)))\n",
    "\n",
    "print (len(properati_census_gdf))"
   ]
  },
  {
   "cell_type": "markdown",
   "metadata": {},
   "source": [
    "#### save the properati/census combined data because the sjoin takes forever"
   ]
  },
  {
   "cell_type": "code",
   "execution_count": 3,
   "metadata": {},
   "outputs": [
    {
     "ename": "NameError",
     "evalue": "name 'properati_census_gdf' is not defined",
     "output_type": "error",
     "traceback": [
      "\u001b[0;31m---------------------------------------------------------------------------\u001b[0m",
      "\u001b[0;31mNameError\u001b[0m                                 Traceback (most recent call last)",
      "\u001b[0;32m<ipython-input-3-02d86c75ccbd>\u001b[0m in \u001b[0;36m<module>\u001b[0;34m\u001b[0m\n\u001b[0;32m----> 1\u001b[0;31m \u001b[0mtemp_df\u001b[0m \u001b[0;34m=\u001b[0m \u001b[0mpd\u001b[0m\u001b[0;34m.\u001b[0m\u001b[0mDataFrame\u001b[0m\u001b[0;34m(\u001b[0m\u001b[0mproperati_census_gdf\u001b[0m\u001b[0;34m)\u001b[0m\u001b[0;34m\u001b[0m\u001b[0;34m\u001b[0m\u001b[0m\n\u001b[0m\u001b[1;32m      2\u001b[0m \u001b[0mtemp_df\u001b[0m\u001b[0;34m.\u001b[0m\u001b[0mto_csv\u001b[0m\u001b[0;34m(\u001b[0m\u001b[0;34m'properati_data/sell_census.csv'\u001b[0m\u001b[0;34m)\u001b[0m\u001b[0;34m\u001b[0m\u001b[0;34m\u001b[0m\u001b[0m\n\u001b[1;32m      3\u001b[0m \u001b[0mtemp_df\u001b[0m \u001b[0;34m=\u001b[0m \u001b[0mtemp_df\u001b[0m\u001b[0;34m.\u001b[0m\u001b[0mdrop_duplicates\u001b[0m\u001b[0;34m(\u001b[0m\u001b[0msubset\u001b[0m\u001b[0;34m=\u001b[0m\u001b[0;34m'id_left'\u001b[0m\u001b[0;34m)\u001b[0m\u001b[0;34m\u001b[0m\u001b[0;34m\u001b[0m\u001b[0m\n\u001b[1;32m      4\u001b[0m \u001b[0mprint\u001b[0m \u001b[0;34m(\u001b[0m\u001b[0mprop_census_df\u001b[0m\u001b[0;34m.\u001b[0m\u001b[0mhead\u001b[0m\u001b[0;34m(\u001b[0m\u001b[0;36m5\u001b[0m\u001b[0;34m)\u001b[0m\u001b[0;34m)\u001b[0m\u001b[0;34m\u001b[0m\u001b[0;34m\u001b[0m\u001b[0m\n\u001b[1;32m      5\u001b[0m \u001b[0mproperati_census_gdf\u001b[0m \u001b[0;34m=\u001b[0m \u001b[0mgeopandas\u001b[0m\u001b[0;34m.\u001b[0m\u001b[0mGeoDataFrame\u001b[0m\u001b[0;34m(\u001b[0m\u001b[0mprop_census_df\u001b[0m\u001b[0;34m,\u001b[0m \u001b[0mgeometry\u001b[0m\u001b[0;34m=\u001b[0m\u001b[0;34m'coordinates'\u001b[0m\u001b[0;34m)\u001b[0m\u001b[0;34m\u001b[0m\u001b[0;34m\u001b[0m\u001b[0m\n",
      "\u001b[0;31mNameError\u001b[0m: name 'properati_census_gdf' is not defined"
     ]
    }
   ],
   "source": [
    "temp_df = pd.DataFrame(properati_census_gdf)\n",
    "temp_df.to_csv('properati_data/sell_census.csv')\n",
    "temp_df = temp_df.drop_duplicates(subset='id_left')\n",
    "print (prop_census_df.head(5))\n",
    "properati_census_gdf = geopandas.GeoDataFrame(prop_census_df, geometry='coordinates')"
   ]
  },
  {
   "cell_type": "code",
   "execution_count": 34,
   "metadata": {},
   "outputs": [],
   "source": [
    "temp_df = pd.read_csv('properati_data/sell_census.csv')\n",
    "#print (temp_df.id_left.head(5))\n",
    "temp_df = temp_df.drop_duplicates(subset='id_left')\n",
    "temp_df.coordinates = list(zip(temp_df.lon, temp_df.lat))\n",
    "temp_df.coordinates = temp_df.coordinates.apply(Point)\n",
    "properati_census_gdf = geopandas.GeoDataFrame(temp_df, geometry='coordinates')\n",
    "#print ('{:.2f}'.format((len(properati_census_gdf)/ 464869)*100))"
   ]
  },
  {
   "cell_type": "markdown",
   "metadata": {},
   "source": [
    "#### import barrios geojson"
   ]
  },
  {
   "cell_type": "code",
   "execution_count": 35,
   "metadata": {},
   "outputs": [
    {
     "name": "stdout",
     "output_type": "stream",
     "text": [
      "                                                 WKT            barrio  \\\n",
      "0  POLYGON ((-58.4528200492791 -34.5959886570639,...         CHACARITA   \n",
      "1  POLYGON ((-58.4655768128541 -34.5965577078058,...          PATERNAL   \n",
      "2  POLYGON ((-58.4237529813037 -34.5978273383243,...      VILLA CRESPO   \n",
      "3  POLYGON ((-58.4946097568899 -34.6148652395239,...  VILLA DEL PARQUE   \n",
      "4  POLYGON ((-58.4128700313089 -34.6141162515854,...           ALMAGRO   \n",
      "\n",
      "   comuna    perimetro          area  Unnamed: 0            Barrio    id  b_id  \n",
      "0      15  7725.695228  3.118101e+06        26.0         CHACARITA  26.0  26.0  \n",
      "1      15  7087.513295  2.229829e+06        27.0          PATERNAL  27.0  27.0  \n",
      "2      15  8132.699348  3.613584e+06         6.0      VILLA CRESPO   6.0   6.0  \n",
      "3      11  7705.389797  3.399596e+06        29.0  VILLA DEL PARQUE  29.0  29.0  \n",
      "4       5  8537.901368  4.050752e+06        12.0           ALMAGRO  12.0  12.0  \n"
     ]
    }
   ],
   "source": [
    "barrios = pd.read_csv('shape files/barrios.csv')\n",
    "barrios.WKT = barrios.WKT.apply(wkt.loads)\n",
    "\n",
    "barrio_df = pd.read_csv('barrio_table.csv')\n",
    "barrio_df['b_id'] = [int(barrio_df[barrio_df.Barrio == i].id) for i in barrio_df.Barrio]\n",
    "barrio_df['barrio'] = barrio_df.Barrio\n",
    "\n",
    "barrios = pd.merge(barrios, barrio_df, on='barrio', how='left')\n",
    "print (barrios.head(5))\n",
    "\n",
    "barrios_gdf = geopandas.GeoDataFrame(barrios, geometry='WKT')"
   ]
  },
  {
   "cell_type": "code",
   "execution_count": 36,
   "metadata": {},
   "outputs": [
    {
     "name": "stdout",
     "output_type": "stream",
     "text": [
      "['Unnamed: 0' 'dataset_date' 'created_on' 'operation' 'property_type'\n",
      " 'place_name' 'country_name' 'state_name' 'geonames_id' 'lat_lon' 'lat'\n",
      " 'lon' 'price' 'currency' 'price_aprox_local_currency' 'price_aprox_usd'\n",
      " 'coordinates' 'AREA' 'Commune' 'DEPTO' 'FRAC' 'Computer Percent'\n",
      " 'Computer Quantile' 'Cellular Percent' 'Cellular Quantile' 'Rent Percent'\n",
      " 'Rent Quantile' 'LINK' 'Immigration Percent' 'Immigration Quantile'\n",
      " 'Education Percent' 'Education Quantile' 'PERIMETER' 'Owner Percent'\n",
      " 'Owner Quantile' 'PROV' 'RADIO' 'RADPAIS_' 'REDCODE' 'Regular Percent'\n",
      " 'Regular Quantile' 'TIPO' 'Uninhabited Percent' 'Uninhabited Quantile'\n",
      " 'type']\n",
      "['Unnamed: 0_left' 'dataset_date' 'created_on' 'operation' 'property_type'\n",
      " 'place_name' 'country_name' 'state_name' 'geonames_id' 'lat_lon' 'lat'\n",
      " 'lon' 'price' 'currency' 'price_aprox_local_currency' 'price_aprox_usd'\n",
      " 'coordinates' 'AREA' 'Commune' 'DEPTO' 'FRAC' 'Computer Percent'\n",
      " 'Computer Quantile' 'Cellular Percent' 'Cellular Quantile' 'Rent Percent'\n",
      " 'Rent Quantile' 'LINK' 'Immigration Percent' 'Immigration Quantile'\n",
      " 'Education Percent' 'Education Quantile' 'PERIMETER' 'Owner Percent'\n",
      " 'Owner Quantile' 'PROV' 'RADIO' 'RADPAIS_' 'REDCODE' 'Regular Percent'\n",
      " 'Regular Quantile' 'TIPO' 'Uninhabited Percent' 'Uninhabited Quantile'\n",
      " 'type' 'index_right' 'barrio' 'comuna' 'perimetro' 'area'\n",
      " 'Unnamed: 0_right' 'Barrio' 'id' 'b_id']\n",
      "116413\n"
     ]
    }
   ],
   "source": [
    "properati_census_gdf = properati_census_gdf.drop(columns=['id_left', 'id_right', 'index_right'], axis=1)\n",
    "print (properati_census_gdf.columns.values)\n",
    "final_gdf = geopandas.sjoin(properati_census_gdf , barrios_gdf, how=\"inner\", op='within')\n",
    "print (final_gdf.columns.values)\n",
    "print (len(final_gdf))\n"
   ]
  },
  {
   "cell_type": "code",
   "execution_count": 37,
   "metadata": {},
   "outputs": [],
   "source": [
    "filtered_gdf = final_gdf[['dataset_date', 'created_on', 'operation', 'property_type', 'place_name',\\\n",
    "                          'state_name', 'price', 'currency', 'price_aprox_local_currency', 'price_aprox_usd',\\\n",
    "                         'Commune', 'barrio','b_id', 'comuna', 'perimetro','area']]\n",
    "\n",
    "filter_df = pd.DataFrame(filtered_gdf)\n",
    "filter_df = filter_df[filter_df['price_aprox_local_currency'] > 0]"
   ]
  },
  {
   "cell_type": "code",
   "execution_count": 43,
   "metadata": {},
   "outputs": [
    {
     "name": "stdout",
     "output_type": "stream",
     "text": [
      "   b_id_        barrio_  price_aprox_local_currency_min  \\\n",
      "0    0.0        PALERMO                        85497.90   \n",
      "1    1.0       BELGRANO                        92550.18   \n",
      "2    2.0          NUÑEZ                        77468.62   \n",
      "3    3.0  VILLA ORTUZAR                       798425.00   \n",
      "4    4.0      BALVANERA                       101373.93   \n",
      "\n",
      "   price_aprox_local_currency_max  price_aprox_local_currency_mean  \\\n",
      "0                     270456790.5                     6.432754e+06   \n",
      "1                     107992500.0                     6.114209e+06   \n",
      "2                     206644442.4                     4.963615e+06   \n",
      "3                     114435750.0                     4.264157e+06   \n",
      "4                      86372500.0                     2.711736e+06   \n",
      "\n",
      "   price_aprox_local_currency_std  price_aprox_usd_min  price_aprox_usd_max  \\\n",
      "0                    8.941423e+06              5354.16           15692300.0   \n",
      "1                    7.887623e+06              5256.89            5500000.0   \n",
      "2                    7.445223e+06              4851.34           11111111.0   \n",
      "3                    7.615148e+06             46817.00            6500000.0   \n",
      "4                    3.312287e+06              5162.92            5000000.0   \n",
      "\n",
      "   price_aprox_usd_mean  price_aprox_usd_std  created_on_count  \n",
      "0         377037.780885        519728.980056             14124  \n",
      "1         357303.318225        456902.329404              6642  \n",
      "2         290027.683553        422641.023608              2747  \n",
      "3         247656.681005        438215.984322               975  \n",
      "4         159420.883301        192227.002270              5737  \n"
     ]
    }
   ],
   "source": [
    "barrios_filter_df = filter_df[['barrio','comuna','b_id', 'perimetro','area','price_aprox_local_currency', 'price_aprox_usd','created_on']]\n",
    "grouped = barrios_filter_df.groupby(['b_id','barrio'], as_index=False).agg({\"price_aprox_local_currency\": [\"min\", \"max\", \"mean\", \"std\"], \"price_aprox_usd\": [\"min\", \"max\", \"mean\", \"std\"],\\\n",
    "                                                \"created_on\": \"count\"})\n",
    "grouped.columns = [\"_\".join(x) for x in grouped.columns.ravel()]\n",
    "print (grouped.head(5))\n",
    "grouped.to_csv('properati_data/properati_sell_grouped.csv')"
   ]
  },
  {
   "cell_type": "code",
   "execution_count": 44,
   "metadata": {},
   "outputs": [],
   "source": [
    "grouped.to_json(\"properati_data/properati_sell.json\", orient = \"records\", date_format = \"epoch\", double_precision = 10, force_ascii = True, date_unit = \"ms\", default_handler = None)\n",
    "\n"
   ]
  },
  {
   "cell_type": "code",
   "execution_count": 40,
   "metadata": {},
   "outputs": [
    {
     "name": "stdout",
     "output_type": "stream",
     "text": [
      "     barrio  b_id  dataset_date  comuna     perimetro          area  \\\n",
      "0  BARRACAS  32.0        201501       4  13018.210271  7.961000e+06   \n",
      "1  BARRACAS  32.0        201501       4  13018.210271  7.961000e+06   \n",
      "2  BARRACAS  32.0        201502       4  13018.210271  7.961000e+06   \n",
      "3  BARRACAS  32.0        201502       4  13018.210271  7.961000e+06   \n",
      "4  BARRACAS  32.0        201502       4  13018.210271  7.961000e+06   \n",
      "\n",
      "   price_aprox_local_currency  price_aprox_usd created_on  month  year  \n",
      "0                  3109410.00        180000.00 2014-08-08      8  2014  \n",
      "1                  2591175.00        150000.00 2014-08-08      8  2014  \n",
      "2                  1627587.50         95000.00 2015-11-27     11  2015  \n",
      "3                    85275.81          4977.43 2015-11-28     11  2015  \n",
      "4                  2826862.50        165000.00 2015-11-10     11  2015  \n"
     ]
    }
   ],
   "source": [
    "filter_df['created_on'] = pd.to_datetime(filter_df['created_on'])\n",
    "filter_df['month'] = filter_df.created_on.apply(lambda x: x.month)\n",
    "filter_df['year'] = filter_df.created_on.apply(lambda x: x.year)\n",
    "filter_df = filter_df[filter_df['price_aprox_local_currency'] > 0]\n",
    "\n",
    "barrios_filter_df = filter_df[['barrio','b_id','dataset_date','comuna','perimetro','area','price_aprox_local_currency', 'price_aprox_usd',\\\n",
    "                             'created_on', 'month', 'year']]\n",
    "print (barrios_filter_df.head(5))"
   ]
  },
  {
   "cell_type": "code",
   "execution_count": 41,
   "metadata": {},
   "outputs": [
    {
     "name": "stdout",
     "output_type": "stream",
     "text": [
      "     barrio_  b_id_  month_  year_  price_aprox_local_currency_min  \\\n",
      "0  AGRONOMIA   25.0       1   2015                      1347411.00   \n",
      "1  AGRONOMIA   25.0       1   2016                      1037952.50   \n",
      "2  AGRONOMIA   25.0       1   2017                      1916220.00   \n",
      "3  AGRONOMIA   25.0       1   2018                      1366497.82   \n",
      "4  AGRONOMIA   25.0       2   2015                      1209215.00   \n",
      "\n",
      "   price_aprox_local_currency_max  price_aprox_local_currency_mean  \\\n",
      "0                       1347411.0                     1.347411e+06   \n",
      "1                       1437165.0                     1.237559e+06   \n",
      "2                       4774581.5                     2.573210e+06   \n",
      "3                      11388300.0                     4.839287e+06   \n",
      "4                       1209215.0                     1.209215e+06   \n",
      "\n",
      "   price_aprox_local_currency_std  price_aprox_usd_min  price_aprox_usd_max  \\\n",
      "0                    0.000000e+00              78000.0              78000.0   \n",
      "1                    2.822859e+05              65000.0              90000.0   \n",
      "2                    1.032880e+06             120000.0             299000.0   \n",
      "3                    3.233757e+06              69595.0             580000.0   \n",
      "4                    0.000000e+00              70000.0              70000.0   \n",
      "\n",
      "   price_aprox_usd_mean  price_aprox_usd_std  created_on_count  \n",
      "0          78000.000000             0.000000                 1  \n",
      "1          77500.000000         17677.669530                 2  \n",
      "2         161142.857143         64682.374136                 7  \n",
      "3         246462.291667        164693.502538                24  \n",
      "4          70000.000000             0.000000                 1  \n",
      "1852\n"
     ]
    }
   ],
   "source": [
    "grouped_month = barrios_filter_df.groupby(['barrio', 'b_id','month', 'year'], as_index=False).agg({\"price_aprox_local_currency\": [\"min\", \"max\", \"mean\", \"std\"], \"price_aprox_usd\": [\"min\", \"max\", \"mean\", \"std\"],\\\n",
    "                                                \"created_on\": \"count\"}).fillna(0) #for the std deviation values that resulted in NaN \n",
    "grouped_month.columns = [\"_\".join(x) for x in grouped_month.columns.ravel()]\n",
    "print (grouped_month.head(5))\n",
    "print (len(grouped_month))"
   ]
  },
  {
   "cell_type": "code",
   "execution_count": 42,
   "metadata": {},
   "outputs": [],
   "source": [
    "grouped_month.to_csv('properati_data/properati_sell_grouped_month.csv')\n",
    "grouped_month.to_json(\"properati_data/properati_sell_month.json\", orient = \"records\", date_format = \"epoch\", double_precision = 10, force_ascii = True, date_unit = \"ms\", default_handler = None)\n",
    "\n"
   ]
  },
  {
   "cell_type": "code",
   "execution_count": null,
   "metadata": {},
   "outputs": [],
   "source": []
  }
 ],
 "metadata": {
  "kernelspec": {
   "display_name": "Python 3",
   "language": "python",
   "name": "python3"
  },
  "language_info": {
   "codemirror_mode": {
    "name": "ipython",
    "version": 3
   },
   "file_extension": ".py",
   "mimetype": "text/x-python",
   "name": "python",
   "nbconvert_exporter": "python",
   "pygments_lexer": "ipython3",
   "version": "3.7.3"
  }
 },
 "nbformat": 4,
 "nbformat_minor": 2
}
