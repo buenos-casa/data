{
 "cells": [
  {
   "cell_type": "code",
   "execution_count": 1,
   "metadata": {},
   "outputs": [],
   "source": [
    "import numpy as np\n",
    "import pandas as pd\n",
    "import matplotlib.pyplot as plt\n",
    "import matplotlib as mpl\n",
    "import datetime as dt\n",
    "\n",
    "%matplotlib notebook\n",
    "\n",
    "plt.style.use('default')\n",
    "mpl.rcParams['figure.figsize'] = (10, 10)"
   ]
  },
  {
   "cell_type": "code",
   "execution_count": 2,
   "metadata": {},
   "outputs": [],
   "source": [
    "#Open the csv files with the terrains data\n",
    "\n",
    "terrains2001 = pd.read_csv('2001.csv', sep=';', thousands=',')\n",
    "terrains2002 = pd.read_csv('2002.csv', sep=';', thousands=',')\n",
    "terrains2003 = pd.read_csv('2003.csv', sep=';', thousands=',')\n",
    "terrains2004 = pd.read_csv('2004.csv', sep=';', thousands=',')\n",
    "terrains2005 = pd.read_csv('2005.csv', sep=';', thousands=',')\n",
    "terrains2006 = pd.read_csv('2006.csv', sep=';', thousands=',')\n",
    "terrains2007 = pd.read_csv('2007.csv', sep=';', thousands=',')\n",
    "terrains2008 = pd.read_csv('2008.csv', sep=';', thousands=',')\n",
    "terrains2009 = pd.read_csv('2009.csv', sep=';', thousands=',')\n",
    "terrains2010 = pd.read_csv('2010.csv', sep=';', thousands=',')\n",
    "terrains2011 = pd.read_csv('2011.csv', sep=';', thousands=',')\n",
    "terrains2012 = pd.read_csv('2012.csv', sep=';', thousands=',')\n",
    "terrains2013 = pd.read_csv('2013.csv', sep=';', thousands=',')\n",
    "terrains2014 = pd.read_csv('2014.csv', sep=';')\n",
    "terrains2015 = pd.read_csv('2015.csv', sep=';')\n",
    "\n",
    "#2015 Does not have a date column\n",
    "terrains2015['Date'] = pd.to_datetime('2015/06/01', format='%Y/%m/%d')\n",
    "terrains2016 = pd.read_csv('2016.csv', decimal=',', sep=';')\n",
    "\n",
    "#2016 has empty values with a single space for the Date column\n",
    "terrains2016['FECHA'] = (terrains2016['FECHA'].apply(lambda x: str(x.replace(' ', '12/29/2016'))))\n",
    "terrains2017 = pd.read_csv('2017.csv', decimal=',', sep=';')\n",
    "terrains2018 = pd.read_csv('2018.csv', sep=';', thousands=',')"
   ]
  },
  {
   "cell_type": "code",
   "execution_count": 3,
   "metadata": {},
   "outputs": [
    {
     "name": "stdout",
     "output_type": "stream",
     "text": [
      "Index(['longitud', 'latitud', 'fecha', 'calle', 'numero', 'm2', 'dolares',\n",
      "       'u_s_m2', 'fot', 'distrito_c', 'fuente_', 'cotiz', 'pesos',\n",
      "       'm2__pesos_', 'barrio', 'comuna'],\n",
      "      dtype='object')\n",
      "Index(['longitud', 'latitud', 'fecha', 'calle', 'numero', 'm2', 'dolares',\n",
      "       'u_s_m2', 'fot', 'distrito_c', 'fuente_', 'cotiz', 'pesos',\n",
      "       'm2__pesos_', 'barrio', 'comuna'],\n",
      "      dtype='object')\n",
      "Index(['longitud', 'latitud', 'fecha', 'calle', 'numero', 'm2', 'dolares',\n",
      "       'u_s_m2', 'fot', 'distrito_c', 'fuente_', 'cotiz', 'pesos',\n",
      "       'm2__pesos_', 'barrio', 'comuna'],\n",
      "      dtype='object')\n",
      "Index(['longitud', 'latitud', 'fecha', 'calle', 'numero', 'm2', 'dolares',\n",
      "       'u_s_m2', 'fot', 'distrito_c', 'fuente_', 'cotiz', 'pesos',\n",
      "       'm2__pesos_', 'barrio', 'comuna'],\n",
      "      dtype='object')\n",
      "Index(['longitud', 'latitud', 'fecha', 'calle', 'numero', 'm2', 'dolares',\n",
      "       'u_s_m2', 'fot', 'distrito_c', 'fuente_', 'cotiz', 'pesos',\n",
      "       'm2__pesos_', 'barrio', 'comuna'],\n",
      "      dtype='object')\n",
      "Index(['longitud', 'latitud', 'fecha', 'calle', 'numero', 'm2', 'dolares',\n",
      "       'u_s_m2', 'fot', 'distrito_c', 'fuente_', 'cotiz', 'pesos',\n",
      "       'm2__pesos_', 'barrio', 'comuna'],\n",
      "      dtype='object')\n",
      "Index(['longitud', 'latitud', 'fecha', 'calle', 'numero', 'm2', 'dolares',\n",
      "       'u_s_m2', 'fot', 'distrito_c', 'fuente_', 'cotiz', 'pesos',\n",
      "       'm2__pesos_', 'barrio', 'comuna'],\n",
      "      dtype='object')\n",
      "Index(['longitud', 'latitud', 'fecha', 'calle', 'numero', 'm2', 'dolares',\n",
      "       'u_s_m2', 'fot', 'distrito_c', 'fuente_', 'cotiz', 'pesos',\n",
      "       'm2__pesos_', 'barrio', 'comuna'],\n",
      "      dtype='object')\n",
      "Index(['longitud', 'latitud', 'fecha', 'calle', 'numero', 'm2', 'dolares',\n",
      "       'u_s_m2', 'fot', 'distrito_c', 'fuente_', 'cotiz', 'pesos',\n",
      "       'm2__pesos_', 'barrio', 'comuna'],\n",
      "      dtype='object')\n",
      "Index(['longitud', 'latitud', 'fecha', 'calle', 'numero', 'm2', 'dolares',\n",
      "       'u_s_m2', 'fot', 'distrito_c', 'fuente_', 'cotiz', 'pesos',\n",
      "       'm2__pesos_', 'barrio', 'comuna'],\n",
      "      dtype='object')\n",
      "Index(['longitud', 'latitud', 'fecha', 'calle', 'numero', 'm2', 'dolares',\n",
      "       'u_s_m2', 'fot', 'distrito_c', 'fuente_', 'cotiz', 'pesos',\n",
      "       'm2__pesos_', 'barrio', 'comuna'],\n",
      "      dtype='object')\n",
      "Index(['LON', 'LAT', 'FECHA', 'CALLE', 'NUMERO', 'M2', 'DOLARES', 'PESOS',\n",
      "       'U_S_M2', 'Z_M2', 'BARRIOS', 'COMUNA'],\n",
      "      dtype='object')\n",
      "Index(['LONGITUD', 'LATITUD', 'FECHA', 'CALLE', 'NUMERO', 'M2', 'DOLARES', 'Z',\n",
      "       'U_S_M2', 'Z_M2', 'BARRIOS', 'COMUNA'],\n",
      "      dtype='object')\n",
      "Index(['X', 'Y', 'FECHA', 'CALLE', 'NUMERO', 'M2', 'DOLARES', 'PESOS',\n",
      "       'U_S_M2', 'BARRIOS', 'COMUNA'],\n",
      "      dtype='object')\n",
      "Index(['X', 'Y', 'CALLE', 'NUMERO', 'M2', 'DOLARES', 'U_S_M2', 'FOT', 'COTIZ',\n",
      "       'BARRIO', 'COMUNA', 'DIRECCION NORMALIZADA', 'CODIGO_POSTAL',\n",
      "       'CODIGO_POSTAL_ARGENTINO', 'Date'],\n",
      "      dtype='object')\n",
      "Index(['X', 'Y', 'FECHA', 'CALLE', 'NUMERO', 'M2', 'DOLARES', 'U_S_M2', 'FOT',\n",
      "       'COTIZ', 'BARRIOS', 'COMUNA', 'DIRECCION_NORMALIZADA', 'CODIGO_POSTAL',\n",
      "       'CODIGO_POSTAL_ARGENTINO'],\n",
      "      dtype='object')\n",
      "Index(['X', 'Y', 'FECHA', 'CALLE', 'NUMERO', 'M2', 'DOLARES', 'U_S_M2', 'FOT',\n",
      "       'COTIZ', 'BARRIOS', 'COMUNA', 'DIRECCION_NORMALIZADA', 'CODIGO_POSTAL',\n",
      "       'CODIGO_POSTAL_ARGENTINO'],\n",
      "      dtype='object')\n",
      "Index(['X', 'Y', 'FECHA', 'DIRECCION', 'DIRECCION_NORMALIZADA', 'M2TOTAL',\n",
      "       'PRECIOARS', 'PRECIOARSM', 'PRECIOUSD', 'PRECIOUSDM', 'CAMBIO',\n",
      "       'AMBIENTES', 'DORMITORIO', 'BAÑOS', 'URL', 'BARRIO', 'COMUNA',\n",
      "       'CODIGO_POSTAL', 'CODIGO_POSTAL_ARGENTINO'],\n",
      "      dtype='object')\n"
     ]
    }
   ],
   "source": [
    "print(terrains2001.columns)\n",
    "print(terrains2002.columns)\n",
    "print(terrains2003.columns)\n",
    "print(terrains2004.columns)\n",
    "print(terrains2005.columns)\n",
    "print(terrains2006.columns)\n",
    "print(terrains2007.columns)\n",
    "print(terrains2008.columns)\n",
    "print(terrains2009.columns)\n",
    "print(terrains2010.columns)\n",
    "print(terrains2011.columns)\n",
    "print(terrains2012.columns)\n",
    "print(terrains2013.columns)\n",
    "print(terrains2014.columns)\n",
    "print(terrains2015.columns)\n",
    "print(terrains2016.columns)\n",
    "print(terrains2017.columns)\n",
    "print(terrains2018.columns)"
   ]
  },
  {
   "cell_type": "code",
   "execution_count": 4,
   "metadata": {},
   "outputs": [
    {
     "ename": "SyntaxError",
     "evalue": "invalid syntax (<ipython-input-4-12667001cd2c>, line 24)",
     "output_type": "error",
     "traceback": [
      "\u001b[0;36m  File \u001b[0;32m\"<ipython-input-4-12667001cd2c>\"\u001b[0;36m, line \u001b[0;32m24\u001b[0m\n\u001b[0;31m    if(isinstance(x, str)):\u001b[0m\n\u001b[0m     ^\u001b[0m\n\u001b[0;31mSyntaxError\u001b[0m\u001b[0;31m:\u001b[0m invalid syntax\n"
     ]
    }
   ],
   "source": [
    "#This function will clean the dataframes and return it with renamed columns.\n",
    "\n",
    "def cleanData(df):\n",
    "\n",
    "        #First, we define the column names used in all dataframes and their corresponding unified name\n",
    "        columnNames = {'longitud':'Longitude', 'LON':'Longitude', 'LONGITUD':'Longitude', 'latitud': 'Latitude',\n",
    "                       'LAT': 'Latitude', 'LATITUD':'Latitude', 'X': 'Longitude', 'Y': 'Latitude',\n",
    "                       'barrio': 'Location', 'fecha': 'Date', 'dolares': 'Value in US Dollars', \n",
    "                       'u_s_m2': 'Value of m2 (US Dollars)', 'BARRIOS': 'Location', 'FECHA': 'Date', \n",
    "                       'DOLARES': 'Value in US Dollars', 'U_S_M2': 'Value of m2 (US Dollars)', 'M2': 'm2',\n",
    "                       'BARRIO': 'Location', 'PRECIOUSD': 'Value in US Dollars', 'PRECIOUSDM': 'Value of m2 (US Dollars)',\n",
    "                       'M2TOTAL': 'm2', 'COMUNA': 'Commune', 'comuna': 'Commune'}\n",
    "        \n",
    "        #Then, delete empty rows, rename the columns and set the index for the Location (Name of the Barrio)\n",
    "        df = (df.dropna()\n",
    "            .rename(columns=columnNames)\n",
    "            .set_index('Location'))\n",
    "        \n",
    "        #With the following line, we indicate that we only wish to keep the columns below, then the rest can be deleted\n",
    "        df = df[['Commune', 'Longitude', 'Latitude', 'Date', 'Value in US Dollars', 'Value of m2 (US Dollars)', 'm2']]\n",
    "        \n",
    "        # Normalize Commune column to just numbers\n",
    "        df['Commune'] = df['Commune'].apply(lambda x: \n",
    "                                            if isinstance(x, str) [int(a) for a in x.split() if a.isdigit()]\n",
    "                                            else return x)        \n",
    "        #Since some of the date columns are a String datatype, this sets them as datetime type.\n",
    "        df['Date'] = pd.to_datetime(df['Date'])\n",
    "        \n",
    "        #This is to unify the format of the date column so that all dataframes are the same\n",
    "        df['Date'] = df['Date'].dt.strftime('%Y/%m/%d')\n",
    "        \n",
    "        #Unify the Data type for the column 'Value of m2 (US Dollars)' to float. This will allow to perform operations later.\n",
    "        df['Value of m2 (US Dollars)'] = df['Value of m2 (US Dollars)'].astype(float)\n",
    "        df['Value in US Dollars'] = df['Value of m2 (US Dollars)'] * df['m2']\n",
    "        return df"
   ]
  },
  {
   "cell_type": "code",
   "execution_count": null,
   "metadata": {},
   "outputs": [],
   "source": [
    "terrains2001 = cleanData(terrains2001)\n",
    "terrains2002 = cleanData(terrains2002)\n",
    "terrains2003 = cleanData(terrains2003)\n",
    "terrains2004 = cleanData(terrains2004)\n",
    "terrains2005 = cleanData(terrains2005)\n",
    "terrains2006 = cleanData(terrains2006)\n",
    "terrains2007 = cleanData(terrains2007)\n",
    "terrains2008 = cleanData(terrains2008)\n",
    "terrains2009 = cleanData(terrains2009)\n",
    "terrains2010 = cleanData(terrains2010)\n",
    "terrains2011 = cleanData(terrains2011)\n",
    "terrains2012 = cleanData(terrains2012)\n",
    "terrains2013 = cleanData(terrains2013)\n",
    "terrains2014 = cleanData(terrains2014)\n",
    "terrains2015 = cleanData(terrains2015)\n",
    "terrains2016 = cleanData(terrains2016)\n",
    "terrains2017 = cleanData(terrains2017)\n",
    "terrains2018 = cleanData(terrains2018)"
   ]
  },
  {
   "cell_type": "code",
   "execution_count": null,
   "metadata": {},
   "outputs": [],
   "source": [
    "terrains2018.head()"
   ]
  },
  {
   "cell_type": "code",
   "execution_count": null,
   "metadata": {},
   "outputs": [],
   "source": [
    "#Here we create a single Dataframe that contains all the data\n",
    "\n",
    "frames = [terrains2001, terrains2002, terrains2003, terrains2004, terrains2005, terrains2006, terrains2007, terrains2008,\n",
    "          terrains2009, terrains2010, terrains2011, terrains2012, terrains2013, terrains2015, terrains2016, terrains2017,\n",
    "         terrains2018]\n",
    "\n",
    "df = pd.concat(frames)"
   ]
  },
  {
   "cell_type": "code",
   "execution_count": null,
   "metadata": {},
   "outputs": [],
   "source": [
    "df.head()"
   ]
  },
  {
   "cell_type": "code",
   "execution_count": null,
   "metadata": {},
   "outputs": [],
   "source": [
    "df.Commune.unique()"
   ]
  },
  {
   "cell_type": "code",
   "execution_count": null,
   "metadata": {},
   "outputs": [],
   "source": [
    "df.index.unique()"
   ]
  },
  {
   "cell_type": "code",
   "execution_count": null,
   "metadata": {},
   "outputs": [],
   "source": [
    "#Since the names of some barrios are incorrect, this will correct them so that they all have the right names.\n",
    "\n",
    "df.reset_index(inplace=True)\n",
    "df['Location'] = (df['Location'].apply(lambda x: str(x.replace('NUNEZ', 'NUÑEZ'))))\n",
    "df['Location'] = (df['Location'].apply(lambda x: str(x.replace('NU?ÆEZ', 'NUÑEZ'))))\n",
    "df['Location'] = (df['Location'].apply(lambda x: str(x.replace('NU?EZ', 'NUÑEZ'))))\n",
    "df['Location'] = (df['Location'].apply(lambda x: str(x.replace('GOGHLAND', 'COGHLAN'))))\n",
    "df['Location'] = (df['Location'].apply(lambda x: str(x.replace('PARQUE AVELLANED', 'PARQUE AVELLANEDA'))))\n",
    "df['Location'] = (df['Location'].apply(lambda x: str(x.replace('SARSFIELD', 'SARFIELD'))))\n",
    "df['Location'] = (df['Location'].apply(lambda x: str(x.replace('VILLA GRAL. MITRE', 'VILLA GENERAL MITRE'))))\n",
    "df['Location'] = (df['Location'].apply(lambda x: str(x.replace('VILLA GRAL. MITR', 'VILLA GENERAL MITRE'))))\n",
    "df['Location'] = (df['Location'].apply(lambda x: str(x.replace('VILLA GRAL MITRE', 'VILLA GENERAL MITRE'))))\n",
    "df['Location'] = (df['Location'].apply(lambda x: str(x.replace('VILLA PUYRREDON', 'VILLA PUEYRREDON'))))\n",
    "df['Location'] = (df['Location'].apply(lambda x: str(x.replace('PARQUE AVELLANEDAA', 'PARQUE AVELLANEDA'))))\n",
    "df['Location'] = (df['Location'].apply(lambda x: str(x.replace('VERSALLES', 'VERSAILLES'))))\n",
    "df['Location'] = (df['Location'].apply(lambda x: str(x.replace('MONSERRAT', 'MONTSERRAT'))))"
   ]
  },
  {
   "cell_type": "code",
   "execution_count": null,
   "metadata": {},
   "outputs": [],
   "source": [
    "#Here are the corrected names for each Barrio in Buenos Aires\n",
    "df['Location'].unique()"
   ]
  },
  {
   "cell_type": "code",
   "execution_count": null,
   "metadata": {},
   "outputs": [],
   "source": [
    "df.head()"
   ]
  },
  {
   "cell_type": "code",
   "execution_count": null,
   "metadata": {},
   "outputs": [],
   "source": [
    "barrios = ['PALERMO', 'BELGRANO', 'NUÑEZ', 'VILLA ORTUZAR', 'BALVANERA',\n",
    "       'SAN CRISTOBAL', 'VILLA CRESPO', 'VILLA GENERAL MITRE', 'FLORESTA',\n",
    "       'PARQUE CHACABUCO', 'PARQUE AVELLANEDA', 'CABALLITO', 'ALMAGRO',\n",
    "       'POMPEYA', 'VILLA URQUIZA', 'SAAVEDRA', 'VILLA PUEYRREDON',\n",
    "       'VILLA LURO', 'MATADEROS', 'FLORES', 'VERSAILLES', 'LINIERS',\n",
    "       'VELEZ SARFIELD', 'VILLA DEVOTO', 'BOCA', 'AGRONOMIA', 'CHACARITA',\n",
    "       'PATERNAL', 'COLEGIALES', 'VILLA DEL PARQUE', 'VILLA LUGANO',\n",
    "       'VILLA SANTA RITA', 'BARRACAS', 'MONTE CASTRO', 'VILLA RIACHUELO',\n",
    "       'RETIRO', 'MONTSERRAT', 'VILLA SOLDATI', 'CONSTITUCION', 'BOEDO',\n",
    "       'PARQUE PATRICIOS', 'SAN TELMO', 'COGHLAN', 'SAN NICOLAS',\n",
    "       'RECOLETA', 'VILLA REAL', 'NUEVA POMPEYA', 'PARQUE CHAS',\n",
    "       'PUERTO MADERO']\n",
    "\n",
    "barrios[2]"
   ]
  },
  {
   "cell_type": "code",
   "execution_count": null,
   "metadata": {},
   "outputs": [],
   "source": [
    "#This function creates and returns a dataframe filtered by the selected Barrio, which is passed as the second argument. Grouping\n",
    "#by year, it adds a column for each the mean, minimum, maximum and standard deviation.\n",
    "\n",
    "def barrio(df, barrio):\n",
    "    filtered_df = (df.where(df['Location'] == barrio)\n",
    "                           .set_index('Location')\n",
    "                           .dropna()\n",
    "                           .sort_values('Date'))\n",
    "    \n",
    "    #Convert the date column to datetime\n",
    "    filtered_df['Date'] = pd.to_datetime(filtered_df['Date'])\n",
    "    \n",
    "    #Remove the values from before 2001\n",
    "    filtered_df = (filtered_df.where(filtered_df['Date'] > pd.to_datetime('2000/12/31', format='%Y/%m/%d')))\n",
    "    \n",
    "    #We only keep the year, which is later set as index\n",
    "    filtered_df['Date'] = filtered_df['Date'].dt.strftime('%Y')\n",
    "    filtered_df.set_index('Date', inplace=True)\n",
    "    filtered_df.dropna(inplace=True)\n",
    "    \n",
    "    #Add the columns for the Mean, Min, Max and Std.\n",
    "    filtered_df['Yearly Mean value of m2'] = (filtered_df['Value of m2 (US Dollars)'].groupby(level=0).mean())\n",
    "    filtered_df['Yearly Min value of m2'] = (filtered_df['Value of m2 (US Dollars)'].groupby(level=0).min())\n",
    "    filtered_df['Yearly Max value of m2'] = (filtered_df['Value of m2 (US Dollars)'].groupby(level=0).max())\n",
    "    filtered_df['Yearly std for m2 value'] = (filtered_df['Value of m2 (US Dollars)'].groupby(level=0).std())    \n",
    "    return filtered_df"
   ]
  },
  {
   "cell_type": "code",
   "execution_count": null,
   "metadata": {},
   "outputs": [],
   "source": [
    "palermo = barrio(df, 'PALERMO')\n",
    "palermo.head()"
   ]
  },
  {
   "cell_type": "code",
   "execution_count": null,
   "metadata": {},
   "outputs": [],
   "source": [
    "agronomia = barrio(df, 'AGRONOMIA')\n",
    "agronomia.head()"
   ]
  },
  {
   "cell_type": "code",
   "execution_count": null,
   "metadata": {},
   "outputs": [],
   "source": [
    "belgrano = barrio(df, 'BELGRANO')\n",
    "belgrano.tail()"
   ]
  },
  {
   "cell_type": "code",
   "execution_count": null,
   "metadata": {},
   "outputs": [],
   "source": [
    "df.to_csv()"
   ]
  }
 ],
 "metadata": {
  "kernelspec": {
   "display_name": "Python 3",
   "language": "python",
   "name": "python3"
  },
  "language_info": {
   "codemirror_mode": {
    "name": "ipython",
    "version": 3
   },
   "file_extension": ".py",
   "mimetype": "text/x-python",
   "name": "python",
   "nbconvert_exporter": "python",
   "pygments_lexer": "ipython3",
   "version": "3.7.2"
  }
 },
 "nbformat": 4,
 "nbformat_minor": 2
}
