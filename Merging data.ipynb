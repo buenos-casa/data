{
 "cells": [
  {
   "cell_type": "code",
   "execution_count": 143,
   "metadata": {},
   "outputs": [
    {
     "name": "stdout",
     "output_type": "stream",
     "text": [
      "/anaconda3/envs/geopandas/bin/python\n"
     ]
    }
   ],
   "source": [
    "import pandas as pd\n",
    "import ast\n",
    "import numpy as np\n",
    "import sys\n",
    "print(sys.executable)\n",
    "import geopandas\n",
    "from shapely.geometry import Point\n",
    "from shapely.geometry.polygon import Polygon\n",
    "\n",
    " "
   ]
  },
  {
   "cell_type": "markdown",
   "metadata": {},
   "source": [
    "### Import data"
   ]
  },
  {
   "cell_type": "code",
   "execution_count": 144,
   "metadata": {},
   "outputs": [],
   "source": [
    "properati = pd.read_csv('properati_data/rent-2015.csv', encoding= \"ISO-8859-1\")\n",
    "prop_data = pd.read_csv('prop_data/cleaned_data.csv', encoding= \"ISO-8859-1\")\n",
    "census = pd.read_csv('census/cleaned_data2.csv',encoding= \"ISO-8859-1\")"
   ]
  },
  {
   "cell_type": "markdown",
   "metadata": {},
   "source": [
    "### Basic stats per dataframe"
   ]
  },
  {
   "cell_type": "code",
   "execution_count": 145,
   "metadata": {},
   "outputs": [
    {
     "name": "stdout",
     "output_type": "stream",
     "text": [
      "Properati Columns:\n",
      " ['dataset_date' 'id' 'created_on' 'operation' 'property_type' 'place_name'\n",
      " 'place_with_parent_names' 'country_name' 'state_name' 'geonames_id'\n",
      " 'lat_lon' 'lat' 'lon' 'price' 'currency' 'price_aprox_local_currency'\n",
      " 'price_aprox_usd' 'properati_url' 'description' 'title' 'image_thumbnail']\n",
      "\n",
      "Property Values Columns:\n",
      " ['Unnamed: 0' 'Location' 'Commune' 'Longitude' 'Latitude' 'Date'\n",
      " 'Value in US Dollars' 'Value of m2 (US Dollars)' 'm2']\n",
      "\n",
      "Census Columns:\n",
      " ['id' 'AREA' 'Commune' 'DEPTO' 'FRAC' 'Computer Percent'\n",
      " 'Computer Quantile' 'Cellular Percent' 'Cellular Quantile' 'Rent Percent'\n",
      " 'Rent Quantile' 'LINK' 'Immigration Percent' 'Immigration Quantile'\n",
      " 'Education Percent' 'Education Quantile' 'PERIMETER' 'Owner Percent'\n",
      " 'Owner Quantile' 'PROV' 'RADIO' 'RADPAIS_' 'REDCODE' 'Regular Percent'\n",
      " 'Regular Quantile' 'TIPO' 'Uninhabited Percent' 'Uninhabited Quantile'\n",
      " 'coordinates' 'type']\n",
      "\n"
     ]
    }
   ],
   "source": [
    "print ('Properati Columns:\\n {}\\n'.format(properati.columns.values))\n",
    "print ('Property Values Columns:\\n {}\\n'.format(prop_data.columns.values))\n",
    "print ('Census Columns:\\n {}\\n'.format(census.columns.values))"
   ]
  },
  {
   "cell_type": "markdown",
   "metadata": {},
   "source": [
    "### Explore the dataframe"
   ]
  },
  {
   "cell_type": "code",
   "execution_count": 146,
   "metadata": {},
   "outputs": [
    {
     "name": "stdout",
     "output_type": "stream",
     "text": [
      "Properati:\n",
      "    dataset_date                                        id created_on  \\\n",
      "0        201501  6052eff893a6541b80eff7c92e2a84244a4a52f7  1/22/2015   \n",
      "1        201501  2a07484bec751cdfe11ed4d66965a8db29aec855   1/8/2015   \n",
      "2        201501  a07be7abc0c1e556eee42315752b6a852069a937  1/22/2015   \n",
      "3        201501  30a6877645bcd6365369c4f7d8dd4cc2ef346686  1/27/2015   \n",
      "4        201501  63c85f1bec3242055bf83e3f93ff4fa1208a4e39  1/10/2015   \n",
      "\n",
      "  operation property_type       place_name      place_with_parent_names  \\\n",
      "0      rent     apartment  Capital Federal  |Argentina|Capital Federal|   \n",
      "1      rent         store  Capital Federal  |Argentina|Capital Federal|   \n",
      "2      rent     apartment  Capital Federal  |Argentina|Capital Federal|   \n",
      "3      rent         store  Capital Federal  |Argentina|Capital Federal|   \n",
      "4      rent         store  Capital Federal  |Argentina|Capital Federal|   \n",
      "\n",
      "  country_name       state_name  geonames_id  ...        lat        lon  \\\n",
      "0    Argentina  Capital Federal    3433955.0  ... -34.581524 -58.433261   \n",
      "1    Argentina  Capital Federal    3433955.0  ... -34.602282 -58.376151   \n",
      "2    Argentina  Capital Federal    3433955.0  ... -34.581524 -58.433261   \n",
      "3    Argentina  Capital Federal    3433955.0  ... -34.622528 -58.430742   \n",
      "4    Argentina  Capital Federal    3433955.0  ... -34.603229 -58.395520   \n",
      "\n",
      "    price  currency price_aprox_local_currency  price_aprox_usd  \\\n",
      "0   700.0       USD                   12092.15           700.00   \n",
      "1  5000.0       ARS                    5732.02           331.82   \n",
      "2   700.0       USD                   12092.15           700.00   \n",
      "3  3700.0       ARS                    7421.81           429.64   \n",
      "4  5000.0       ARS                    5732.02           331.82   \n",
      "\n",
      "                                       properati_url  \\\n",
      "0  http://www.properati.com.ar/kk3l_alquiler_depa...   \n",
      "1  http://www.properati.com.ar/kczd_alquiler_loca...   \n",
      "2  http://www.properati.com.ar/kk3k_alquiler_depa...   \n",
      "3  http://www.properati.com.ar/kl4e_alquiler_loca...   \n",
      "4  http://www.properati.com.ar/ke3d_alquiler_loca...   \n",
      "\n",
      "                                         description                   title  \\\n",
      "0  Alquilar vivienda de 3 habitaciones totalmente...  Departamentos alquiler   \n",
      "1  alquilo local 34m en galerÃÆÃÂ­a luxor,lava...          Local alquiler   \n",
      "2  Alquilar vivienda de 3 habitaciones totalmente...  Departamentos alquiler   \n",
      "3  DueÃÆÃÂ±o!!! Local comercial Joya!!! A nuev...          Local alquiler   \n",
      "4  alquilo local 34m en galerÃÆÃÂ­a luxor  lav...          Local alquiler   \n",
      "\n",
      "                                     image_thumbnail  \n",
      "0  https://thumbs4.properati.com/0/xboIRcD66_k4Ao...  \n",
      "1  https://thumbs4.properati.com/6/takQtNSux3n7Fw...  \n",
      "2  https://thumbs4.properati.com/8/nXP0vShP5ShwUF...  \n",
      "3  https://thumbs4.properati.com/8/p0Bt8V8udUE8yp...  \n",
      "4  https://thumbs4.properati.com/5/KvhE649frN3lnJ...  \n",
      "\n",
      "[5 rows x 21 columns]\n",
      "\n",
      "Property Values:\n",
      "    Unnamed: 0       Location  Commune            Longitude  Latitude  \\\n",
      "0           0        PALERMO       14             -58.4413  -34.5695   \n",
      "1           1       BELGRANO       13             -58.4521  -34.5579   \n",
      "2           2       BELGRANO       13             -58.4523  -34.5577   \n",
      "3           3         NUÃEZ       13             -58.4677  -34.5374   \n",
      "4           4  VILLA ORTUZAR       15  -58.461999999999996  -34.5783   \n",
      "\n",
      "         Date  Value in US Dollars  Value of m2 (US Dollars)     m2  \n",
      "0  2001/12/10             720000.0                    2400.0  300.0  \n",
      "1  2001/12/10             729975.0                     973.3  750.0  \n",
      "2  2001/12/10             650032.5                     847.5  767.0  \n",
      "3  2001/12/10             369991.2                     994.6  372.0  \n",
      "4  2001/12/10              94005.7                     676.3  139.0  \n",
      "\n",
      "Census:\n",
      "       id       AREA  Commune  DEPTO  FRAC  Computer Percent  \\\n",
      "0  32794   17608.88        1    1.0   9.0              75.0   \n",
      "1  32795   14524.75        5    5.0   2.0              87.5   \n",
      "2  32811   79536.88       11   11.0   7.0              75.2   \n",
      "3  32927   63006.06       11   11.0   7.0              72.3   \n",
      "4  34174  136837.40       10   10.0   4.0              71.9   \n",
      "\n",
      "   Computer Quantile  Cellular Percent  Cellular Quantile  Rent Percent  ...  \\\n",
      "0                  6              91.3                  8          62.2  ...   \n",
      "1                  9              95.4                  9          31.2  ...   \n",
      "2                  6              89.0                  6          13.4  ...   \n",
      "3                  5              85.2                  2          15.4  ...   \n",
      "4                  5              87.5                  5          20.5  ...   \n",
      "\n",
      "   RADIO  RADPAIS_     REDCODE  Regular Percent  Regular Quantile  TIPO  \\\n",
      "0    7.0   32794.0  20010907.0             89.9                 6   NaN   \n",
      "1    8.0   32795.0  20050208.0             86.4                 3   NaN   \n",
      "2    6.0   32811.0  20110706.0             93.8                 9   NaN   \n",
      "3    4.0   32927.0  20110704.0             85.2                 3   NaN   \n",
      "4    4.0   34174.0  20100404.0             93.8                 9   NaN   \n",
      "\n",
      "   Uninhabited Percent  Uninhabited Quantile  \\\n",
      "0                 11.8                     9   \n",
      "1                  4.6                     6   \n",
      "2                  4.2                     6   \n",
      "3                  2.2                     3   \n",
      "4                  2.7                     3   \n",
      "\n",
      "                                         coordinates     type  \n",
      "0  [[[-58.37828, -34.598910000000004], [-58.37826...  Polygon  \n",
      "1  [[[-58.41259, -34.60161], [-58.4128, -34.60251...  Polygon  \n",
      "2  [[[-58.50666, -34.60705], [-58.50598, -34.6078...  Polygon  \n",
      "3  [[[-58.51028, -34.60923], [-58.51005, -34.6095...  Polygon  \n",
      "4  [[[-58.5201, -34.62907], [-58.52006, -34.62917...  Polygon  \n",
      "\n",
      "[5 rows x 30 columns]\n",
      "\n"
     ]
    }
   ],
   "source": [
    "print ('Properati:\\n {}\\n'.format(properati.head(5)))\n",
    "print ('Property Values:\\n {}\\n'.format(prop_data.head(5)))\n",
    "print ('Census:\\n {}\\n'.format(census.head(5)))"
   ]
  },
  {
   "cell_type": "markdown",
   "metadata": {},
   "source": [
    "### Create GeoDataFrames\n",
    "Following the documentation found [here](http://geopandas.org/gallery/create_geopandas_from_pandas.html#sphx-glr-gallery-create-geopandas-from-pandas-py)"
   ]
  },
  {
   "cell_type": "code",
   "execution_count": 147,
   "metadata": {},
   "outputs": [],
   "source": [
    "def modify_poly(data):\n",
    "    coord_list = []\n",
    "    #row = ast.literal_eval(data)\n",
    "    for coord in data:\n",
    "        coord_list.append(tuple(coord))\n",
    "    return coord_list"
   ]
  },
  {
   "cell_type": "code",
   "execution_count": 148,
   "metadata": {},
   "outputs": [
    {
     "name": "stdout",
     "output_type": "stream",
     "text": [
      "False\n",
      "51411\n",
      "3552\n",
      "False\n"
     ]
    }
   ],
   "source": [
    "# create a new column called coordinates on properati data frame\n",
    "properati['coordinates'] = list(zip(properati.lon, properati.lat))\n",
    "properati['coordinates'] = properati['coordinates'].apply(Point)\n",
    "\n",
    "# convert properati data into geopandas dataframe\n",
    "properati_gdf = geopandas.GeoDataFrame(properati, geometry='coordinates')\n",
    "\n",
    "# convert the longitudes and latitudes in the properaty values dataframe into float (they were originally in string)\n",
    "prop_data.Latitude = pd.to_numeric(prop_data.Latitude, errors='coerce')\n",
    "prop_data.Longitude = pd.to_numeric(prop_data.Longitude, errors='coerce')\n",
    "\n",
    "#print (properati_gdf.coordinates.head(5))\n",
    "print (properati_gdf.coordinates.isnull().values.any())\n",
    "print (len(properati_gdf))\n",
    "\n",
    "# convert property values data into geopandas dataframe\n",
    "prop_data['coordinates'] = list(zip(prop_data.Longitude, prop_data.Latitude))\n",
    "#prop_data['coordinates'] = list(zip(prop_data.Latitude, prop_data.Longitude))\n",
    "prop_data['coordinates'] = prop_data['coordinates'].apply(Point)\n",
    "prop_data_gdf = geopandas.GeoDataFrame(prop_data, geometry='coordinates')\n",
    "\n",
    "\n",
    "# convert census polygon data into tuples and polygon\n",
    "census.coordinates = census.coordinates.apply(lambda x: ast.literal_eval(x)[0])\n",
    "census.coordinates = census.coordinates.apply(lambda x: modify_poly(x))\n",
    "census.coordinates = census.coordinates.apply(Polygon)\n",
    "\n",
    "census_gdf = geopandas.GeoDataFrame(census, geometry='coordinates')\n",
    "print (len(census_gdf))\n",
    "#print (census_gdf.coordinates[0])\n",
    "print (census_gdf.coordinates.isnull().values.any())"
   ]
  },
  {
   "cell_type": "code",
   "execution_count": 149,
   "metadata": {},
   "outputs": [
    {
     "name": "stdout",
     "output_type": "stream",
     "text": [
      "7107\n"
     ]
    }
   ],
   "source": [
    "properati_census_gdf = geopandas.sjoin(properati_gdf, census_gdf, how=\"inner\", op='within')\n",
    "print (len(properati_census_gdf))"
   ]
  },
  {
   "cell_type": "code",
   "execution_count": 150,
   "metadata": {},
   "outputs": [
    {
     "name": "stdout",
     "output_type": "stream",
     "text": [
      "[ 1.  2. 11. 12. 10.  3.  4. 23. 13.  9.  5. 24. 22.  8. 14. 21. 25. 15.\n",
      "  7.  6. 16. 20. 19. 18. 17.]\n",
      "0    -34.5815242,-58.4332607\n",
      "1     -34.602282,-58.3761509\n",
      "2    -34.5815242,-58.4332607\n",
      "3     -34.622528,-58.4307416\n",
      "4    -34.6032291,-58.3955202\n",
      "Name: lat_lon, dtype: object\n"
     ]
    },
    {
     "data": {
      "text/plain": [
       "'\\nRent Percent\\nImmigration Percent\\nEducation Percent\\nOwner Percent\\nUninhabited Percent\\n'"
      ]
     },
     "execution_count": 150,
     "metadata": {},
     "output_type": "execute_result"
    }
   ],
   "source": [
    "filter = census.query('Commune == 2')\n",
    "print (filter['FRAC'].unique())\n",
    "print (properati.lat_lon.head())\n",
    "'''\n",
    "Rent Percent\n",
    "Immigration Percent\n",
    "Education Percent\n",
    "Owner Percent\n",
    "Uninhabited Percent\n",
    "'''"
   ]
  },
  {
   "cell_type": "markdown",
   "metadata": {},
   "source": [
    "for index, row in properati.iterrows():\n",
    "    # create polygon\n",
    "    print ('Properati Coord: {}'.format(row.lat_lon))\n",
    "    point = Point(ast.literal_eval(row.lat_lon)) # create point\n",
    "    \n",
    "    \n",
    "    for index, census_row in census.iterrows():\n",
    "        coord_list = []\n",
    "        row = ast.literal_eval(census_row.coordinates)[0]\n",
    "        for coord in row:\n",
    "            coord_list.append(tuple(reversed(coord)))\n",
    "        print ('Census polygon: {}'.format(coord_list))    \n",
    "        polygon = Polygon(coord_list) # create polygon\n",
    "        #print ('Running')\n",
    "        print (polygon.contains(point))\n",
    "        if polygon.contains(point):\n",
    "            print (census_row.Commune)# check if polygon contains point"
   ]
  },
  {
   "cell_type": "code",
   "execution_count": 151,
   "metadata": {},
   "outputs": [
    {
     "name": "stdout",
     "output_type": "stream",
     "text": [
      "No.\n"
     ]
    }
   ],
   "source": [
    "point_example = Point((-58.43326070000001,-34.5815242))\n",
    "polygon_example = Polygon([(-58.37828,-34.59891), (-58.37826,-34.59911), (-58.37822,-34.59989), (-58.37821,-34.60008), (-58.37833,-34.60009), (-58.37967,-34.60013), (-58.37973,-34.59916), (-58.37974,-34.59897), (-58.37828,-34.59891)])\n",
    "\n",
    "if polygon_example.contains(point_example):\n",
    "    print ('Done')\n",
    "else:\n",
    "    print ('No.')\n",
    "\n"
   ]
  },
  {
   "cell_type": "code",
   "execution_count": null,
   "metadata": {},
   "outputs": [],
   "source": []
  },
  {
   "cell_type": "code",
   "execution_count": null,
   "metadata": {},
   "outputs": [],
   "source": []
  }
 ],
 "metadata": {
  "kernelspec": {
   "display_name": "Python 3",
   "language": "python",
   "name": "python3"
  },
  "language_info": {
   "codemirror_mode": {
    "name": "ipython",
    "version": 3
   },
   "file_extension": ".py",
   "mimetype": "text/x-python",
   "name": "python",
   "nbconvert_exporter": "python",
   "pygments_lexer": "ipython3",
   "version": "3.7.3"
  }
 },
 "nbformat": 4,
 "nbformat_minor": 2
}
