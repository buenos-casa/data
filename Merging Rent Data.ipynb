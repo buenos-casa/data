{
 "cells": [
  {
   "cell_type": "markdown",
   "metadata": {},
   "source": [
    "### Installing Packages\n",
    "\n",
    "#### Conda environnment\n",
    "You can create the same conda environment that was used to run this notebook using the following command:\n",
    "\n",
    "```\n",
    "conda env create -f requirements.yml\n",
    "```"
   ]
  },
  {
   "cell_type": "code",
   "execution_count": 2,
   "metadata": {},
   "outputs": [],
   "source": [
    "import pandas as pd\n",
    "import ast\n",
    "import numpy as np\n",
    "import sys\n",
    "import geopandas\n",
    "from geopy.distance import geodesic\n",
    "from shapely.geometry import Point\n",
    "from shapely.geometry.polygon import Polygon\n",
    "from shapely.ops import nearest_points\n",
    "\n",
    " "
   ]
  },
  {
   "cell_type": "markdown",
   "metadata": {},
   "source": [
    "### Import data"
   ]
  },
  {
   "cell_type": "code",
   "execution_count": 4,
   "metadata": {},
   "outputs": [],
   "source": [
    "properati = pd.read_csv('properati_data/rent/rent-combined.csv', encoding= \"ISO-8859-1\")\n",
    "prop_data = pd.read_csv('prop_data/cleaned_data.csv', encoding= \"ISO-8859-1\")\n",
    "census = pd.read_csv('census/cleaned_data2.csv',encoding= \"ISO-8859-1\")"
   ]
  },
  {
   "cell_type": "markdown",
   "metadata": {},
   "source": [
    "### Basic stats per dataframe"
   ]
  },
  {
   "cell_type": "code",
   "execution_count": 5,
   "metadata": {},
   "outputs": [
    {
     "name": "stdout",
     "output_type": "stream",
     "text": [
      "Properati Columns:\n",
      " ['dataset_date' 'id' 'created_on' 'operation' 'property_type' 'place_name'\n",
      " 'place_with_parent_names' 'country_name' 'state_name' 'geonames_id'\n",
      " 'lat_lon' 'lat' 'lon' 'price' 'currency' 'price_aprox_local_currency'\n",
      " 'price_aprox_usd' 'properati_url' 'description' 'title' 'image_thumbnail']\n",
      "\n",
      "Property Values Columns:\n",
      " ['Commune' 'Longitude' 'Latitude' 'Date' 'Value in US Dollars'\n",
      " 'Value of m2 (US Dollars)' 'm2' 'b_id']\n",
      "\n",
      "Census Columns:\n",
      " ['id' 'AREA' 'Commune' 'DEPTO' 'FRAC' 'Computer Percent'\n",
      " 'Computer Quantile' 'Cellular Percent' 'Cellular Quantile' 'Rent Percent'\n",
      " 'Rent Quantile' 'LINK' 'Immigration Percent' 'Immigration Quantile'\n",
      " 'Education Percent' 'Education Quantile' 'PERIMETER' 'Owner Percent'\n",
      " 'Owner Quantile' 'PROV' 'RADIO' 'RADPAIS_' 'REDCODE' 'Regular Percent'\n",
      " 'Regular Quantile' 'TIPO' 'Uninhabited Percent' 'Uninhabited Quantile'\n",
      " 'coordinates' 'type']\n",
      "\n"
     ]
    }
   ],
   "source": [
    "print ('Properati Columns:\\n {}\\n'.format(properati.columns.values))\n",
    "print ('Property Values Columns:\\n {}\\n'.format(prop_data.columns.values))\n",
    "print ('Census Columns:\\n {}\\n'.format(census.columns.values))"
   ]
  },
  {
   "cell_type": "markdown",
   "metadata": {},
   "source": [
    "### Explore the dataframe"
   ]
  },
  {
   "cell_type": "code",
   "execution_count": 6,
   "metadata": {},
   "outputs": [
    {
     "data": {
      "text/html": [
       "<div>\n",
       "<style scoped>\n",
       "    .dataframe tbody tr th:only-of-type {\n",
       "        vertical-align: middle;\n",
       "    }\n",
       "\n",
       "    .dataframe tbody tr th {\n",
       "        vertical-align: top;\n",
       "    }\n",
       "\n",
       "    .dataframe thead th {\n",
       "        text-align: right;\n",
       "    }\n",
       "</style>\n",
       "<table border=\"1\" class=\"dataframe\">\n",
       "  <thead>\n",
       "    <tr style=\"text-align: right;\">\n",
       "      <th></th>\n",
       "      <th>Commune</th>\n",
       "      <th>Longitude</th>\n",
       "      <th>Latitude</th>\n",
       "      <th>Date</th>\n",
       "      <th>Value in US Dollars</th>\n",
       "      <th>Value of m2 (US Dollars)</th>\n",
       "      <th>m2</th>\n",
       "      <th>b_id</th>\n",
       "    </tr>\n",
       "  </thead>\n",
       "  <tbody>\n",
       "    <tr>\n",
       "      <th>0</th>\n",
       "      <td>14</td>\n",
       "      <td>-58.4413</td>\n",
       "      <td>-34.5695</td>\n",
       "      <td>2001/12/10</td>\n",
       "      <td>720000.0</td>\n",
       "      <td>2400.0</td>\n",
       "      <td>300.0</td>\n",
       "      <td>0</td>\n",
       "    </tr>\n",
       "    <tr>\n",
       "      <th>1</th>\n",
       "      <td>13</td>\n",
       "      <td>-58.4521</td>\n",
       "      <td>-34.5579</td>\n",
       "      <td>2001/12/10</td>\n",
       "      <td>729975.0</td>\n",
       "      <td>973.3</td>\n",
       "      <td>750.0</td>\n",
       "      <td>1</td>\n",
       "    </tr>\n",
       "    <tr>\n",
       "      <th>2</th>\n",
       "      <td>13</td>\n",
       "      <td>-58.4523</td>\n",
       "      <td>-34.5577</td>\n",
       "      <td>2001/12/10</td>\n",
       "      <td>650032.5</td>\n",
       "      <td>847.5</td>\n",
       "      <td>767.0</td>\n",
       "      <td>1</td>\n",
       "    </tr>\n",
       "    <tr>\n",
       "      <th>3</th>\n",
       "      <td>13</td>\n",
       "      <td>-58.4677</td>\n",
       "      <td>-34.5374</td>\n",
       "      <td>2001/12/10</td>\n",
       "      <td>369991.2</td>\n",
       "      <td>994.6</td>\n",
       "      <td>372.0</td>\n",
       "      <td>2</td>\n",
       "    </tr>\n",
       "    <tr>\n",
       "      <th>4</th>\n",
       "      <td>15</td>\n",
       "      <td>-58.461999999999996</td>\n",
       "      <td>-34.5783</td>\n",
       "      <td>2001/12/10</td>\n",
       "      <td>94005.7</td>\n",
       "      <td>676.3</td>\n",
       "      <td>139.0</td>\n",
       "      <td>3</td>\n",
       "    </tr>\n",
       "    <tr>\n",
       "      <th>5</th>\n",
       "      <td>15</td>\n",
       "      <td>-58.4634</td>\n",
       "      <td>-34.5766</td>\n",
       "      <td>2001/12/10</td>\n",
       "      <td>94006.5</td>\n",
       "      <td>639.5</td>\n",
       "      <td>147.0</td>\n",
       "      <td>3</td>\n",
       "    </tr>\n",
       "    <tr>\n",
       "      <th>6</th>\n",
       "      <td>3</td>\n",
       "      <td>-58.4115</td>\n",
       "      <td>-34.6118</td>\n",
       "      <td>2001/12/10</td>\n",
       "      <td>220012.0</td>\n",
       "      <td>423.1</td>\n",
       "      <td>520.0</td>\n",
       "      <td>4</td>\n",
       "    </tr>\n",
       "    <tr>\n",
       "      <th>7</th>\n",
       "      <td>3</td>\n",
       "      <td>-58.4115</td>\n",
       "      <td>-34.6137</td>\n",
       "      <td>2001/12/10</td>\n",
       "      <td>45000.9</td>\n",
       "      <td>238.1</td>\n",
       "      <td>189.0</td>\n",
       "      <td>4</td>\n",
       "    </tr>\n",
       "    <tr>\n",
       "      <th>8</th>\n",
       "      <td>3</td>\n",
       "      <td>-58.4111</td>\n",
       "      <td>-34.6196</td>\n",
       "      <td>2001/12/10</td>\n",
       "      <td>128990.7</td>\n",
       "      <td>297.9</td>\n",
       "      <td>433.0</td>\n",
       "      <td>4</td>\n",
       "    </tr>\n",
       "    <tr>\n",
       "      <th>9</th>\n",
       "      <td>3</td>\n",
       "      <td>-58.4102</td>\n",
       "      <td>-34.6248</td>\n",
       "      <td>2001/12/10</td>\n",
       "      <td>90001.6</td>\n",
       "      <td>432.7</td>\n",
       "      <td>208.0</td>\n",
       "      <td>5</td>\n",
       "    </tr>\n",
       "  </tbody>\n",
       "</table>\n",
       "</div>"
      ],
      "text/plain": [
       "   Commune            Longitude  Latitude        Date  Value in US Dollars  \\\n",
       "0       14             -58.4413  -34.5695  2001/12/10             720000.0   \n",
       "1       13             -58.4521  -34.5579  2001/12/10             729975.0   \n",
       "2       13             -58.4523  -34.5577  2001/12/10             650032.5   \n",
       "3       13             -58.4677  -34.5374  2001/12/10             369991.2   \n",
       "4       15  -58.461999999999996  -34.5783  2001/12/10              94005.7   \n",
       "5       15             -58.4634  -34.5766  2001/12/10              94006.5   \n",
       "6        3             -58.4115  -34.6118  2001/12/10             220012.0   \n",
       "7        3             -58.4115  -34.6137  2001/12/10              45000.9   \n",
       "8        3             -58.4111  -34.6196  2001/12/10             128990.7   \n",
       "9        3             -58.4102  -34.6248  2001/12/10              90001.6   \n",
       "\n",
       "   Value of m2 (US Dollars)     m2  b_id  \n",
       "0                    2400.0  300.0     0  \n",
       "1                     973.3  750.0     1  \n",
       "2                     847.5  767.0     1  \n",
       "3                     994.6  372.0     2  \n",
       "4                     676.3  139.0     3  \n",
       "5                     639.5  147.0     3  \n",
       "6                     423.1  520.0     4  \n",
       "7                     238.1  189.0     4  \n",
       "8                     297.9  433.0     4  \n",
       "9                     432.7  208.0     5  "
      ]
     },
     "execution_count": 6,
     "metadata": {},
     "output_type": "execute_result"
    }
   ],
   "source": [
    "prop_data.head(10)"
   ]
  },
  {
   "cell_type": "markdown",
   "metadata": {},
   "source": [
    "### Create GeoDataFrames\n",
    "Following the documentation found [here](http://geopandas.org/gallery/create_geopandas_from_pandas.html#sphx-glr-gallery-create-geopandas-from-pandas-py)"
   ]
  },
  {
   "cell_type": "code",
   "execution_count": 5,
   "metadata": {},
   "outputs": [],
   "source": [
    "def modify_poly(data):\n",
    "    coord_list = []\n",
    "    #row = ast.literal_eval(data)\n",
    "    for coord in data:\n",
    "        coord_list.append(tuple(coord))\n",
    "    return coord_list"
   ]
  },
  {
   "cell_type": "code",
   "execution_count": 6,
   "metadata": {},
   "outputs": [
    {
     "name": "stdout",
     "output_type": "stream",
     "text": [
      "False\n",
      "265181\n",
      "3552\n",
      "False\n"
     ]
    }
   ],
   "source": [
    "# create a new column called coordinates on properati data frame\n",
    "properati['coordinates'] = list(zip(properati.lon, properati.lat))\n",
    "properati['coordinates'] = properati['coordinates'].apply(Point)\n",
    "\n",
    "# convert properati data into geopandas dataframe\n",
    "properati_gdf = geopandas.GeoDataFrame(properati, geometry='coordinates')\n",
    "\n",
    "# convert the longitudes and latitudes in the properaty values dataframe into float (they were originally in string)\n",
    "prop_data.Latitude = pd.to_numeric(prop_data.Latitude, errors='coerce')\n",
    "prop_data.Longitude = pd.to_numeric(prop_data.Longitude, errors='coerce')\n",
    "\n",
    "#print (properati_gdf.coordinates.head(5))\n",
    "print (properati_gdf.coordinates.isnull().values.any())\n",
    "print (len(properati_gdf))\n",
    "\n",
    "# convert property values data into geopandas dataframe\n",
    "prop_data['coordinates'] = list(zip(prop_data.Longitude, prop_data.Latitude))\n",
    "#prop_data['coordinates'] = list(zip(prop_data.Latitude, prop_data.Longitude))\n",
    "prop_data['coordinates'] = prop_data['coordinates'].apply(Point)\n",
    "prop_data_gdf = geopandas.GeoDataFrame(prop_data, geometry='coordinates')\n",
    "\n",
    "\n",
    "# convert census polygon data into tuples and polygon\n",
    "census.coordinates = census.coordinates.apply(lambda x: ast.literal_eval(x)[0])\n",
    "census.coordinates = census.coordinates.apply(lambda x: modify_poly(x))\n",
    "census.coordinates = census.coordinates.apply(Polygon)\n",
    "\n",
    "census_gdf = geopandas.GeoDataFrame(census, geometry='coordinates')\n",
    "print (len(census_gdf))\n",
    "#print (census_gdf.coordinates[0])\n",
    "print (census_gdf.coordinates.isnull().values.any())"
   ]
  },
  {
   "cell_type": "code",
   "execution_count": 10,
   "metadata": {},
   "outputs": [
    {
     "name": "stdout",
     "output_type": "stream",
     "text": [
      "0.25%\n",
      "65574\n"
     ]
    },
    {
     "data": {
      "text/plain": [
       "'property_join = geopandas.sjoin(properati_gdf, prop_data_gdf, how=\"inner\", op=\\'within\\')\\nprint (property_join.head(5))\\nprint (\\'Done.\\')'"
      ]
     },
     "execution_count": 10,
     "metadata": {},
     "output_type": "execute_result"
    }
   ],
   "source": [
    "#properati_prop_gdf = geopandas.sjoin(properati_gdf, prop_data_gdf, how=\"inner\", op=\"within\")\n",
    "#print (len(properati_prop_gdf))\n",
    "\n",
    "properati_census_gdf = geopandas.sjoin(properati_gdf, census_gdf, how=\"inner\", op='within')\n",
    "print ('{:.2f}%'.format(len(properati_census_gdf)/len(properati_gdf)))\n",
    "\n",
    "print (len(properati_census_gdf))\n",
    "\n",
    "'''property_join = geopandas.sjoin(properati_gdf, prop_data_gdf, how=\"inner\", op='within')\n",
    "print (property_join.head(5))\n",
    "print ('Done.')'''\n",
    "\n"
   ]
  },
  {
   "cell_type": "code",
   "execution_count": null,
   "metadata": {},
   "outputs": [],
   "source": []
  },
  {
   "cell_type": "markdown",
   "metadata": {},
   "source": [
    "### [References](https://automating-gis-processes.github.io/2017/lessons/L3/nearest-neighbour.html)"
   ]
  },
  {
   "cell_type": "code",
   "execution_count": 26,
   "metadata": {},
   "outputs": [],
   "source": [
    "def nearest(point, df):\n",
    "    dist = 100000000\n",
    "    fin_index = 0\n",
    "    index = 0\n",
    "    coord_list =  df.coordinates.to_list()\n",
    "    for prop_point in coord_list:\n",
    "        try:\n",
    "            new_dist = geodesic((point.x, point.y), (prop_point.x, prop_point.y)).km\n",
    "            if new_dist < dist:\n",
    "                dist = new_dist\n",
    "                fin_index = index\n",
    "            index += 1\n",
    "        except ValueError as e:\n",
    "            pass\n",
    "    \n",
    "    print (dist)\n",
    "    return dist, fin_index\n",
    "        "
   ]
  },
  {
   "cell_type": "code",
   "execution_count": 27,
   "metadata": {},
   "outputs": [
    {
     "name": "stdout",
     "output_type": "stream",
     "text": [
      "0.03567278198498203\n",
      "0.03567278198498203\n",
      "0.06882108362665816\n",
      "0.06882108362665816\n",
      "0.02361655291852966\n",
      "0.02361655291852966\n",
      "0.06882108362665816\n",
      "0.02361655291852966\n",
      "0.02361655291852966\n",
      "0.07664338873053113\n",
      "0.005837561136944921\n",
      "0.03568425109550813\n",
      "0.01874476940902667\n",
      "0.07664338873053113\n",
      "0.005837561136944921\n",
      "0.03568425109550813\n",
      "0.01874476940902667\n",
      "0.07664338873053113\n",
      "0.005837561136944921\n",
      "0.03568425109550813\n",
      "0.01874476940902667\n",
      "0.07664338873053113\n",
      "0.005837561136944921\n",
      "0.03568425109550813\n",
      "0.03286924664301781\n",
      "0.005837561136944921\n",
      "0.03568425109550813\n"
     ]
    },
    {
     "ename": "KeyboardInterrupt",
     "evalue": "",
     "output_type": "error",
     "traceback": [
      "\u001b[0;31m---------------------------------------------------------------------------\u001b[0m",
      "\u001b[0;31mKeyboardInterrupt\u001b[0m                         Traceback (most recent call last)",
      "\u001b[0;32m<ipython-input-27-6fcd9a10261b>\u001b[0m in \u001b[0;36m<module>\u001b[0;34m\u001b[0m\n\u001b[0;32m----> 1\u001b[0;31m \u001b[0mproperati_census_gdf\u001b[0m\u001b[0;34m[\u001b[0m\u001b[0;34m'property_value_distance'\u001b[0m\u001b[0;34m]\u001b[0m\u001b[0;34m,\u001b[0m\u001b[0mproperati_census_gdf\u001b[0m\u001b[0;34m[\u001b[0m\u001b[0;34m'prop_index'\u001b[0m\u001b[0;34m]\u001b[0m \u001b[0;34m=\u001b[0m \u001b[0mproperati_census_gdf\u001b[0m\u001b[0;34m.\u001b[0m\u001b[0mcoordinates\u001b[0m\u001b[0;34m.\u001b[0m\u001b[0mapply\u001b[0m\u001b[0;34m(\u001b[0m\u001b[0;32mlambda\u001b[0m \u001b[0mx\u001b[0m\u001b[0;34m:\u001b[0m \u001b[0mnearest\u001b[0m\u001b[0;34m(\u001b[0m\u001b[0mx\u001b[0m\u001b[0;34m,\u001b[0m \u001b[0mprop_data_gdf\u001b[0m\u001b[0;34m)\u001b[0m\u001b[0;34m)\u001b[0m\u001b[0;34m\u001b[0m\u001b[0;34m\u001b[0m\u001b[0m\n\u001b[0m\u001b[1;32m      2\u001b[0m \u001b[0;34m\u001b[0m\u001b[0m\n\u001b[1;32m      3\u001b[0m \u001b[0;34m\u001b[0m\u001b[0m\n\u001b[1;32m      4\u001b[0m \u001b[0;34m\u001b[0m\u001b[0m\n",
      "\u001b[0;32m/anaconda3/envs/geopandas/lib/python3.7/site-packages/pandas/core/series.py\u001b[0m in \u001b[0;36mapply\u001b[0;34m(self, func, convert_dtype, args, **kwds)\u001b[0m\n\u001b[1;32m   3589\u001b[0m             \u001b[0;32melse\u001b[0m\u001b[0;34m:\u001b[0m\u001b[0;34m\u001b[0m\u001b[0;34m\u001b[0m\u001b[0m\n\u001b[1;32m   3590\u001b[0m                 \u001b[0mvalues\u001b[0m \u001b[0;34m=\u001b[0m \u001b[0mself\u001b[0m\u001b[0;34m.\u001b[0m\u001b[0mastype\u001b[0m\u001b[0;34m(\u001b[0m\u001b[0mobject\u001b[0m\u001b[0;34m)\u001b[0m\u001b[0;34m.\u001b[0m\u001b[0mvalues\u001b[0m\u001b[0;34m\u001b[0m\u001b[0;34m\u001b[0m\u001b[0m\n\u001b[0;32m-> 3591\u001b[0;31m                 \u001b[0mmapped\u001b[0m \u001b[0;34m=\u001b[0m \u001b[0mlib\u001b[0m\u001b[0;34m.\u001b[0m\u001b[0mmap_infer\u001b[0m\u001b[0;34m(\u001b[0m\u001b[0mvalues\u001b[0m\u001b[0;34m,\u001b[0m \u001b[0mf\u001b[0m\u001b[0;34m,\u001b[0m \u001b[0mconvert\u001b[0m\u001b[0;34m=\u001b[0m\u001b[0mconvert_dtype\u001b[0m\u001b[0;34m)\u001b[0m\u001b[0;34m\u001b[0m\u001b[0;34m\u001b[0m\u001b[0m\n\u001b[0m\u001b[1;32m   3592\u001b[0m \u001b[0;34m\u001b[0m\u001b[0m\n\u001b[1;32m   3593\u001b[0m         \u001b[0;32mif\u001b[0m \u001b[0mlen\u001b[0m\u001b[0;34m(\u001b[0m\u001b[0mmapped\u001b[0m\u001b[0;34m)\u001b[0m \u001b[0;32mand\u001b[0m \u001b[0misinstance\u001b[0m\u001b[0;34m(\u001b[0m\u001b[0mmapped\u001b[0m\u001b[0;34m[\u001b[0m\u001b[0;36m0\u001b[0m\u001b[0;34m]\u001b[0m\u001b[0;34m,\u001b[0m \u001b[0mSeries\u001b[0m\u001b[0;34m)\u001b[0m\u001b[0;34m:\u001b[0m\u001b[0;34m\u001b[0m\u001b[0;34m\u001b[0m\u001b[0m\n",
      "\u001b[0;32mpandas/_libs/lib.pyx\u001b[0m in \u001b[0;36mpandas._libs.lib.map_infer\u001b[0;34m()\u001b[0m\n",
      "\u001b[0;32m<ipython-input-27-6fcd9a10261b>\u001b[0m in \u001b[0;36m<lambda>\u001b[0;34m(x)\u001b[0m\n\u001b[0;32m----> 1\u001b[0;31m \u001b[0mproperati_census_gdf\u001b[0m\u001b[0;34m[\u001b[0m\u001b[0;34m'property_value_distance'\u001b[0m\u001b[0;34m]\u001b[0m\u001b[0;34m,\u001b[0m\u001b[0mproperati_census_gdf\u001b[0m\u001b[0;34m[\u001b[0m\u001b[0;34m'prop_index'\u001b[0m\u001b[0;34m]\u001b[0m \u001b[0;34m=\u001b[0m \u001b[0mproperati_census_gdf\u001b[0m\u001b[0;34m.\u001b[0m\u001b[0mcoordinates\u001b[0m\u001b[0;34m.\u001b[0m\u001b[0mapply\u001b[0m\u001b[0;34m(\u001b[0m\u001b[0;32mlambda\u001b[0m \u001b[0mx\u001b[0m\u001b[0;34m:\u001b[0m \u001b[0mnearest\u001b[0m\u001b[0;34m(\u001b[0m\u001b[0mx\u001b[0m\u001b[0;34m,\u001b[0m \u001b[0mprop_data_gdf\u001b[0m\u001b[0;34m)\u001b[0m\u001b[0;34m)\u001b[0m\u001b[0;34m\u001b[0m\u001b[0;34m\u001b[0m\u001b[0m\n\u001b[0m\u001b[1;32m      2\u001b[0m \u001b[0;34m\u001b[0m\u001b[0m\n\u001b[1;32m      3\u001b[0m \u001b[0;34m\u001b[0m\u001b[0m\n\u001b[1;32m      4\u001b[0m \u001b[0;34m\u001b[0m\u001b[0m\n",
      "\u001b[0;32m<ipython-input-26-471693a5c8d8>\u001b[0m in \u001b[0;36mnearest\u001b[0;34m(point, df)\u001b[0m\n\u001b[1;32m      6\u001b[0m     \u001b[0;32mfor\u001b[0m \u001b[0mprop_point\u001b[0m \u001b[0;32min\u001b[0m \u001b[0mcoord_list\u001b[0m\u001b[0;34m:\u001b[0m\u001b[0;34m\u001b[0m\u001b[0;34m\u001b[0m\u001b[0m\n\u001b[1;32m      7\u001b[0m         \u001b[0;32mtry\u001b[0m\u001b[0;34m:\u001b[0m\u001b[0;34m\u001b[0m\u001b[0;34m\u001b[0m\u001b[0m\n\u001b[0;32m----> 8\u001b[0;31m             \u001b[0mnew_dist\u001b[0m \u001b[0;34m=\u001b[0m \u001b[0mgeodesic\u001b[0m\u001b[0;34m(\u001b[0m\u001b[0;34m(\u001b[0m\u001b[0mpoint\u001b[0m\u001b[0;34m.\u001b[0m\u001b[0mx\u001b[0m\u001b[0;34m,\u001b[0m \u001b[0mpoint\u001b[0m\u001b[0;34m.\u001b[0m\u001b[0my\u001b[0m\u001b[0;34m)\u001b[0m\u001b[0;34m,\u001b[0m \u001b[0;34m(\u001b[0m\u001b[0mprop_point\u001b[0m\u001b[0;34m.\u001b[0m\u001b[0mx\u001b[0m\u001b[0;34m,\u001b[0m \u001b[0mprop_point\u001b[0m\u001b[0;34m.\u001b[0m\u001b[0my\u001b[0m\u001b[0;34m)\u001b[0m\u001b[0;34m)\u001b[0m\u001b[0;34m.\u001b[0m\u001b[0mkm\u001b[0m\u001b[0;34m\u001b[0m\u001b[0;34m\u001b[0m\u001b[0m\n\u001b[0m\u001b[1;32m      9\u001b[0m             \u001b[0;32mif\u001b[0m \u001b[0mnew_dist\u001b[0m \u001b[0;34m<\u001b[0m \u001b[0mdist\u001b[0m\u001b[0;34m:\u001b[0m\u001b[0;34m\u001b[0m\u001b[0;34m\u001b[0m\u001b[0m\n\u001b[1;32m     10\u001b[0m                 \u001b[0mdist\u001b[0m \u001b[0;34m=\u001b[0m \u001b[0mnew_dist\u001b[0m\u001b[0;34m\u001b[0m\u001b[0;34m\u001b[0m\u001b[0m\n",
      "\u001b[0;32m/anaconda3/envs/geopandas/lib/python3.7/site-packages/shapely/geometry/point.py\u001b[0m in \u001b[0;36mx\u001b[0;34m(self)\u001b[0m\n\u001b[1;32m     54\u001b[0m     \u001b[0;32mdef\u001b[0m \u001b[0mx\u001b[0m\u001b[0;34m(\u001b[0m\u001b[0mself\u001b[0m\u001b[0;34m)\u001b[0m\u001b[0;34m:\u001b[0m\u001b[0;34m\u001b[0m\u001b[0;34m\u001b[0m\u001b[0m\n\u001b[1;32m     55\u001b[0m         \u001b[0;34m\"\"\"Return x coordinate.\"\"\"\u001b[0m\u001b[0;34m\u001b[0m\u001b[0;34m\u001b[0m\u001b[0m\n\u001b[0;32m---> 56\u001b[0;31m         \u001b[0;32mreturn\u001b[0m \u001b[0mself\u001b[0m\u001b[0;34m.\u001b[0m\u001b[0mcoords\u001b[0m\u001b[0;34m[\u001b[0m\u001b[0;36m0\u001b[0m\u001b[0;34m]\u001b[0m\u001b[0;34m[\u001b[0m\u001b[0;36m0\u001b[0m\u001b[0;34m]\u001b[0m\u001b[0;34m\u001b[0m\u001b[0;34m\u001b[0m\u001b[0m\n\u001b[0m\u001b[1;32m     57\u001b[0m \u001b[0;34m\u001b[0m\u001b[0m\n\u001b[1;32m     58\u001b[0m     \u001b[0;34m@\u001b[0m\u001b[0mproperty\u001b[0m\u001b[0;34m\u001b[0m\u001b[0;34m\u001b[0m\u001b[0m\n",
      "\u001b[0;32m/anaconda3/envs/geopandas/lib/python3.7/site-packages/shapely/coords.py\u001b[0m in \u001b[0;36m__getitem__\u001b[0;34m(self, key)\u001b[0m\n\u001b[1;32m     72\u001b[0m         \u001b[0mdy\u001b[0m \u001b[0;34m=\u001b[0m \u001b[0mc_double\u001b[0m\u001b[0;34m(\u001b[0m\u001b[0;34m)\u001b[0m\u001b[0;34m\u001b[0m\u001b[0;34m\u001b[0m\u001b[0m\n\u001b[1;32m     73\u001b[0m         \u001b[0mdz\u001b[0m \u001b[0;34m=\u001b[0m \u001b[0mc_double\u001b[0m\u001b[0;34m(\u001b[0m\u001b[0;34m)\u001b[0m\u001b[0;34m\u001b[0m\u001b[0;34m\u001b[0m\u001b[0m\n\u001b[0;32m---> 74\u001b[0;31m         \u001b[0mm\u001b[0m \u001b[0;34m=\u001b[0m \u001b[0mself\u001b[0m\u001b[0;34m.\u001b[0m\u001b[0m__len__\u001b[0m\u001b[0;34m(\u001b[0m\u001b[0;34m)\u001b[0m\u001b[0;34m\u001b[0m\u001b[0;34m\u001b[0m\u001b[0m\n\u001b[0m\u001b[1;32m     75\u001b[0m         \u001b[0mhas_z\u001b[0m \u001b[0;34m=\u001b[0m \u001b[0mself\u001b[0m\u001b[0;34m.\u001b[0m\u001b[0m_ndim\u001b[0m \u001b[0;34m==\u001b[0m \u001b[0;36m3\u001b[0m\u001b[0;34m\u001b[0m\u001b[0;34m\u001b[0m\u001b[0m\n\u001b[1;32m     76\u001b[0m         \u001b[0;32mif\u001b[0m \u001b[0misinstance\u001b[0m\u001b[0;34m(\u001b[0m\u001b[0mkey\u001b[0m\u001b[0;34m,\u001b[0m \u001b[0mint\u001b[0m\u001b[0;34m)\u001b[0m\u001b[0;34m:\u001b[0m\u001b[0;34m\u001b[0m\u001b[0;34m\u001b[0m\u001b[0m\n",
      "\u001b[0;32m/anaconda3/envs/geopandas/lib/python3.7/site-packages/shapely/coords.py\u001b[0m in \u001b[0;36m__len__\u001b[0;34m(self)\u001b[0m\n\u001b[1;32m     48\u001b[0m     \u001b[0;32mdef\u001b[0m \u001b[0m__len__\u001b[0m\u001b[0;34m(\u001b[0m\u001b[0mself\u001b[0m\u001b[0;34m)\u001b[0m\u001b[0;34m:\u001b[0m\u001b[0;34m\u001b[0m\u001b[0;34m\u001b[0m\u001b[0m\n\u001b[1;32m     49\u001b[0m         \u001b[0mself\u001b[0m\u001b[0;34m.\u001b[0m\u001b[0m_update\u001b[0m\u001b[0;34m(\u001b[0m\u001b[0;34m)\u001b[0m\u001b[0;34m\u001b[0m\u001b[0;34m\u001b[0m\u001b[0m\n\u001b[0;32m---> 50\u001b[0;31m         \u001b[0mcs_len\u001b[0m \u001b[0;34m=\u001b[0m \u001b[0mc_uint\u001b[0m\u001b[0;34m(\u001b[0m\u001b[0;36m0\u001b[0m\u001b[0;34m)\u001b[0m\u001b[0;34m\u001b[0m\u001b[0;34m\u001b[0m\u001b[0m\n\u001b[0m\u001b[1;32m     51\u001b[0m         \u001b[0mlgeos\u001b[0m\u001b[0;34m.\u001b[0m\u001b[0mGEOSCoordSeq_getSize\u001b[0m\u001b[0;34m(\u001b[0m\u001b[0mself\u001b[0m\u001b[0;34m.\u001b[0m\u001b[0m_cseq\u001b[0m\u001b[0;34m,\u001b[0m \u001b[0mbyref\u001b[0m\u001b[0;34m(\u001b[0m\u001b[0mcs_len\u001b[0m\u001b[0;34m)\u001b[0m\u001b[0;34m)\u001b[0m\u001b[0;34m\u001b[0m\u001b[0;34m\u001b[0m\u001b[0m\n\u001b[1;32m     52\u001b[0m         \u001b[0;32mreturn\u001b[0m \u001b[0mcs_len\u001b[0m\u001b[0;34m.\u001b[0m\u001b[0mvalue\u001b[0m\u001b[0;34m\u001b[0m\u001b[0;34m\u001b[0m\u001b[0m\n",
      "\u001b[0;31mKeyboardInterrupt\u001b[0m: "
     ]
    }
   ],
   "source": [
    "properati_census_gdf['property_value_distance'],properati_census_gdf['prop_index'] = properati_census_gdf.coordinates.apply(lambda x: nearest(x, prop_data_gdf))\n",
    "\n",
    "\n",
    "\n"
   ]
  },
  {
   "cell_type": "code",
   "execution_count": null,
   "metadata": {},
   "outputs": [],
   "source": [
    "filter = census.query('Commune == 2')\n",
    "print (filter['FRAC'].unique())\n",
    "print (properati.lat_lon.head())\n",
    "'''\n",
    "Rent Percent\n",
    "Immigration Percent\n",
    "Education Percent\n",
    "Owner Percent\n",
    "Uninhabited Percent\n",
    "'''"
   ]
  },
  {
   "cell_type": "markdown",
   "metadata": {},
   "source": [
    "for index, row in properati.iterrows():\n",
    "    # create polygon\n",
    "    print ('Properati Coord: {}'.format(row.lat_lon))\n",
    "    point = Point(ast.literal_eval(row.lat_lon)) # create point\n",
    "    \n",
    "    \n",
    "    for index, census_row in census.iterrows():\n",
    "        coord_list = []\n",
    "        row = ast.literal_eval(census_row.coordinates)[0]\n",
    "        for coord in row:\n",
    "            coord_list.append(tuple(reversed(coord)))\n",
    "        print ('Census polygon: {}'.format(coord_list))    \n",
    "        polygon = Polygon(coord_list) # create polygon\n",
    "        #print ('Running')\n",
    "        print (polygon.contains(point))\n",
    "        if polygon.contains(point):\n",
    "            print (census_row.Commune)# check if polygon contains point"
   ]
  },
  {
   "cell_type": "code",
   "execution_count": null,
   "metadata": {},
   "outputs": [],
   "source": [
    "point_example = Point((-58.43326070000001,-34.5815242))\n",
    "polygon_example = Polygon([(-58.37828,-34.59891), (-58.37826,-34.59911), (-58.37822,-34.59989), (-58.37821,-34.60008), (-58.37833,-34.60009), (-58.37967,-34.60013), (-58.37973,-34.59916), (-58.37974,-34.59897), (-58.37828,-34.59891)])\n",
    "\n",
    "if polygon_example.contains(point_example):\n",
    "    print ('Done')\n",
    "else:\n",
    "    print ('No.')\n",
    "\n"
   ]
  },
  {
   "cell_type": "code",
   "execution_count": null,
   "metadata": {},
   "outputs": [],
   "source": [
    "#properati_gdf.coordinates.to_file(driver = 'ESRI Shapefile', filename= \"properati_large.shp\")\n",
    "print (len(properati_gdf))\n",
    "#census_gdf.coordinates.to_file(driver = 'ESRI Shapefile', filename= \"census.shp\")\n",
    "#prop_data_gdf.coordinates.to_file(driver = 'ESRI Shapefile', filename= \"prop_data.shp\")\n",
    "\n",
    "\n",
    "\n"
   ]
  },
  {
   "cell_type": "code",
   "execution_count": null,
   "metadata": {},
   "outputs": [],
   "source": []
  }
 ],
 "metadata": {
  "kernelspec": {
   "display_name": "Python 3",
   "language": "python",
   "name": "python3"
  },
  "language_info": {
   "codemirror_mode": {
    "name": "ipython",
    "version": 3
   },
   "file_extension": ".py",
   "mimetype": "text/x-python",
   "name": "python",
   "nbconvert_exporter": "python",
   "pygments_lexer": "ipython3",
   "version": "3.7.3"
  }
 },
 "nbformat": 4,
 "nbformat_minor": 2
}
