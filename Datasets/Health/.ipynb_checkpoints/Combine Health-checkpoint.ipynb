{
 "cells": [
  {
   "cell_type": "code",
   "execution_count": 1,
   "metadata": {},
   "outputs": [],
   "source": [
    "import pandas as pd"
   ]
  },
  {
   "cell_type": "code",
   "execution_count": 2,
   "metadata": {},
   "outputs": [],
   "source": [
    "privados = pd.read_csv('centros-de-salud-privados.csv')\n",
    "comunitaria = pd.read_csv('centros-de-salud-y-accion-comunitaria.csv')\n",
    "medi = pd.read_csv('centros-medicos-barriales.csv')\n",
    "pharm = pd.read_csv('farmacias.csv')"
   ]
  },
  {
   "cell_type": "code",
   "execution_count": 5,
   "metadata": {},
   "outputs": [
    {
     "name": "stdout",
     "output_type": "stream",
     "text": [
      "Index(['biblioteca', 'calle', 'altura', 'calle_2', 'piso', 'telefono',\n",
      "       'observaciones', 'direccion_normalizada', 'long', 'lat', 'barrio',\n",
      "       'comuna', 'codigo_postal', 'codigo_postal_argentino'],\n",
      "      dtype='object')\n",
      "Index(['LAT', 'LNG', 'ID', 'NOMBRE', 'CALLE', 'ALTURA', 'PISO_DEPTO',\n",
      "       'DIRECCION_NORMALIZADA', 'BARRIO', 'COMUNA', 'CP', 'CPA',\n",
      "       'DIAS_Y_HORARIO', 'TELEFONOS', 'EMAIL', 'WEB', 'ACTIVIDAD',\n",
      "       'OTRAS_ACTIDADES', 'DEPENDENCIA', 'PUBLICO', 'SECTOR'],\n",
      "      dtype='object')\n"
     ]
    }
   ],
   "source": [
    "print(bib.columns)\n",
    "print(dep.columns)"
   ]
  },
  {
   "cell_type": "code",
   "execution_count": 6,
   "metadata": {},
   "outputs": [],
   "source": [
    "#This function will clean the dataframes and return it with renamed columns.\n",
    "\n",
    "def cleanData(df):\n",
    "\n",
    "        #First, we define the column names used in all dataframes and their corresponding unified name\n",
    "        columnNames = {\n",
    "            'long':'Longitude', 'LNG':'Longitude', \n",
    "            'lat': 'Latitude', 'LAT': 'Latitude', \n",
    "            'barrio': 'Barrio', 'BARRIO': 'Barrio',\n",
    "            'biblioteca': 'Name', 'NOMBRE': 'Name'\n",
    "        }\n",
    "        \n",
    "        #Then, delete empty rows, rename the columns and set the index for the Neighborhood (Name of the Barrio)\n",
    "        df = (df.rename(columns=columnNames))\n",
    "        \n",
    "        #With the following line, we indicate that we only wish to keep the columns below, then the rest can be deleted\n",
    "        df = df[['Barrio', 'Name', 'Longitude', 'Latitude']]\n",
    "        \n",
    "        return df.dropna()"
   ]
  },
  {
   "cell_type": "code",
   "execution_count": 7,
   "metadata": {},
   "outputs": [],
   "source": [
    "bib = cleanData(bib)\n",
    "dep = cleanData(dep)"
   ]
  },
  {
   "cell_type": "code",
   "execution_count": 8,
   "metadata": {},
   "outputs": [
    {
     "data": {
      "text/html": [
       "<div>\n",
       "<style scoped>\n",
       "    .dataframe tbody tr th:only-of-type {\n",
       "        vertical-align: middle;\n",
       "    }\n",
       "\n",
       "    .dataframe tbody tr th {\n",
       "        vertical-align: top;\n",
       "    }\n",
       "\n",
       "    .dataframe thead th {\n",
       "        text-align: right;\n",
       "    }\n",
       "</style>\n",
       "<table border=\"1\" class=\"dataframe\">\n",
       "  <thead>\n",
       "    <tr style=\"text-align: right;\">\n",
       "      <th></th>\n",
       "      <th>Barrio</th>\n",
       "      <th>Name</th>\n",
       "      <th>Longitude</th>\n",
       "      <th>Latitude</th>\n",
       "    </tr>\n",
       "  </thead>\n",
       "  <tbody>\n",
       "    <tr>\n",
       "      <th>0</th>\n",
       "      <td>MONSERRAT</td>\n",
       "      <td>ALFONSINA STORNI</td>\n",
       "      <td>-58.388140</td>\n",
       "      <td>-34.614716</td>\n",
       "    </tr>\n",
       "    <tr>\n",
       "      <th>1</th>\n",
       "      <td>VILLA LUGANO</td>\n",
       "      <td>ALVARO YUNQUE</td>\n",
       "      <td>-58.463552</td>\n",
       "      <td>-34.685002</td>\n",
       "    </tr>\n",
       "    <tr>\n",
       "      <th>2</th>\n",
       "      <td>VILLA DEVOTO</td>\n",
       "      <td>ANTONIO DEVOTO</td>\n",
       "      <td>-58.510894</td>\n",
       "      <td>-34.599313</td>\n",
       "    </tr>\n",
       "    <tr>\n",
       "      <th>3</th>\n",
       "      <td>CHACARITA</td>\n",
       "      <td>BALDOMERO F. MORENO</td>\n",
       "      <td>-58.450363</td>\n",
       "      <td>-34.591353</td>\n",
       "    </tr>\n",
       "    <tr>\n",
       "      <th>4</th>\n",
       "      <td>MATADEROS</td>\n",
       "      <td>BENITO LYNCH</td>\n",
       "      <td>-58.496872</td>\n",
       "      <td>-34.667674</td>\n",
       "    </tr>\n",
       "  </tbody>\n",
       "</table>\n",
       "</div>"
      ],
      "text/plain": [
       "         Barrio                 Name  Longitude   Latitude\n",
       "0     MONSERRAT     ALFONSINA STORNI -58.388140 -34.614716\n",
       "1  VILLA LUGANO        ALVARO YUNQUE -58.463552 -34.685002\n",
       "2  VILLA DEVOTO       ANTONIO DEVOTO -58.510894 -34.599313\n",
       "3     CHACARITA  BALDOMERO F. MORENO -58.450363 -34.591353\n",
       "4     MATADEROS         BENITO LYNCH -58.496872 -34.667674"
      ]
     },
     "execution_count": 8,
     "metadata": {},
     "output_type": "execute_result"
    }
   ],
   "source": [
    "bib.head()"
   ]
  },
  {
   "cell_type": "code",
   "execution_count": 9,
   "metadata": {},
   "outputs": [
    {
     "data": {
      "text/html": [
       "<div>\n",
       "<style scoped>\n",
       "    .dataframe tbody tr th:only-of-type {\n",
       "        vertical-align: middle;\n",
       "    }\n",
       "\n",
       "    .dataframe tbody tr th {\n",
       "        vertical-align: top;\n",
       "    }\n",
       "\n",
       "    .dataframe thead th {\n",
       "        text-align: right;\n",
       "    }\n",
       "</style>\n",
       "<table border=\"1\" class=\"dataframe\">\n",
       "  <thead>\n",
       "    <tr style=\"text-align: right;\">\n",
       "      <th></th>\n",
       "      <th>Barrio</th>\n",
       "      <th>Name</th>\n",
       "      <th>Longitude</th>\n",
       "      <th>Latitude</th>\n",
       "    </tr>\n",
       "  </thead>\n",
       "  <tbody>\n",
       "    <tr>\n",
       "      <th>0</th>\n",
       "      <td>MONSERRAT</td>\n",
       "      <td>36 BILLARES</td>\n",
       "      <td>-58.384297</td>\n",
       "      <td>-34.609173</td>\n",
       "    </tr>\n",
       "    <tr>\n",
       "      <th>1</th>\n",
       "      <td>RETIRO</td>\n",
       "      <td>ABM</td>\n",
       "      <td>-58.383559</td>\n",
       "      <td>-34.596817</td>\n",
       "    </tr>\n",
       "    <tr>\n",
       "      <th>2</th>\n",
       "      <td>MONSERRAT</td>\n",
       "      <td>ACADEMIA NACIONAL DE LA HISTORIA DE LA REPUBLI...</td>\n",
       "      <td>-58.370739</td>\n",
       "      <td>-34.609848</td>\n",
       "    </tr>\n",
       "    <tr>\n",
       "      <th>3</th>\n",
       "      <td>CONSTITUCION</td>\n",
       "      <td>ACADEMIA PORTE�A DEL LUNFARDO</td>\n",
       "      <td>-58.385471</td>\n",
       "      <td>-34.618628</td>\n",
       "    </tr>\n",
       "    <tr>\n",
       "      <th>4</th>\n",
       "      <td>MONSERRAT</td>\n",
       "      <td>ACCION</td>\n",
       "      <td>-58.372772</td>\n",
       "      <td>-34.611321</td>\n",
       "    </tr>\n",
       "  </tbody>\n",
       "</table>\n",
       "</div>"
      ],
      "text/plain": [
       "         Barrio                                               Name  Longitude  \\\n",
       "0     MONSERRAT                                        36 BILLARES -58.384297   \n",
       "1        RETIRO                                                ABM -58.383559   \n",
       "2     MONSERRAT  ACADEMIA NACIONAL DE LA HISTORIA DE LA REPUBLI... -58.370739   \n",
       "3  CONSTITUCION                      ACADEMIA PORTE�A DEL LUNFARDO -58.385471   \n",
       "4     MONSERRAT                                             ACCION -58.372772   \n",
       "\n",
       "    Latitude  \n",
       "0 -34.609173  \n",
       "1 -34.596817  \n",
       "2 -34.609848  \n",
       "3 -34.618628  \n",
       "4 -34.611321  "
      ]
     },
     "execution_count": 9,
     "metadata": {},
     "output_type": "execute_result"
    }
   ],
   "source": [
    "dep.head()"
   ]
  },
  {
   "cell_type": "code",
   "execution_count": 10,
   "metadata": {},
   "outputs": [],
   "source": [
    "df = pd.concat([bib, dep])"
   ]
  },
  {
   "cell_type": "code",
   "execution_count": 11,
   "metadata": {},
   "outputs": [],
   "source": [
    "#Since the names of some barrios are incorrect, this will correct them so that they all have the right names.\n",
    "\n",
    "df.reset_index(inplace=True)\n",
    "df['Barrio'] = (df['Barrio'].apply(lambda x: str(x.replace('NUNEZ', 'NUÑEZ'))))\n",
    "df['Barrio'] = (df['Barrio'].apply(lambda x: str(x.replace('NU?ÆEZ', 'NUÑEZ'))))\n",
    "df['Barrio'] = (df['Barrio'].apply(lambda x: str(x.replace('NU?EZ', 'NUÑEZ'))))\n",
    "df['Barrio'] = (df['Barrio'].apply(lambda x: str(x.replace('NU�EZ', 'NUÑEZ'))))\n",
    "df['Barrio'] = (df['Barrio'].apply(lambda x: str(x.replace('GOGHLAND', 'COGHLAN'))))\n",
    "df['Barrio'] = (df['Barrio'].apply(lambda x: str(x.replace('PARQUE AVELLANED', 'PARQUE AVELLANEDA'))))\n",
    "df['Barrio'] = (df['Barrio'].apply(lambda x: str(x.replace('SARSFIELD', 'SARFIELD'))))\n",
    "df['Barrio'] = (df['Barrio'].apply(lambda x: str(x.replace('VILLA GRAL. MITRE', 'VILLA GENERAL MITRE'))))\n",
    "df['Barrio'] = (df['Barrio'].apply(lambda x: str(x.replace('VILLA GRAL. MITR', 'VILLA GENERAL MITRE'))))\n",
    "df['Barrio'] = (df['Barrio'].apply(lambda x: str(x.replace('VILLA GRAL MITRE', 'VILLA GENERAL MITRE'))))\n",
    "df['Barrio'] = (df['Barrio'].apply(lambda x: str(x.replace('VILLA PUYRREDON', 'VILLA PUEYRREDON'))))\n",
    "df['Barrio'] = (df['Barrio'].apply(lambda x: str(x.replace('PARQUE AVELLANEDAA', 'PARQUE AVELLANEDA'))))\n",
    "df['Barrio'] = (df['Barrio'].apply(lambda x: str(x.replace('VERSALLES', 'VERSAILLES'))))\n",
    "df['Barrio'] = (df['Barrio'].apply(lambda x: str(x.replace('MONSERRAT', 'MONTSERRAT'))))"
   ]
  },
  {
   "cell_type": "code",
   "execution_count": 12,
   "metadata": {},
   "outputs": [
    {
     "data": {
      "text/plain": [
       "array(['MONTSERRAT', 'VILLA LUGANO', 'VILLA DEVOTO', 'CHACARITA',\n",
       "       'MATADEROS', 'PALERMO', 'SAN NICOLAS', 'SAAVEDRA',\n",
       "       'PARQUE PATRICIOS', 'PARQUE CHACABUCO', 'FLORESTA', 'FLORES',\n",
       "       'BOCA', 'LINIERS', 'BELGRANO', 'VILLA CRESPO', 'BOEDO',\n",
       "       'VILLA SANTA RITA', 'RETIRO', 'CONSTITUCION', 'SAN TELMO',\n",
       "       'PUERTO MADERO', 'VILLA REAL', 'VERSAILLES', 'VILLA LURO',\n",
       "       'MONTE CASTRO', 'VELEZ SARFIELD', 'VILLA GENERAL MITRE',\n",
       "       'VILLA DEL PARQUE', 'VILLA URQUIZA', 'VILLA PUEYRREDON', 'COGHLAN',\n",
       "       'NUÑEZ', 'COLEGIALES', 'VILLA ORTUZAR', 'AGRONOMIA', 'PARQUE CHAS',\n",
       "       'PATERNAL', 'RECOLETA', 'BALVANERA', 'SAN CRISTOBAL', 'BARRACAS',\n",
       "       'NUEVA POMPEYA', 'ALMAGRO', 'CABALLITO', 'VILLA RIACHUELO',\n",
       "       'VILLA SOLDATI', 'PARQUE AVELLANEDA'], dtype=object)"
      ]
     },
     "execution_count": 12,
     "metadata": {},
     "output_type": "execute_result"
    }
   ],
   "source": [
    "df['Barrio'].unique()"
   ]
  },
  {
   "cell_type": "code",
   "execution_count": 13,
   "metadata": {},
   "outputs": [],
   "source": [
    "barrio_df = pd.read_csv('../../barrio_table.csv')\n",
    "df['b_id'] = [int(barrio_df[barrio_df.Barrio == i].id) for i in df.Barrio]\n",
    "df = df.drop('Barrio', axis=1)"
   ]
  },
  {
   "cell_type": "code",
   "execution_count": 14,
   "metadata": {},
   "outputs": [
    {
     "data": {
      "text/html": [
       "<div>\n",
       "<style scoped>\n",
       "    .dataframe tbody tr th:only-of-type {\n",
       "        vertical-align: middle;\n",
       "    }\n",
       "\n",
       "    .dataframe tbody tr th {\n",
       "        vertical-align: top;\n",
       "    }\n",
       "\n",
       "    .dataframe thead th {\n",
       "        text-align: right;\n",
       "    }\n",
       "</style>\n",
       "<table border=\"1\" class=\"dataframe\">\n",
       "  <thead>\n",
       "    <tr style=\"text-align: right;\">\n",
       "      <th></th>\n",
       "      <th>index</th>\n",
       "      <th>Name</th>\n",
       "      <th>Longitude</th>\n",
       "      <th>Latitude</th>\n",
       "      <th>b_id</th>\n",
       "    </tr>\n",
       "  </thead>\n",
       "  <tbody>\n",
       "    <tr>\n",
       "      <th>0</th>\n",
       "      <td>0</td>\n",
       "      <td>ALFONSINA STORNI</td>\n",
       "      <td>-58.388140</td>\n",
       "      <td>-34.614716</td>\n",
       "      <td>36</td>\n",
       "    </tr>\n",
       "    <tr>\n",
       "      <th>1</th>\n",
       "      <td>1</td>\n",
       "      <td>ALVARO YUNQUE</td>\n",
       "      <td>-58.463552</td>\n",
       "      <td>-34.685002</td>\n",
       "      <td>30</td>\n",
       "    </tr>\n",
       "    <tr>\n",
       "      <th>2</th>\n",
       "      <td>2</td>\n",
       "      <td>ANTONIO DEVOTO</td>\n",
       "      <td>-58.510894</td>\n",
       "      <td>-34.599313</td>\n",
       "      <td>23</td>\n",
       "    </tr>\n",
       "    <tr>\n",
       "      <th>3</th>\n",
       "      <td>3</td>\n",
       "      <td>BALDOMERO F. MORENO</td>\n",
       "      <td>-58.450363</td>\n",
       "      <td>-34.591353</td>\n",
       "      <td>26</td>\n",
       "    </tr>\n",
       "    <tr>\n",
       "      <th>4</th>\n",
       "      <td>4</td>\n",
       "      <td>BENITO LYNCH</td>\n",
       "      <td>-58.496872</td>\n",
       "      <td>-34.667674</td>\n",
       "      <td>18</td>\n",
       "    </tr>\n",
       "  </tbody>\n",
       "</table>\n",
       "</div>"
      ],
      "text/plain": [
       "   index                 Name  Longitude   Latitude  b_id\n",
       "0      0     ALFONSINA STORNI -58.388140 -34.614716    36\n",
       "1      1        ALVARO YUNQUE -58.463552 -34.685002    30\n",
       "2      2       ANTONIO DEVOTO -58.510894 -34.599313    23\n",
       "3      3  BALDOMERO F. MORENO -58.450363 -34.591353    26\n",
       "4      4         BENITO LYNCH -58.496872 -34.667674    18"
      ]
     },
     "execution_count": 14,
     "metadata": {},
     "output_type": "execute_result"
    }
   ],
   "source": [
    "df.head()"
   ]
  },
  {
   "cell_type": "code",
   "execution_count": 15,
   "metadata": {},
   "outputs": [],
   "source": [
    "df.to_csv('culture_table.csv', index=False)"
   ]
  },
  {
   "cell_type": "code",
   "execution_count": null,
   "metadata": {},
   "outputs": [],
   "source": []
  }
 ],
 "metadata": {
  "kernelspec": {
   "display_name": "Python 3",
   "language": "python",
   "name": "python3"
  },
  "language_info": {
   "codemirror_mode": {
    "name": "ipython",
    "version": 3
   },
   "file_extension": ".py",
   "mimetype": "text/x-python",
   "name": "python",
   "nbconvert_exporter": "python",
   "pygments_lexer": "ipython3",
   "version": "3.7.2"
  }
 },
 "nbformat": 4,
 "nbformat_minor": 2
}
