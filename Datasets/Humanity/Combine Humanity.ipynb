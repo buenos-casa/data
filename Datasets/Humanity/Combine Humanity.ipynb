{
 "cells": [
  {
   "cell_type": "code",
   "execution_count": 1,
   "metadata": {},
   "outputs": [],
   "source": [
    "import pandas as pd"
   ]
  },
  {
   "cell_type": "code",
   "execution_count": 2,
   "metadata": {},
   "outputs": [],
   "source": [
    "dfs = [\n",
    "    pd.read_csv('boys_and_girls_club.csv'),\n",
    "    pd.read_csv('child_development_center.csv'),\n",
    "    pd.read_csv('early_childhood_centers.csv'),\n",
    "    pd.read_csv('elder_care_center.csv'),\n",
    "    pd.read_csv('hostels.csv'),\n",
    "    pd.read_csv('retirement_home.csv'),\n",
    "    pd.read_csv('social_organizations.csv'),\n",
    "    pd.read_csv('toy_library.csv'),\n",
    "    pd.read_csv('women_shelter.csv')\n",
    "]"
   ]
  },
  {
   "cell_type": "code",
   "execution_count": 3,
   "metadata": {},
   "outputs": [
    {
     "name": "stdout",
     "output_type": "stream",
     "text": [
      "Index(['X', 'Y', 'NOMBRE', 'DIRECCION', 'DIRECCION_NORMALIZADA', 'BARRIO',\n",
      "       'COMUNA', 'TELEFONO', 'ATENCION'],\n",
      "      dtype='object')\n",
      "Index(['long', 'lat', 'nombre', 'direccion', 'piso_dpto', 'telefono',\n",
      "       'dia_hora_atencion', 'direccion_normalizada', 'barrio', 'comuna',\n",
      "       'codigo_postal', 'codigo_postal_argentino', 'localidad'],\n",
      "      dtype='object')\n",
      "Index(['X', 'Y', 'NOMBRE', 'DIRECCION', 'DIRECCION_NORMALIZADA', 'BARRIO',\n",
      "       'COMUNA', 'CODIGO_POSTAL', 'CODIGO_POSTAL_ARGENTINO'],\n",
      "      dtype='object')\n",
      "Index(['long', 'lat', 'nombre', 'direccion', 'telefono', 'horarios_atencion',\n",
      "       'observaciones', 'barrio', 'comuna', 'codigo_postal',\n",
      "       'codigo_postal_argentino'],\n",
      "      dtype='object')\n",
      "Index(['X', 'Y', 'NOMBRE', 'DIRECCION', 'CALLE_NORMALIZADA',\n",
      "       'ALTURA_NORMALIZADA', 'DESTINATARIO', 'TIPO', 'BARRIO', 'COMUNA',\n",
      "       'CODIGO_POSTAL', 'CODIGO_POSTAL_ARGENTINO', 'OBSERVACIONES'],\n",
      "      dtype='object')\n",
      "Index(['long', 'lat', 'nombre_centro', 'calle', 'altura', 'piso_dpto',\n",
      "       'barrio', 'comuna', 'codigo_postal', 'codigo_postal_argentino'],\n",
      "      dtype='object')\n",
      "Index(['long', 'lat', 'id', 'nombre_ofi', 'telefono', 'email', 'web',\n",
      "       'horario_de', 'calle_nombre', 'calle_altura', 'calle_cruce', 'sector',\n",
      "       'manzana', 'piso', 'casa', 'lado', 'pasillo', 'observacio', 'barrio',\n",
      "       'comuna', 'codigo_postal', 'codigo_postal_argentino', 'tipo_de_or',\n",
      "       'actividad', 'nom_mapa', 'funcion_de_la_organizacion', 'actividades'],\n",
      "      dtype='object')\n",
      "Index(['long', 'lat', 'tipo_de_establecimiento', 'nombre', 'descripcion',\n",
      "       'edades', 'direccion', 'direccion_normalizada', 'barrio', 'comuna',\n",
      "       'codigo_postal', 'codigo_postal_argentino'],\n",
      "      dtype='object')\n",
      "Index(['long', 'lat', 'CIM', 'calle', 'calle_nro', 'piso', 'telefono', 'mail',\n",
      "       'atencion', 'barrio', 'comuna', 'codigo_postal',\n",
      "       'codigo_postal_argentino'],\n",
      "      dtype='object')\n"
     ]
    }
   ],
   "source": [
    "for i in dfs:\n",
    "    print(i.columns)"
   ]
  },
  {
   "cell_type": "code",
   "execution_count": 4,
   "metadata": {},
   "outputs": [],
   "source": [
    "#This function will clean the dataframes and return it with renamed columns.\n",
    "\n",
    "def cleanData(df):\n",
    "\n",
    "        #First, we define the column names used in all dataframes and their corresponding unified name\n",
    "        columnNames = {\n",
    "            'long':'Longitude', 'LNG':'Longitude', 'X': 'Longitude',\n",
    "            'lat': 'Latitude', 'LAT': 'Latitude', 'Y': 'Latitude',\n",
    "            'barrio': 'Barrio', 'BARRIO': 'Barrio',\n",
    "            \n",
    "            'nombre': 'Name', 'NOMBRE': 'Name', 'calle_nombre': 'Name',\n",
    "            'NOMBRE_OFICINA': 'Name', 'nombre_centro': 'Name',\n",
    "            'CIM': 'Name', 'fed_asoc': 'Name', 'club': 'Name'\n",
    "        }\n",
    "        \n",
    "        #Then, delete empty rows, rename the columns and set the index for the Neighborhood (Name of the Barrio)\n",
    "        df = (df.rename(columns=columnNames))\n",
    "        \n",
    "        #With the following line, we indicate that we only wish to keep the columns below, then the rest can be deleted\n",
    "        df = df[['Barrio', 'Name', 'Longitude', 'Latitude']]\n",
    "        \n",
    "        return df.dropna()"
   ]
  },
  {
   "cell_type": "code",
   "execution_count": 5,
   "metadata": {},
   "outputs": [
    {
     "name": "stdout",
     "output_type": "stream",
     "text": [
      "0\n",
      "1\n",
      "2\n",
      "3\n",
      "4\n",
      "5\n",
      "6\n",
      "7\n",
      "8\n"
     ]
    }
   ],
   "source": [
    "for i in range(0, len(dfs)):\n",
    "    print(i)\n",
    "    dfs[i] = cleanData(dfs[i])"
   ]
  },
  {
   "cell_type": "code",
   "execution_count": 6,
   "metadata": {},
   "outputs": [],
   "source": [
    "type_col = ['boys and girls club', 'child development center', 'early childhood center', 'elder care center', 'hostel', 'retirement home', 'social organization', 'toy library', 'womens shelter']\n",
    "for i in range(0, len(dfs)):\n",
    "    dfs[i]['Type'] = type_col[i]"
   ]
  },
  {
   "cell_type": "code",
   "execution_count": 7,
   "metadata": {},
   "outputs": [],
   "source": [
    "df = pd.concat(dfs)"
   ]
  },
  {
   "cell_type": "code",
   "execution_count": 8,
   "metadata": {},
   "outputs": [],
   "source": [
    "df['Barrio'] = df['Barrio'].str.upper()"
   ]
  },
  {
   "cell_type": "code",
   "execution_count": 9,
   "metadata": {},
   "outputs": [],
   "source": [
    "#Since the names of some barrios are incorrect, this will correct them so that they all have the right names.\n",
    "\n",
    "df.reset_index(inplace=True)\n",
    "df['Barrio'] = (df['Barrio'].apply(lambda x: str(x.replace('AGRONOMÍA', 'AGRONOMIA'))))\n",
    "df['Barrio'] = (df['Barrio'].apply(lambda x: str(x.replace('CONSTITUCIÓN', 'CONSTITUCION'))))\n",
    "df['Barrio'] = (df['Barrio'].apply(lambda x: str(x.replace('VILLA ORTÚZAR', 'VILLA ORTUZAR'))))\n",
    "df['Barrio'] = (df['Barrio'].apply(lambda x: str(x.replace('BALVANERA ', 'BALVANERA'))))\n",
    "df['Barrio'] = (df['Barrio'].apply(lambda x: str(x.replace('VILLA PUEYRREDÓN', 'VILLA PUEYRREDON'))))\n",
    "df['Barrio'] = (df['Barrio'].apply(lambda x: str(x.replace('NUNEZ', 'NUÑEZ'))))\n",
    "df['Barrio'] = (df['Barrio'].apply(lambda x: str(x.replace('NU?ÆEZ', 'NUÑEZ'))))\n",
    "df['Barrio'] = (df['Barrio'].apply(lambda x: str(x.replace('NU?EZ', 'NUÑEZ'))))\n",
    "df['Barrio'] = (df['Barrio'].apply(lambda x: str(x.replace('NU�EZ', 'NUÑEZ'))))\n",
    "df['Barrio'] = (df['Barrio'].apply(lambda x: str(x.replace('GOGHLAND', 'COGHLAN'))))\n",
    "df['Barrio'] = (df['Barrio'].apply(lambda x: str(x.replace('PARQUE AVELLANED', 'PARQUE AVELLANEDA'))))\n",
    "df['Barrio'] = (df['Barrio'].apply(lambda x: str(x.replace('SARSFIELD', 'SARFIELD'))))\n",
    "df['Barrio'] = (df['Barrio'].apply(lambda x: str(x.replace('VILLA GRAL. MITRE', 'VILLA GENERAL MITRE'))))\n",
    "df['Barrio'] = (df['Barrio'].apply(lambda x: str(x.replace('VILLA GRAL. MITR', 'VILLA GENERAL MITRE'))))\n",
    "df['Barrio'] = (df['Barrio'].apply(lambda x: str(x.replace('VILLA GRAL MITRE', 'VILLA GENERAL MITRE'))))\n",
    "df['Barrio'] = (df['Barrio'].apply(lambda x: str(x.replace('VILLA PUYRREDON', 'VILLA PUEYRREDON'))))\n",
    "df['Barrio'] = (df['Barrio'].apply(lambda x: str(x.replace('PARQUE AVELLANEDAA', 'PARQUE AVELLANEDA'))))\n",
    "df['Barrio'] = (df['Barrio'].apply(lambda x: str(x.replace('VERSALLES', 'VERSAILLES'))))\n",
    "df['Barrio'] = (df['Barrio'].apply(lambda x: str(x.replace('MONSERRAT', 'MONTSERRAT'))))\n",
    "df['Barrio'] = (df['Barrio'].apply(lambda x: str(x.replace('VÉLEZ SARFIELD', 'VELEZ SARFIELD'))))\n",
    "df['Barrio'] = (df['Barrio'].apply(lambda x: str(x.replace('LA BOCA', 'BOCA'))))\n",
    "df['Barrio'] = (df['Barrio'].apply(lambda x: str(x.replace('LA PATERNAL', 'PATERNAL'))))"
   ]
  },
  {
   "cell_type": "code",
   "execution_count": 10,
   "metadata": {},
   "outputs": [
    {
     "name": "stdout",
     "output_type": "stream",
     "text": [
      "47\n"
     ]
    },
    {
     "data": {
      "text/plain": [
       "['AGRONOMIA',\n",
       " 'ALMAGRO',\n",
       " 'BALVANERA',\n",
       " 'BARRACAS',\n",
       " 'BELGRANO',\n",
       " 'BOCA',\n",
       " 'BOEDO',\n",
       " 'CABALLITO',\n",
       " 'CHACARITA',\n",
       " 'COGHLAN',\n",
       " 'COLEGIALES',\n",
       " 'CONSTITUCION',\n",
       " 'FLORES',\n",
       " 'FLORESTA',\n",
       " 'LINIERS',\n",
       " 'MATADEROS',\n",
       " 'MONTE CASTRO',\n",
       " 'MONTSERRAT',\n",
       " 'NUEVA POMPEYA',\n",
       " 'NÚÑEZ',\n",
       " 'PALERMO',\n",
       " 'PARQUE AVELLANEDA',\n",
       " 'PARQUE CHACABUCO',\n",
       " 'PARQUE CHAS',\n",
       " 'PARQUE PATRICIOS',\n",
       " 'PATERNAL',\n",
       " 'RECOLETA',\n",
       " 'RETIRO',\n",
       " 'SAAVEDRA',\n",
       " 'SAN CRISTOBAL',\n",
       " 'SAN NICOLAS',\n",
       " 'SAN TELMO',\n",
       " 'VELEZ SARFIELD',\n",
       " 'VERSAILLES',\n",
       " 'VILLA CRESPO',\n",
       " 'VILLA DEL PARQUE',\n",
       " 'VILLA DEVOTO',\n",
       " 'VILLA GENERAL MITRE',\n",
       " 'VILLA LUGANO',\n",
       " 'VILLA LURO',\n",
       " 'VILLA ORTUZAR',\n",
       " 'VILLA PUEYRREDON',\n",
       " 'VILLA REAL',\n",
       " 'VILLA RIACHUELO',\n",
       " 'VILLA SANTA RITA',\n",
       " 'VILLA SOLDATI',\n",
       " 'VILLA URQUIZA']"
      ]
     },
     "execution_count": 10,
     "metadata": {},
     "output_type": "execute_result"
    }
   ],
   "source": [
    "print(len(df['Barrio'].unique()))\n",
    "sorted(df['Barrio'].unique())"
   ]
  },
  {
   "cell_type": "code",
   "execution_count": 11,
   "metadata": {},
   "outputs": [],
   "source": [
    "barrio_df = pd.read_csv('../../barrio_table.csv')\n",
    "df = df[df['Barrio'].isin(barrio_df.Barrio)]\n",
    "df['b_id'] = [int(barrio_df[barrio_df.Barrio == i].id) for i in df.Barrio]\n",
    "df = df.drop('Barrio', axis=1)"
   ]
  },
  {
   "cell_type": "code",
   "execution_count": 12,
   "metadata": {},
   "outputs": [
    {
     "data": {
      "text/html": [
       "<div>\n",
       "<style scoped>\n",
       "    .dataframe tbody tr th:only-of-type {\n",
       "        vertical-align: middle;\n",
       "    }\n",
       "\n",
       "    .dataframe tbody tr th {\n",
       "        vertical-align: top;\n",
       "    }\n",
       "\n",
       "    .dataframe thead th {\n",
       "        text-align: right;\n",
       "    }\n",
       "</style>\n",
       "<table border=\"1\" class=\"dataframe\">\n",
       "  <thead>\n",
       "    <tr style=\"text-align: right;\">\n",
       "      <th></th>\n",
       "      <th>index</th>\n",
       "      <th>Name</th>\n",
       "      <th>Longitude</th>\n",
       "      <th>Latitude</th>\n",
       "      <th>Type</th>\n",
       "      <th>b_id</th>\n",
       "    </tr>\n",
       "  </thead>\n",
       "  <tbody>\n",
       "    <tr>\n",
       "      <th>0</th>\n",
       "      <td>0</td>\n",
       "      <td>CASA DE LOS NINOS Y ADOLESCENTES DE BARRIO ILLIA</td>\n",
       "      <td>-58.434505</td>\n",
       "      <td>-34.646669</td>\n",
       "      <td>boys and girls club</td>\n",
       "      <td>46</td>\n",
       "    </tr>\n",
       "    <tr>\n",
       "      <th>1</th>\n",
       "      <td>1</td>\n",
       "      <td>CASA DE LOS NINOS Y ADOLESCENTES DE BARRACAS</td>\n",
       "      <td>-58.396732</td>\n",
       "      <td>-34.654311</td>\n",
       "      <td>boys and girls club</td>\n",
       "      <td>32</td>\n",
       "    </tr>\n",
       "    <tr>\n",
       "      <th>2</th>\n",
       "      <td>2</td>\n",
       "      <td>CASA DE LOS NINOS Y ADOLESCENTES DE LA BOCA-PL...</td>\n",
       "      <td>-58.366200</td>\n",
       "      <td>-34.639693</td>\n",
       "      <td>boys and girls club</td>\n",
       "      <td>24</td>\n",
       "    </tr>\n",
       "    <tr>\n",
       "      <th>3</th>\n",
       "      <td>3</td>\n",
       "      <td>CASA DE LOS NINOS Y ADOLESCENTES DE LUGANO</td>\n",
       "      <td>-58.465491</td>\n",
       "      <td>-34.687200</td>\n",
       "      <td>boys and girls club</td>\n",
       "      <td>30</td>\n",
       "    </tr>\n",
       "    <tr>\n",
       "      <th>4</th>\n",
       "      <td>0</td>\n",
       "      <td>AGRONOMIA</td>\n",
       "      <td>-58.478036</td>\n",
       "      <td>-34.591133</td>\n",
       "      <td>child development center</td>\n",
       "      <td>25</td>\n",
       "    </tr>\n",
       "  </tbody>\n",
       "</table>\n",
       "</div>"
      ],
      "text/plain": [
       "   index                                               Name  Longitude  \\\n",
       "0      0   CASA DE LOS NINOS Y ADOLESCENTES DE BARRIO ILLIA -58.434505   \n",
       "1      1       CASA DE LOS NINOS Y ADOLESCENTES DE BARRACAS -58.396732   \n",
       "2      2  CASA DE LOS NINOS Y ADOLESCENTES DE LA BOCA-PL... -58.366200   \n",
       "3      3         CASA DE LOS NINOS Y ADOLESCENTES DE LUGANO -58.465491   \n",
       "4      0                                          AGRONOMIA -58.478036   \n",
       "\n",
       "    Latitude                      Type  b_id  \n",
       "0 -34.646669       boys and girls club    46  \n",
       "1 -34.654311       boys and girls club    32  \n",
       "2 -34.639693       boys and girls club    24  \n",
       "3 -34.687200       boys and girls club    30  \n",
       "4 -34.591133  child development center    25  "
      ]
     },
     "execution_count": 12,
     "metadata": {},
     "output_type": "execute_result"
    }
   ],
   "source": [
    "df.head()"
   ]
  },
  {
   "cell_type": "code",
   "execution_count": 13,
   "metadata": {},
   "outputs": [],
   "source": [
    "df.to_csv('humanity_table.csv', index=False)"
   ]
  },
  {
   "cell_type": "code",
   "execution_count": null,
   "metadata": {},
   "outputs": [],
   "source": []
  }
 ],
 "metadata": {
  "kernelspec": {
   "display_name": "Python 3",
   "language": "python",
   "name": "python3"
  },
  "language_info": {
   "codemirror_mode": {
    "name": "ipython",
    "version": 3
   },
   "file_extension": ".py",
   "mimetype": "text/x-python",
   "name": "python",
   "nbconvert_exporter": "python",
   "pygments_lexer": "ipython3",
   "version": "3.7.2"
  }
 },
 "nbformat": 4,
 "nbformat_minor": 2
}
