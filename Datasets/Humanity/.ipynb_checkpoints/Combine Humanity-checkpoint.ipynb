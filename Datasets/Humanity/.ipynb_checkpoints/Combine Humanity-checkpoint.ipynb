{
 "cells": [
  {
   "cell_type": "code",
   "execution_count": 1,
   "metadata": {},
   "outputs": [],
   "source": [
    "import pandas as pd"
   ]
  },
  {
   "cell_type": "code",
   "execution_count": 2,
   "metadata": {},
   "outputs": [],
   "source": [
    "dfs = [\n",
    "    pd.read_csv('boys_and_girls_club.csv'),\n",
    "    pd.read_csv('child_development_center.csv'),\n",
    "    pd.read_csv('early_childhood_centers.csv'),\n",
    "    pd.read_csv('elder_care_center.csv'),\n",
    "    pd.read_csv('hostels.csv'),\n",
    "    pd.read_csv('retirement_home.csv'),\n",
    "    pd.read_csv('social_organizations.csv'),\n",
    "    pd.read_csv('toy_library.csv'),\n",
    "    pd.read_csv('women_shelter.csv')\n",
    "]"
   ]
  },
  {
   "cell_type": "code",
   "execution_count": 3,
   "metadata": {},
   "outputs": [
    {
     "name": "stdout",
     "output_type": "stream",
     "text": [
      "Index(['X', 'Y', 'NOMBRE', 'DIRECCION', 'DIRECCION_NORMALIZADA', 'BARRIO',\n",
      "       'COMUNA', 'TELEFONO', 'ATENCION'],\n",
      "      dtype='object')\n",
      "Index(['long', 'lat', 'nombre', 'direccion', 'piso_dpto', 'telefono',\n",
      "       'dia_hora_atencion', 'direccion_normalizada', 'barrio', 'comuna',\n",
      "       'codigo_postal', 'codigo_postal_argentino', 'localidad'],\n",
      "      dtype='object')\n",
      "Index(['X', 'Y', 'NOMBRE', 'DIRECCION', 'DIRECCION_NORMALIZADA', 'BARRIO',\n",
      "       'COMUNA', 'CODIGO_POSTAL', 'CODIGO_POSTAL_ARGENTINO'],\n",
      "      dtype='object')\n",
      "Index(['long', 'lat', 'nombre', 'direccion', 'telefono', 'horarios_atencion',\n",
      "       'observaciones', 'barrio', 'comuna', 'codigo_postal',\n",
      "       'codigo_postal_argentino'],\n",
      "      dtype='object')\n",
      "Index(['X', 'Y', 'NOMBRE', 'DIRECCION', 'CALLE_NORMALIZADA',\n",
      "       'ALTURA_NORMALIZADA', 'DESTINATARIO', 'TIPO', 'BARRIO', 'COMUNA',\n",
      "       'CODIGO_POSTAL', 'CODIGO_POSTAL_ARGENTINO', 'OBSERVACIONES'],\n",
      "      dtype='object')\n",
      "Index(['long', 'lat', 'nombre_centro', 'calle', 'altura', 'piso_dpto',\n",
      "       'barrio', 'comuna', 'codigo_postal', 'codigo_postal_argentino'],\n",
      "      dtype='object')\n",
      "Index(['long', 'lat', 'id', 'nombre_ofi', 'telefono', 'email', 'web',\n",
      "       'horario_de', 'calle_nombre', 'calle_altura', 'calle_cruce', 'sector',\n",
      "       'manzana', 'piso', 'casa', 'lado', 'pasillo', 'observacio', 'barrio',\n",
      "       'comuna', 'codigo_postal', 'codigo_postal_argentino', 'tipo_de_or',\n",
      "       'actividad', 'nom_mapa', 'funcion_de_la_organizacion', 'actividades'],\n",
      "      dtype='object')\n",
      "Index(['long', 'lat', 'tipo_de_establecimiento', 'nombre', 'descripcion',\n",
      "       'edades', 'direccion', 'direccion_normalizada', 'barrio', 'comuna',\n",
      "       'codigo_postal', 'codigo_postal_argentino'],\n",
      "      dtype='object')\n",
      "Index(['long', 'lat', 'CIM', 'calle', 'calle_nro', 'piso', 'telefono', 'mail',\n",
      "       'atencion', 'barrio', 'comuna', 'codigo_postal',\n",
      "       'codigo_postal_argentino'],\n",
      "      dtype='object')\n"
     ]
    }
   ],
   "source": [
    "for i in dfs:\n",
    "    print(i.columns)"
   ]
  },
  {
   "cell_type": "code",
   "execution_count": 4,
   "metadata": {},
   "outputs": [],
   "source": [
    "#This function will clean the dataframes and return it with renamed columns.\n",
    "\n",
    "def cleanData(df):\n",
    "\n",
    "        #First, we define the column names used in all dataframes and their corresponding unified name\n",
    "        columnNames = {\n",
    "            'long':'Longitude', 'LNG':'Longitude', 'X': 'Longitude',\n",
    "            'lat': 'Latitude', 'LAT': 'Latitude', 'Y': 'Latitude',\n",
    "            'barrio': 'Barrio', 'BARRIO': 'Barrio',\n",
    "            \n",
    "            'nombre': 'Name', 'NOMBRE': 'Name', 'calle_nombre': 'Name',\n",
    "            'NOMBRE_OFICINA': 'Name', 'nombre_centro': 'Name',\n",
    "            'CIM': 'Name', 'fed_asoc': 'Name', 'club': 'Name'\n",
    "        }\n",
    "        \n",
    "        #Then, delete empty rows, rename the columns and set the index for the Neighborhood (Name of the Barrio)\n",
    "        df = (df.rename(columns=columnNames))\n",
    "        \n",
    "        #With the following line, we indicate that we only wish to keep the columns below, then the rest can be deleted\n",
    "        df = df[['Barrio', 'Name', 'Longitude', 'Latitude']]\n",
    "        \n",
    "        return df.dropna()"
   ]
  },
  {
   "cell_type": "code",
   "execution_count": 5,
   "metadata": {},
   "outputs": [
    {
     "name": "stdout",
     "output_type": "stream",
     "text": [
      "0\n",
      "1\n",
      "2\n",
      "3\n",
      "4\n",
      "5\n",
      "6\n",
      "7\n",
      "8\n"
     ]
    }
   ],
   "source": [
    "for i in range(0, len(dfs)):\n",
    "    print(i)\n",
    "    dfs[i] = cleanData(dfs[i])"
   ]
  },
  {
   "cell_type": "code",
   "execution_count": 6,
   "metadata": {},
   "outputs": [],
   "source": [
    "type_col = ['boys and girls club', 'child development center', 'early childhood center', 'elder care center', 'hostel', 'retirement home', 'social organization', 'toy library', 'womens shelter']\n",
    "for i in range(0, len(dfs)):\n",
    "    dfs[i]['Type'] = type_col[i]"
   ]
  },
  {
   "cell_type": "code",
   "execution_count": 7,
   "metadata": {},
   "outputs": [
    {
     "name": "stderr",
     "output_type": "stream",
     "text": [
      "/home/rocket/miniconda3/envs/casas/lib/python3.7/site-packages/ipykernel_launcher.py:1: FutureWarning: Sorting because non-concatenation axis is not aligned. A future version\n",
      "of pandas will change to not sort by default.\n",
      "\n",
      "To accept the future behavior, pass 'sort=False'.\n",
      "\n",
      "To retain the current behavior and silence the warning, pass 'sort=True'.\n",
      "\n",
      "  \"\"\"Entry point for launching an IPython kernel.\n"
     ]
    },
    {
     "ename": "ValueError",
     "evalue": "Plan shapes are not aligned",
     "output_type": "error",
     "traceback": [
      "\u001b[0;31m------------------------------------------------\u001b[0m",
      "\u001b[0;31mValueError\u001b[0m     Traceback (most recent call last)",
      "\u001b[0;32m<ipython-input-7-d2d11e3feccf>\u001b[0m in \u001b[0;36m<module>\u001b[0;34m\u001b[0m\n\u001b[0;32m----> 1\u001b[0;31m \u001b[0mdf\u001b[0m \u001b[0;34m=\u001b[0m \u001b[0mpd\u001b[0m\u001b[0;34m.\u001b[0m\u001b[0mconcat\u001b[0m\u001b[0;34m(\u001b[0m\u001b[0mdfs\u001b[0m\u001b[0;34m)\u001b[0m\u001b[0;34m\u001b[0m\u001b[0;34m\u001b[0m\u001b[0m\n\u001b[0m",
      "\u001b[0;32m~/miniconda3/envs/casas/lib/python3.7/site-packages/pandas/core/reshape/concat.py\u001b[0m in \u001b[0;36mconcat\u001b[0;34m(objs, axis, join, join_axes, ignore_index, keys, levels, names, verify_integrity, sort, copy)\u001b[0m\n\u001b[1;32m    227\u001b[0m                        \u001b[0mverify_integrity\u001b[0m\u001b[0;34m=\u001b[0m\u001b[0mverify_integrity\u001b[0m\u001b[0;34m,\u001b[0m\u001b[0;34m\u001b[0m\u001b[0;34m\u001b[0m\u001b[0m\n\u001b[1;32m    228\u001b[0m                        copy=copy, sort=sort)\n\u001b[0;32m--> 229\u001b[0;31m     \u001b[0;32mreturn\u001b[0m \u001b[0mop\u001b[0m\u001b[0;34m.\u001b[0m\u001b[0mget_result\u001b[0m\u001b[0;34m(\u001b[0m\u001b[0;34m)\u001b[0m\u001b[0;34m\u001b[0m\u001b[0;34m\u001b[0m\u001b[0m\n\u001b[0m\u001b[1;32m    230\u001b[0m \u001b[0;34m\u001b[0m\u001b[0m\n\u001b[1;32m    231\u001b[0m \u001b[0;34m\u001b[0m\u001b[0m\n",
      "\u001b[0;32m~/miniconda3/envs/casas/lib/python3.7/site-packages/pandas/core/reshape/concat.py\u001b[0m in \u001b[0;36mget_result\u001b[0;34m(self)\u001b[0m\n\u001b[1;32m    424\u001b[0m             new_data = concatenate_block_managers(\n\u001b[1;32m    425\u001b[0m                 \u001b[0mmgrs_indexers\u001b[0m\u001b[0;34m,\u001b[0m \u001b[0mself\u001b[0m\u001b[0;34m.\u001b[0m\u001b[0mnew_axes\u001b[0m\u001b[0;34m,\u001b[0m \u001b[0mconcat_axis\u001b[0m\u001b[0;34m=\u001b[0m\u001b[0mself\u001b[0m\u001b[0;34m.\u001b[0m\u001b[0maxis\u001b[0m\u001b[0;34m,\u001b[0m\u001b[0;34m\u001b[0m\u001b[0;34m\u001b[0m\u001b[0m\n\u001b[0;32m--> 426\u001b[0;31m                 copy=self.copy)\n\u001b[0m\u001b[1;32m    427\u001b[0m             \u001b[0;32mif\u001b[0m \u001b[0;32mnot\u001b[0m \u001b[0mself\u001b[0m\u001b[0;34m.\u001b[0m\u001b[0mcopy\u001b[0m\u001b[0;34m:\u001b[0m\u001b[0;34m\u001b[0m\u001b[0;34m\u001b[0m\u001b[0m\n\u001b[1;32m    428\u001b[0m                 \u001b[0mnew_data\u001b[0m\u001b[0;34m.\u001b[0m\u001b[0m_consolidate_inplace\u001b[0m\u001b[0;34m(\u001b[0m\u001b[0;34m)\u001b[0m\u001b[0;34m\u001b[0m\u001b[0;34m\u001b[0m\u001b[0m\n",
      "\u001b[0;32m~/miniconda3/envs/casas/lib/python3.7/site-packages/pandas/core/internals/managers.py\u001b[0m in \u001b[0;36mconcatenate_block_managers\u001b[0;34m(mgrs_indexers, axes, concat_axis, copy)\u001b[0m\n\u001b[1;32m   2044\u001b[0m     \u001b[0mblocks\u001b[0m \u001b[0;34m=\u001b[0m \u001b[0;34m[\u001b[0m\u001b[0;34m]\u001b[0m\u001b[0;34m\u001b[0m\u001b[0;34m\u001b[0m\u001b[0m\n\u001b[1;32m   2045\u001b[0m \u001b[0;34m\u001b[0m\u001b[0m\n\u001b[0;32m-> 2046\u001b[0;31m     \u001b[0;32mfor\u001b[0m \u001b[0mplacement\u001b[0m\u001b[0;34m,\u001b[0m \u001b[0mjoin_units\u001b[0m \u001b[0;32min\u001b[0m \u001b[0mconcat_plan\u001b[0m\u001b[0;34m:\u001b[0m\u001b[0;34m\u001b[0m\u001b[0;34m\u001b[0m\u001b[0m\n\u001b[0m\u001b[1;32m   2047\u001b[0m \u001b[0;34m\u001b[0m\u001b[0m\n\u001b[1;32m   2048\u001b[0m         \u001b[0;32mif\u001b[0m \u001b[0mlen\u001b[0m\u001b[0;34m(\u001b[0m\u001b[0mjoin_units\u001b[0m\u001b[0;34m)\u001b[0m \u001b[0;34m==\u001b[0m \u001b[0;36m1\u001b[0m \u001b[0;32mand\u001b[0m \u001b[0;32mnot\u001b[0m \u001b[0mjoin_units\u001b[0m\u001b[0;34m[\u001b[0m\u001b[0;36m0\u001b[0m\u001b[0;34m]\u001b[0m\u001b[0;34m.\u001b[0m\u001b[0mindexers\u001b[0m\u001b[0;34m:\u001b[0m\u001b[0;34m\u001b[0m\u001b[0;34m\u001b[0m\u001b[0m\n",
      "\u001b[0;32m~/miniconda3/envs/casas/lib/python3.7/site-packages/pandas/core/internals/concat.py\u001b[0m in \u001b[0;36mcombine_concat_plans\u001b[0;34m(plans, concat_axis)\u001b[0m\n\u001b[1;32m    459\u001b[0m         \u001b[0;32mwhile\u001b[0m \u001b[0mnum_ended\u001b[0m\u001b[0;34m[\u001b[0m\u001b[0;36m0\u001b[0m\u001b[0;34m]\u001b[0m \u001b[0;34m!=\u001b[0m \u001b[0mlen\u001b[0m\u001b[0;34m(\u001b[0m\u001b[0mnext_items\u001b[0m\u001b[0;34m)\u001b[0m\u001b[0;34m:\u001b[0m\u001b[0;34m\u001b[0m\u001b[0;34m\u001b[0m\u001b[0m\n\u001b[1;32m    460\u001b[0m             \u001b[0;32mif\u001b[0m \u001b[0mnum_ended\u001b[0m\u001b[0;34m[\u001b[0m\u001b[0;36m0\u001b[0m\u001b[0;34m]\u001b[0m \u001b[0;34m>\u001b[0m \u001b[0;36m0\u001b[0m\u001b[0;34m:\u001b[0m\u001b[0;34m\u001b[0m\u001b[0;34m\u001b[0m\u001b[0m\n\u001b[0;32m--> 461\u001b[0;31m                 \u001b[0;32mraise\u001b[0m \u001b[0mValueError\u001b[0m\u001b[0;34m(\u001b[0m\u001b[0;34m\"Plan shapes are not aligned\"\u001b[0m\u001b[0;34m)\u001b[0m\u001b[0;34m\u001b[0m\u001b[0;34m\u001b[0m\u001b[0m\n\u001b[0m\u001b[1;32m    462\u001b[0m \u001b[0;34m\u001b[0m\u001b[0m\n\u001b[1;32m    463\u001b[0m             \u001b[0mplacements\u001b[0m\u001b[0;34m,\u001b[0m \u001b[0munits\u001b[0m \u001b[0;34m=\u001b[0m \u001b[0mzip\u001b[0m\u001b[0;34m(\u001b[0m\u001b[0;34m*\u001b[0m\u001b[0mnext_items\u001b[0m\u001b[0;34m)\u001b[0m\u001b[0;34m\u001b[0m\u001b[0;34m\u001b[0m\u001b[0m\n",
      "\u001b[0;31mValueError\u001b[0m: Plan shapes are not aligned"
     ]
    }
   ],
   "source": [
    "df = pd.concat(dfs)"
   ]
  },
  {
   "cell_type": "code",
   "execution_count": null,
   "metadata": {},
   "outputs": [],
   "source": [
    "df['Barrio'] = df['Barrio'].str.upper()"
   ]
  },
  {
   "cell_type": "code",
   "execution_count": null,
   "metadata": {},
   "outputs": [],
   "source": [
    "#Since the names of some barrios are incorrect, this will correct them so that they all have the right names.\n",
    "\n",
    "df.reset_index(inplace=True)\n",
    "df['Barrio'] = (df['Barrio'].apply(lambda x: str(x.replace('AGRONOMÍA', 'AGRONOMIA'))))\n",
    "df['Barrio'] = (df['Barrio'].apply(lambda x: str(x.replace('CONSTITUCIÓN', 'CONSTITUCION'))))\n",
    "df['Barrio'] = (df['Barrio'].apply(lambda x: str(x.replace('VILLA ORTÚZAR', 'VILLA ORTUZAR'))))\n",
    "df['Barrio'] = (df['Barrio'].apply(lambda x: str(x.replace('BALVANERA ', 'BALVANERA'))))\n",
    "df['Barrio'] = (df['Barrio'].apply(lambda x: str(x.replace('VILLA PUEYRREDÓN', 'VILLA PUEYRREDON'))))\n",
    "df['Barrio'] = (df['Barrio'].apply(lambda x: str(x.replace('NUNEZ', 'NUÑEZ'))))\n",
    "df['Barrio'] = (df['Barrio'].apply(lambda x: str(x.replace('NU?ÆEZ', 'NUÑEZ'))))\n",
    "df['Barrio'] = (df['Barrio'].apply(lambda x: str(x.replace('NU?EZ', 'NUÑEZ'))))\n",
    "df['Barrio'] = (df['Barrio'].apply(lambda x: str(x.replace('NU�EZ', 'NUÑEZ'))))\n",
    "df['Barrio'] = (df['Barrio'].apply(lambda x: str(x.replace('GOGHLAND', 'COGHLAN'))))\n",
    "df['Barrio'] = (df['Barrio'].apply(lambda x: str(x.replace('PARQUE AVELLANED', 'PARQUE AVELLANEDA'))))\n",
    "df['Barrio'] = (df['Barrio'].apply(lambda x: str(x.replace('SARSFIELD', 'SARFIELD'))))\n",
    "df['Barrio'] = (df['Barrio'].apply(lambda x: str(x.replace('VILLA GRAL. MITRE', 'VILLA GENERAL MITRE'))))\n",
    "df['Barrio'] = (df['Barrio'].apply(lambda x: str(x.replace('VILLA GRAL. MITR', 'VILLA GENERAL MITRE'))))\n",
    "df['Barrio'] = (df['Barrio'].apply(lambda x: str(x.replace('VILLA GRAL MITRE', 'VILLA GENERAL MITRE'))))\n",
    "df['Barrio'] = (df['Barrio'].apply(lambda x: str(x.replace('VILLA PUYRREDON', 'VILLA PUEYRREDON'))))\n",
    "df['Barrio'] = (df['Barrio'].apply(lambda x: str(x.replace('PARQUE AVELLANEDAA', 'PARQUE AVELLANEDA'))))\n",
    "df['Barrio'] = (df['Barrio'].apply(lambda x: str(x.replace('VERSALLES', 'VERSAILLES'))))\n",
    "df['Barrio'] = (df['Barrio'].apply(lambda x: str(x.replace('MONSERRAT', 'MONTSERRAT'))))\n",
    "df['Barrio'] = (df['Barrio'].apply(lambda x: str(x.replace('VÉLEZ SARFIELD', 'VELEZ SARFIELD'))))\n",
    "df['Barrio'] = (df['Barrio'].apply(lambda x: str(x.replace('LA BOCA', 'BOCA'))))\n",
    "df['Barrio'] = (df['Barrio'].apply(lambda x: str(x.replace('LA PATERNAL', 'PATERNAL'))))"
   ]
  },
  {
   "cell_type": "code",
   "execution_count": null,
   "metadata": {},
   "outputs": [],
   "source": [
    "print(len(df['Barrio'].unique()))\n",
    "sorted(df['Barrio'].unique())"
   ]
  },
  {
   "cell_type": "code",
   "execution_count": null,
   "metadata": {},
   "outputs": [],
   "source": [
    "barrio_df = pd.read_csv('../../barrio_table.csv')\n",
    "df = df[df['Barrio'].isin(barrio_df.Barrio)]\n",
    "df['b_id'] = [int(barrio_df[barrio_df.Barrio == i].id) for i in df.Barrio]\n",
    "df = df.drop('Barrio', axis=1)"
   ]
  },
  {
   "cell_type": "code",
   "execution_count": null,
   "metadata": {},
   "outputs": [],
   "source": [
    "df.head()"
   ]
  },
  {
   "cell_type": "code",
   "execution_count": null,
   "metadata": {},
   "outputs": [],
   "source": [
    "df.to_csv('humanity_table.csv', index=False)"
   ]
  },
  {
   "cell_type": "code",
   "execution_count": null,
   "metadata": {},
   "outputs": [],
   "source": []
  }
 ],
 "metadata": {
  "kernelspec": {
   "display_name": "Python 3",
   "language": "python",
   "name": "python3"
  },
  "language_info": {
   "codemirror_mode": {
    "name": "ipython",
    "version": 3
   },
   "file_extension": ".py",
   "mimetype": "text/x-python",
   "name": "python",
   "nbconvert_exporter": "python",
   "pygments_lexer": "ipython3",
   "version": "3.7.2"
  }
 },
 "nbformat": 4,
 "nbformat_minor": 2
}
