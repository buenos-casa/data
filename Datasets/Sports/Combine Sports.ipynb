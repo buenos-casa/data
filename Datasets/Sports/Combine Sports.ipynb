{
 "cells": [
  {
   "cell_type": "code",
   "execution_count": 1,
   "metadata": {},
   "outputs": [],
   "source": [
    "import pandas as pd"
   ]
  },
  {
   "cell_type": "code",
   "execution_count": 2,
   "metadata": {},
   "outputs": [],
   "source": [
    "dfs = [\n",
    "    pd.read_csv('sports_club.csv'),\n",
    "    pd.read_csv('skate_park.csv'),\n",
    "    pd.read_csv('sports_center.csv'),\n",
    "    pd.read_csv('futbol_club.csv')\n",
    "]"
   ]
  },
  {
   "cell_type": "code",
   "execution_count": 3,
   "metadata": {},
   "outputs": [
    {
     "name": "stdout",
     "output_type": "stream",
     "text": [
      "Index(['long', 'lat', 'fed_asoc', 'web', 'e_mail', 'telefono', 'calle',\n",
      "       'altura', 'barrio', 'comuna', 'codigo_postal',\n",
      "       'codigo_postal_argentino'],\n",
      "      dtype='object')\n",
      "Index(['ID', 'long', 'lat', 'nombre', 'categoria', 'direccion', 'comuna',\n",
      "       'barrio', 'area_de_gobierno', 'direccion_normalizada', 'observacion',\n",
      "       'objeto'],\n",
      "      dtype='object')\n",
      "Index(['long', 'lat', 'id', 'nom_polid', 'calle', 'nro', 'telefono',\n",
      "       'domicilio', 'barrio', 'comuna', 'hor_atenc', 'valor_ent',\n",
      "       'codigo_postal', 'codigo_postal_argentino'],\n",
      "      dtype='object')\n",
      "Index(['long', 'lat', 'id', 'club', 'estadio', 'web', 'facebook', 'twitter',\n",
      "       'contacto', 'objeto', 'calle', 'altura', 'barrio', 'comuna',\n",
      "       'codigo_postal', 'codigo_postal_argentino'],\n",
      "      dtype='object')\n"
     ]
    }
   ],
   "source": [
    "for i in dfs:\n",
    "    print(i.columns)"
   ]
  },
  {
   "cell_type": "code",
   "execution_count": 4,
   "metadata": {},
   "outputs": [],
   "source": [
    "#This function will clean the dataframes and return it with renamed columns.\n",
    "\n",
    "def cleanData(df):\n",
    "\n",
    "        #First, we define the column names used in all dataframes and their corresponding unified name\n",
    "        columnNames = {\n",
    "            'long':'Longitude', 'LNG':'Longitude', 'X': 'Longitude',\n",
    "            'lat': 'Latitude', 'LAT': 'Latitude', 'Y': 'Latitude',\n",
    "            'barrio': 'Barrio', 'BARRIO': 'Barrio',\n",
    "            \n",
    "            'nombre': 'Name', 'NOMBRE': 'Name', 'calle_nombre': 'Name',\n",
    "            'NOMBRE_OFICINA': 'Name', 'nombre_centro': 'Name',\n",
    "            'nombre_ofi': 'Name', 'CIM': 'Name', 'fed_asoc': 'Name',\n",
    "            'club': 'Name', 'nom_polid': 'Name'\n",
    "        }\n",
    "        \n",
    "        #Then, delete empty rows, rename the columns and set the index for the Neighborhood (Name of the Barrio)\n",
    "        df = (df.rename(columns=columnNames))\n",
    "        \n",
    "        #With the following line, we indicate that we only wish to keep the columns below, then the rest can be deleted\n",
    "        df = df[['Barrio', 'Name', 'Longitude', 'Latitude']]\n",
    "        \n",
    "        return df.dropna()"
   ]
  },
  {
   "cell_type": "code",
   "execution_count": 5,
   "metadata": {},
   "outputs": [
    {
     "name": "stdout",
     "output_type": "stream",
     "text": [
      "0\n",
      "1\n",
      "2\n",
      "3\n"
     ]
    }
   ],
   "source": [
    "for i in range(0, len(dfs)):\n",
    "    print(i)\n",
    "    dfs[i] = cleanData(dfs[i])"
   ]
  },
  {
   "cell_type": "code",
   "execution_count": 6,
   "metadata": {},
   "outputs": [],
   "source": [
    "type_col = ['sports club', 'skate park', 'sports center', 'futbol club']\n",
    "for i in range(0, len(dfs)):\n",
    "    dfs[i]['Type'] = type_col[i]"
   ]
  },
  {
   "cell_type": "code",
   "execution_count": 7,
   "metadata": {},
   "outputs": [],
   "source": [
    "df = pd.concat(dfs)"
   ]
  },
  {
   "cell_type": "code",
   "execution_count": 8,
   "metadata": {},
   "outputs": [],
   "source": [
    "df['Barrio'] = df['Barrio'].str.upper()"
   ]
  },
  {
   "cell_type": "code",
   "execution_count": 9,
   "metadata": {},
   "outputs": [],
   "source": [
    "#Since the names of some barrios are incorrect, this will correct them so that they all have the right names.\n",
    "\n",
    "df.reset_index(inplace=True)\n",
    "df['Barrio'] = (df['Barrio'].apply(lambda x: str(x.replace('AGRONOMÍA', 'AGRONOMIA'))))\n",
    "df['Barrio'] = (df['Barrio'].apply(lambda x: str(x.replace('CONSTITUCIÓN', 'CONSTITUCION'))))\n",
    "df['Barrio'] = (df['Barrio'].apply(lambda x: str(x.replace('VILLA ORTÚZAR', 'VILLA ORTUZAR'))))\n",
    "df['Barrio'] = (df['Barrio'].apply(lambda x: str(x.replace('BALVANERA ', 'BALVANERA'))))\n",
    "df['Barrio'] = (df['Barrio'].apply(lambda x: str(x.replace('VILLA PUEYRREDÓN', 'VILLA PUEYRREDON'))))\n",
    "df['Barrio'] = (df['Barrio'].apply(lambda x: str(x.replace('NUNEZ', 'NUÑEZ'))))\n",
    "df['Barrio'] = (df['Barrio'].apply(lambda x: str(x.replace('NU?ÆEZ', 'NUÑEZ'))))\n",
    "df['Barrio'] = (df['Barrio'].apply(lambda x: str(x.replace('NU?EZ', 'NUÑEZ'))))\n",
    "df['Barrio'] = (df['Barrio'].apply(lambda x: str(x.replace('NU�EZ', 'NUÑEZ'))))\n",
    "df['Barrio'] = (df['Barrio'].apply(lambda x: str(x.replace('NU\\\\U00F1EZ', 'NUÑEZ'))))\n",
    "df['Barrio'] = (df['Barrio'].apply(lambda x: str(x.replace('GOGHLAND', 'COGHLAN'))))\n",
    "df['Barrio'] = (df['Barrio'].apply(lambda x: str(x.replace('PARQUE AVELLANED', 'PARQUE AVELLANEDA'))))\n",
    "df['Barrio'] = (df['Barrio'].apply(lambda x: str(x.replace('SARSFIELD', 'SARFIELD'))))\n",
    "df['Barrio'] = (df['Barrio'].apply(lambda x: str(x.replace('VILLA GRAL. MITRE', 'VILLA GENERAL MITRE'))))\n",
    "df['Barrio'] = (df['Barrio'].apply(lambda x: str(x.replace('VILLA GRAL. MITR', 'VILLA GENERAL MITRE'))))\n",
    "df['Barrio'] = (df['Barrio'].apply(lambda x: str(x.replace('VILLA GRAL MITRE', 'VILLA GENERAL MITRE'))))\n",
    "df['Barrio'] = (df['Barrio'].apply(lambda x: str(x.replace('VILLA PUYRREDON', 'VILLA PUEYRREDON'))))\n",
    "df['Barrio'] = (df['Barrio'].apply(lambda x: str(x.replace('PARQUE AVELLANEDAA', 'PARQUE AVELLANEDA'))))\n",
    "df['Barrio'] = (df['Barrio'].apply(lambda x: str(x.replace('VERSALLES', 'VERSAILLES'))))\n",
    "df['Barrio'] = (df['Barrio'].apply(lambda x: str(x.replace('MONSERRAT', 'MONTSERRAT'))))\n",
    "df['Barrio'] = (df['Barrio'].apply(lambda x: str(x.replace('VÉLEZ SARFIELD', 'VELEZ SARFIELD'))))\n",
    "df['Barrio'] = (df['Barrio'].apply(lambda x: str(x.replace('LA BOCA', 'BOCA'))))\n",
    "df['Barrio'] = (df['Barrio'].apply(lambda x: str(x.replace('LA PATERNAL', 'PATERNAL'))))"
   ]
  },
  {
   "cell_type": "code",
   "execution_count": 10,
   "metadata": {},
   "outputs": [
    {
     "name": "stdout",
     "output_type": "stream",
     "text": [
      "37\n"
     ]
    },
    {
     "data": {
      "text/plain": [
       "['AGRONOMIA',\n",
       " 'ALMAGRO',\n",
       " 'BALVANERA',\n",
       " 'BARRACAS',\n",
       " 'BELGRANO',\n",
       " 'BOCA',\n",
       " 'CABALLITO',\n",
       " 'COLEGIALES',\n",
       " 'FLORES',\n",
       " 'FLORESTA',\n",
       " 'LINIERS',\n",
       " 'MATADEROS',\n",
       " 'MONTE CASTRO',\n",
       " 'MONTSERRAT',\n",
       " 'NUEVA POMPEYA',\n",
       " 'NUÑEZ',\n",
       " 'PALERMO',\n",
       " 'PARQUE AVELLANEDA',\n",
       " 'PARQUE CHACABUCO',\n",
       " 'PARQUE PATRICIOS',\n",
       " 'PATERNAL',\n",
       " 'RECOLETA',\n",
       " 'RETIRO',\n",
       " 'SAAVEDRA',\n",
       " 'SAN CRISTOBAL',\n",
       " 'SAN NICOLAS',\n",
       " 'SAN TELMO',\n",
       " 'VERSAILLES',\n",
       " 'VILLA CRESPO',\n",
       " 'VILLA DEVOTO',\n",
       " 'VILLA GENERAL MITRE',\n",
       " 'VILLA LUGANO',\n",
       " 'VILLA PUEYRREDON',\n",
       " 'VILLA REAL',\n",
       " 'VILLA RIACHUELO',\n",
       " 'VILLA SANTA RITA',\n",
       " 'VILLA SOLDATI']"
      ]
     },
     "execution_count": 10,
     "metadata": {},
     "output_type": "execute_result"
    }
   ],
   "source": [
    "print(len(df['Barrio'].unique()))\n",
    "sorted(df['Barrio'].unique())"
   ]
  },
  {
   "cell_type": "code",
   "execution_count": 11,
   "metadata": {},
   "outputs": [],
   "source": [
    "barrio_df = pd.read_csv('../../barrio_table.csv')\n",
    "df = df[df['Barrio'].isin(barrio_df.Barrio)]\n",
    "df['b_id'] = [int(barrio_df[barrio_df.Barrio == i].id) for i in df.Barrio]\n",
    "df = df.drop('Barrio', axis=1)"
   ]
  },
  {
   "cell_type": "code",
   "execution_count": 12,
   "metadata": {},
   "outputs": [
    {
     "data": {
      "text/html": [
       "<div>\n",
       "<style scoped>\n",
       "    .dataframe tbody tr th:only-of-type {\n",
       "        vertical-align: middle;\n",
       "    }\n",
       "\n",
       "    .dataframe tbody tr th {\n",
       "        vertical-align: top;\n",
       "    }\n",
       "\n",
       "    .dataframe thead th {\n",
       "        text-align: right;\n",
       "    }\n",
       "</style>\n",
       "<table border=\"1\" class=\"dataframe\">\n",
       "  <thead>\n",
       "    <tr style=\"text-align: right;\">\n",
       "      <th></th>\n",
       "      <th>index</th>\n",
       "      <th>Name</th>\n",
       "      <th>Longitude</th>\n",
       "      <th>Latitude</th>\n",
       "      <th>Type</th>\n",
       "      <th>b_id</th>\n",
       "    </tr>\n",
       "  </thead>\n",
       "  <tbody>\n",
       "    <tr>\n",
       "      <th>0</th>\n",
       "      <td>0</td>\n",
       "      <td>Asociación Metropolitana de Squash</td>\n",
       "      <td>-58.441454</td>\n",
       "      <td>-34.571932</td>\n",
       "      <td>sports club</td>\n",
       "      <td>28</td>\n",
       "    </tr>\n",
       "    <tr>\n",
       "      <th>1</th>\n",
       "      <td>1</td>\n",
       "      <td>Federación Metropolitana de Taekwondo</td>\n",
       "      <td>-58.403847</td>\n",
       "      <td>-34.637516</td>\n",
       "      <td>sports club</td>\n",
       "      <td>40</td>\n",
       "    </tr>\n",
       "    <tr>\n",
       "      <th>2</th>\n",
       "      <td>2</td>\n",
       "      <td>Asociación Metropolitana de Cazadores y Tirado...</td>\n",
       "      <td>-58.441222</td>\n",
       "      <td>-34.667652</td>\n",
       "      <td>sports club</td>\n",
       "      <td>37</td>\n",
       "    </tr>\n",
       "    <tr>\n",
       "      <th>3</th>\n",
       "      <td>3</td>\n",
       "      <td>Federación Metropolitana de Balonmano</td>\n",
       "      <td>-58.416848</td>\n",
       "      <td>-34.619663</td>\n",
       "      <td>sports club</td>\n",
       "      <td>12</td>\n",
       "    </tr>\n",
       "    <tr>\n",
       "      <th>4</th>\n",
       "      <td>4</td>\n",
       "      <td>Federación Porteña de Patín</td>\n",
       "      <td>-58.416016</td>\n",
       "      <td>-34.606715</td>\n",
       "      <td>sports club</td>\n",
       "      <td>12</td>\n",
       "    </tr>\n",
       "  </tbody>\n",
       "</table>\n",
       "</div>"
      ],
      "text/plain": [
       "   index                                               Name  Longitude  \\\n",
       "0      0                 Asociación Metropolitana de Squash -58.441454   \n",
       "1      1              Federación Metropolitana de Taekwondo -58.403847   \n",
       "2      2  Asociación Metropolitana de Cazadores y Tirado... -58.441222   \n",
       "3      3              Federación Metropolitana de Balonmano -58.416848   \n",
       "4      4                        Federación Porteña de Patín -58.416016   \n",
       "\n",
       "    Latitude         Type  b_id  \n",
       "0 -34.571932  sports club    28  \n",
       "1 -34.637516  sports club    40  \n",
       "2 -34.667652  sports club    37  \n",
       "3 -34.619663  sports club    12  \n",
       "4 -34.606715  sports club    12  "
      ]
     },
     "execution_count": 12,
     "metadata": {},
     "output_type": "execute_result"
    }
   ],
   "source": [
    "df.head()"
   ]
  },
  {
   "cell_type": "code",
   "execution_count": 13,
   "metadata": {},
   "outputs": [],
   "source": [
    "df.to_csv('sports_table.csv', index=False)"
   ]
  },
  {
   "cell_type": "code",
   "execution_count": null,
   "metadata": {},
   "outputs": [],
   "source": []
  }
 ],
 "metadata": {
  "kernelspec": {
   "display_name": "Python 3",
   "language": "python",
   "name": "python3"
  },
  "language_info": {
   "codemirror_mode": {
    "name": "ipython",
    "version": 3
   },
   "file_extension": ".py",
   "mimetype": "text/x-python",
   "name": "python",
   "nbconvert_exporter": "python",
   "pygments_lexer": "ipython3",
   "version": "3.7.2"
  }
 },
 "nbformat": 4,
 "nbformat_minor": 2
}
