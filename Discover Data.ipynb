{
 "cells": [
  {
   "cell_type": "code",
   "execution_count": 1,
   "metadata": {},
   "outputs": [],
   "source": [
    "# standard python packages\n",
    "import pandas as pd\n",
    "import ast\n",
    "import numpy as np\n",
    "import sys\n",
    "import json\n",
    "\n",
    "\n",
    "#geospatial manipulatio \n",
    "import geopandas\n",
    "from geopy.distance import geodesic\n",
    "from shapely.geometry import Point\n",
    "from shapely.geometry.polygon import Polygon\n",
    "from shapely.ops import nearest_points\n",
    "from shapely import wkt"
   ]
  },
  {
   "cell_type": "markdown",
   "metadata": {},
   "source": [
    "#### Import the Properati and Census data "
   ]
  },
  {
   "cell_type": "code",
   "execution_count": 2,
   "metadata": {},
   "outputs": [],
   "source": [
    "properati = pd.read_csv('properati_data/rent-combined.csv', encoding= \"ISO-8859-1\")\n",
    "census = pd.read_csv('census/cleaned_data2.csv',encoding= \"ISO-8859-1\")"
   ]
  },
  {
   "cell_type": "markdown",
   "metadata": {},
   "source": [
    "#### Change the format of the geojson file to something that can be imported into Pandas"
   ]
  },
  {
   "cell_type": "code",
   "execution_count": 3,
   "metadata": {},
   "outputs": [],
   "source": [
    "with open('geojson/baires.json', 'r+') as fd:\n",
    "    ba_dict = json.load(fd)\n",
    "    \n",
    "ba_polygon = ba_dict['features']\n",
    "header = ['type', 'id', 'coordinates', 'barrio', 'perimeter', 'area', 'commune']\n",
    "ba_data_list = []\n",
    "for feature in ba_polygon:\n",
    "    type_name = feature['type']\n",
    "    type_id = feature['id']\n",
    "    coordinates = feature['geometry']['coordinates']\n",
    "    barrio = feature['properties']['barrios']\n",
    "    perimeter = feature['properties']['perimetro']\n",
    "    area = feature['properties']['area']\n",
    "    commune = feature['properties']['comunas']\n",
    "    \n",
    "    ba_data_list.append([type_name, type_id, coordinates, barrio, perimeter, area, commune])\n",
    "\n",
    "ba_data = pd.DataFrame(ba_data_list, columns=header)\n",
    "\n",
    "    \n",
    "    \n",
    "    "
   ]
  },
  {
   "cell_type": "code",
   "execution_count": 4,
   "metadata": {},
   "outputs": [],
   "source": [
    "def modify_poly(data):\n",
    "    coord_list = []\n",
    "    #row = ast.literal_eval(data)\n",
    "    for coord in data:\n",
    "        coord_list.append(tuple(coord))\n",
    "    return coord_list"
   ]
  },
  {
   "cell_type": "code",
   "execution_count": 5,
   "metadata": {},
   "outputs": [
    {
     "name": "stderr",
     "output_type": "stream",
     "text": [
      "/anaconda3/envs/geopandas/lib/python3.7/site-packages/numpy/lib/function_base.py:2167: RuntimeWarning: invalid value encountered in ? (vectorized)\n",
      "  outputs = ufunc(*inputs)\n"
     ]
    },
    {
     "name": "stdout",
     "output_type": "stream",
     "text": [
      "24.73%\n",
      "65574\n"
     ]
    }
   ],
   "source": [
    "# create a new column called coordinates on properati data frame\n",
    "properati['coordinates'] = list(zip(properati.lon, properati.lat))\n",
    "properati['coordinates'] = properati['coordinates'].apply(Point)\n",
    "\n",
    "# convert properati data into geopandas dataframe\n",
    "properati_gdf = geopandas.GeoDataFrame(properati, geometry='coordinates')\n",
    "\n",
    "# convert census polygon data into tuples and polygon\n",
    "census.coordinates = census.coordinates.apply(lambda x: ast.literal_eval(x)[0])\n",
    "census.coordinates = census.coordinates.apply(lambda x: modify_poly(x))\n",
    "census.coordinates = census.coordinates.apply(Polygon)\n",
    "\n",
    "census_gdf = geopandas.GeoDataFrame(census, geometry='coordinates')\n",
    "\n",
    "properati_census_gdf = geopandas.sjoin(properati_gdf, census_gdf, how=\"inner\", op='within')\n",
    "print ('{:.2f}%'.format((len(properati_census_gdf)/len(properati_gdf))*100))\n",
    "\n",
    "print (len(properati_census_gdf))"
   ]
  },
  {
   "cell_type": "code",
   "execution_count": 6,
   "metadata": {},
   "outputs": [],
   "source": [
    "def modify_json_coordinates(coordinates):\n",
    "    coord_list = []\n",
    "    for coord in coordinates[0][0]:\n",
    "        coord_list.append(tuple(coord))\n",
    "    return coord_list\n",
    "        "
   ]
  },
  {
   "cell_type": "code",
   "execution_count": 7,
   "metadata": {},
   "outputs": [],
   "source": [
    "ba_data.coordinates = ba_data.coordinates.apply(lambda x: modify_json_coordinates(x))\n",
    "#print (ba_data.coordinates[0])\n",
    "ba_data['coordinates'] = ba_data['coordinates'].apply(Polygon)\n",
    "#print (ba_data.coordinates[0])\n",
    "ba_data_gdf = geopandas.GeoDataFrame(ba_data, geometry='coordinates')"
   ]
  },
  {
   "cell_type": "code",
   "execution_count": 8,
   "metadata": {},
   "outputs": [],
   "source": [
    "barrios = pd.read_csv('shape files/barrios.csv')\n",
    "barrios.WKT = barrios.WKT.apply(wkt.loads)\n",
    "barrios_gdf = geopandas.GeoDataFrame(barrios, geometry='WKT')"
   ]
  },
  {
   "cell_type": "code",
   "execution_count": 10,
   "metadata": {},
   "outputs": [
    {
     "name": "stdout",
     "output_type": "stream",
     "text": [
      "['dataset_date' 'created_on' 'operation' 'property_type' 'place_name'\n",
      " 'place_with_parent_names' 'country_name' 'state_name' 'geonames_id'\n",
      " 'lat_lon' 'lat' 'lon' 'price' 'currency' 'price_aprox_local_currency'\n",
      " 'price_aprox_usd' 'properati_url' 'description' 'title' 'image_thumbnail'\n",
      " 'coordinates' 'AREA' 'Commune' 'DEPTO' 'FRAC' 'Computer Percent'\n",
      " 'Computer Quantile' 'Cellular Percent' 'Cellular Quantile' 'Rent Percent'\n",
      " 'Rent Quantile' 'LINK' 'Immigration Percent' 'Immigration Quantile'\n",
      " 'Education Percent' 'Education Quantile' 'PERIMETER' 'Owner Percent'\n",
      " 'Owner Quantile' 'PROV' 'RADIO' 'RADPAIS_' 'REDCODE' 'Regular Percent'\n",
      " 'Regular Quantile' 'TIPO' 'Uninhabited Percent' 'Uninhabited Quantile'\n",
      " 'type']\n",
      "['dataset_date' 'created_on' 'operation' 'property_type' 'place_name'\n",
      " 'place_with_parent_names' 'country_name' 'state_name' 'geonames_id'\n",
      " 'lat_lon' 'lat' 'lon' 'price' 'currency' 'price_aprox_local_currency'\n",
      " 'price_aprox_usd' 'properati_url' 'description' 'title' 'image_thumbnail'\n",
      " 'coordinates' 'AREA' 'Commune' 'DEPTO' 'FRAC' 'Computer Percent'\n",
      " 'Computer Quantile' 'Cellular Percent' 'Cellular Quantile' 'Rent Percent'\n",
      " 'Rent Quantile' 'LINK' 'Immigration Percent' 'Immigration Quantile'\n",
      " 'Education Percent' 'Education Quantile' 'PERIMETER' 'Owner Percent'\n",
      " 'Owner Quantile' 'PROV' 'RADIO' 'RADPAIS_' 'REDCODE' 'Regular Percent'\n",
      " 'Regular Quantile' 'TIPO' 'Uninhabited Percent' 'Uninhabited Quantile'\n",
      " 'type' 'index_right' 'barrio' 'comuna' 'perimetro' 'area']\n",
      "65572\n"
     ]
    }
   ],
   "source": [
    "#print (properati_census_gdf.columns.values)\n",
    "#properati_census_gdf.index = properati_census_gdf.index_left\n",
    "properati_census_gdf = properati_census_gdf.drop(columns=['id_left', 'id_right', 'index_right'], axis=1)\n",
    "print (properati_census_gdf.columns.values)\n",
    "final_gdf = geopandas.sjoin(properati_census_gdf , barrios_gdf, how=\"inner\", op='within')\n",
    "print (final_gdf.columns.values)\n",
    "print (len(final_gdf))\n"
   ]
  },
  {
   "cell_type": "code",
   "execution_count": 11,
   "metadata": {},
   "outputs": [],
   "source": [
    "\n",
    "#ba_data_gdf.coordinates.to_file(driver = 'ESRI Shapefile', filename= \"shape files/ba_data.shp\")\n",
    "#final_gdf.coordinates.to_file(driver = 'ESRI Shapefile', filename= \"shape files/final_data.shp\")\n",
    "filtered_gdf = final_gdf[['dataset_date', 'created_on', 'operation', 'property_type', 'place_name', 'place_with_parent_names',\\\n",
    "                          'state_name', 'price', 'currency', 'price_aprox_local_currency', 'price_aprox_usd',\\\n",
    "                         'Commune', 'Computer Percent', 'Computer Quantile', 'Cellular Percent', 'Cellular Quantile',\\\n",
    "                          'Rent Percent','Rent Quantile','Immigration Percent', 'Immigration Quantile','Education Percent', \\\n",
    "                          'Education Quantile', 'Owner Percent','Owner Quantile','Regular Percent','Regular Quantile', \\\n",
    "                          'Uninhabited Percent','Uninhabited Quantile','barrio', 'comuna', 'perimetro','area']]\n",
    "\n",
    "filter_df = pd.DataFrame(filtered_gdf)\n",
    "#filter_df.to_csv('properati_data/properati_census_barrios.csv')\n"
   ]
  },
  {
   "cell_type": "code",
   "execution_count": 109,
   "metadata": {},
   "outputs": [],
   "source": [
    "barrios_gdf.WKT.to_file(driver = 'ESRI Shapefile', filename= \"shape files/barrios.shp\")"
   ]
  },
  {
   "cell_type": "code",
   "execution_count": 136,
   "metadata": {},
   "outputs": [
    {
     "name": "stdout",
     "output_type": "stream",
     "text": [
      "     barrio_  price_aprox_local_currency_min  price_aprox_local_currency_max  \\\n",
      "0  AGRONOMIA                            0.00                        98175.00   \n",
      "1    ALMAGRO                            0.00                       878267.50   \n",
      "2  BALVANERA                            0.00                      1408440.00   \n",
      "3   BARRACAS                         3461.49                       312417.98   \n",
      "4   BELGRANO                            0.00                       705780.00   \n",
      "\n",
      "   price_aprox_local_currency_mean  price_aprox_local_currency_std  \\\n",
      "0                     12696.511158                    17617.961264   \n",
      "1                     20709.412613                    59404.834040   \n",
      "2                     37086.928929                    79472.735289   \n",
      "3                     37424.249225                    52830.388821   \n",
      "4                     43239.352750                    54878.052483   \n",
      "\n",
      "   price_aprox_usd_min  price_aprox_usd_max  price_aprox_usd_mean  \\\n",
      "0                 0.00              5000.00            734.591053   \n",
      "1                 0.00             55000.00           1211.184398   \n",
      "2                 0.00             80000.00           2184.478300   \n",
      "3               216.77             15911.28           2202.642840   \n",
      "4                 0.00             40000.00           2544.970683   \n",
      "\n",
      "   price_aprox_usd_std  Computer Percent_mean  Cellular Percent_mean  \\\n",
      "0           975.235274              74.046316              86.651579   \n",
      "1          3495.641576              71.309944              87.899494   \n",
      "2          4648.993970              66.266457              85.889041   \n",
      "3          3078.464471              65.046912              86.061937   \n",
      "4          3222.410381              80.707457              90.284457   \n",
      "\n",
      "   Rent Percent_mean  Immigration Percent_mean  Education Percent_mean  \\\n",
      "0          22.051579                  7.014737               33.860000   \n",
      "1          37.122416                 11.242809               41.738596   \n",
      "2          43.747479                 17.533193               36.413445   \n",
      "3          34.089816                 11.407179               26.704674   \n",
      "4          24.276391                  9.496435               55.660826   \n",
      "\n",
      "   Owner Percent_mean  created_on_count  \n",
      "0           67.074737                95  \n",
      "1           49.277921              1780  \n",
      "2           41.776541              2856  \n",
      "3           52.932888               599  \n",
      "4           63.634130              4600  \n"
     ]
    }
   ],
   "source": [
    "barrios_filter_df = filter_df[['barrio','comuna','perimetro','area','price_aprox_local_currency', 'price_aprox_usd', 'Computer Percent',\\\n",
    "                              'Cellular Percent', 'Rent Percent','Immigration Percent', 'Education Percent',\\\n",
    "                              'Owner Percent', 'created_on']]\n",
    "grouped = barrios_filter_df.groupby('barrio', as_index=False).agg({\"price_aprox_local_currency\": [\"min\", \"max\", \"mean\", \"std\"], \"price_aprox_usd\": [\"min\", \"max\", \"mean\", \"std\"],\\\n",
    "                                                \"Computer Percent\": \"mean\", \"Cellular Percent\": \"mean\", \"Rent Percent\": \"mean\",\\\n",
    "                                                \"Immigration Percent\": \"mean\", \"Education Percent\": \"mean\", \"Owner Percent\": \"mean\",\\\n",
    "                                                \"created_on\": \"count\"})\n",
    "grouped.columns = [\"_\".join(x) for x in grouped.columns.ravel()]\n",
    "print (grouped.head(5))\n",
    "grouped.to_csv('properati_data/properati_barrios_grouped.csv')\n"
   ]
  },
  {
   "cell_type": "code",
   "execution_count": 137,
   "metadata": {},
   "outputs": [],
   "source": [
    "grouped.to_json(\"properati_data/properati_barrios.json\", orient = \"records\", date_format = \"epoch\", double_precision = 10, force_ascii = True, date_unit = \"ms\", default_handler = None)\n",
    "\n"
   ]
  },
  {
   "cell_type": "code",
   "execution_count": 23,
   "metadata": {},
   "outputs": [
    {
     "name": "stdout",
     "output_type": "stream",
     "text": [
      "            barrio  dataset_date  comuna    perimetro          area  \\\n",
      "1      SAN NICOLAS        201501       1  6548.084741  2.289008e+06   \n",
      "2868   SAN NICOLAS        201502       1  6548.084741  2.289008e+06   \n",
      "59432  SAN NICOLAS        201605       1  6548.084741  2.289008e+06   \n",
      "63470  SAN NICOLAS        201606       1  6548.084741  2.289008e+06   \n",
      "63478  SAN NICOLAS        201606       1  6548.084741  2.289008e+06   \n",
      "\n",
      "       price_aprox_local_currency  price_aprox_usd  Computer Percent  \\\n",
      "1                        13757.06           796.38              70.8   \n",
      "2868                     13757.06           796.38              70.8   \n",
      "59432                    14425.14           903.35              70.8   \n",
      "63470                    14425.14           903.35              70.8   \n",
      "63478                     8670.09           542.95              70.8   \n",
      "\n",
      "       Cellular Percent  Rent Percent  Immigration Percent  Education Percent  \\\n",
      "1                  89.7          41.6                 11.3               51.9   \n",
      "2868               89.7          41.6                 11.3               51.9   \n",
      "59432              89.7          41.6                 11.3               51.9   \n",
      "63470              89.7          41.6                 11.3               51.9   \n",
      "63478              89.7          41.6                 11.3               51.9   \n",
      "\n",
      "       Owner Percent created_on  month  year  \n",
      "1               45.7 2014-08-26      8  2014  \n",
      "2868            45.7 2014-08-26      8  2014  \n",
      "59432           45.7 2016-05-19      5  2016  \n",
      "63470           45.7 2016-05-19      5  2016  \n",
      "63478           45.7 2016-06-10      6  2016  \n"
     ]
    }
   ],
   "source": [
    "filter_df['created_on'] = pd.to_datetime(filter_df['created_on'])\n",
    "filter_df['month'] = filter_df.created_on.apply(lambda x: x.month)\n",
    "filter_df['year'] = filter_df.created_on.apply(lambda x: x.year)\n",
    "\n",
    "barrios_filter_df = filter_df[['barrio','dataset_date','comuna','perimetro','area','price_aprox_local_currency', 'price_aprox_usd', 'Computer Percent',\\\n",
    "                              'Cellular Percent', 'Rent Percent','Immigration Percent', 'Education Percent',\\\n",
    "                              'Owner Percent', 'created_on', 'month', 'year']]\n",
    "print (barrios_filter_df.head(5))"
   ]
  },
  {
   "cell_type": "code",
   "execution_count": 26,
   "metadata": {},
   "outputs": [
    {
     "name": "stdout",
     "output_type": "stream",
     "text": [
      "     barrio_  month_  year_  price_aprox_local_currency_min  \\\n",
      "0  AGRONOMIA       1   2015                         3212.36   \n",
      "1  AGRONOMIA       1   2017                        20117.11   \n",
      "2  AGRONOMIA       1   2018                         4137.68   \n",
      "3  AGRONOMIA       3   2015                        11121.84   \n",
      "4  AGRONOMIA       3   2017                         4466.22   \n",
      "\n",
      "   price_aprox_local_currency_max  price_aprox_local_currency_mean  \\\n",
      "0                         3212.36                      3212.360000   \n",
      "1                        20117.11                     20117.110000   \n",
      "2                        12503.18                      8124.037143   \n",
      "3                        11121.84                     11121.840000   \n",
      "4                         8906.06                      7049.298125   \n",
      "\n",
      "   price_aprox_local_currency_std  price_aprox_usd_min  price_aprox_usd_max  \\\n",
      "0                        0.000000               185.96               185.96   \n",
      "1                        0.000000              1259.80              1259.80   \n",
      "2                     2540.152002               210.73               636.78   \n",
      "3                             NaN               643.83               643.83   \n",
      "4                     1105.503218               279.69               504.75   \n",
      "\n",
      "   price_aprox_usd_mean  price_aprox_usd_std  Computer Percent_mean  \\\n",
      "0            185.960000             0.000000              71.900000   \n",
      "1           1259.800000             0.000000              75.100000   \n",
      "2            413.752857           129.368453              71.557143   \n",
      "3            643.830000                  NaN              85.800000   \n",
      "4            435.012500            60.928478              74.893750   \n",
      "\n",
      "   Cellular Percent_mean  Rent Percent_mean  Immigration Percent_mean  \\\n",
      "0              87.000000          28.100000                  9.400000   \n",
      "1              84.000000          18.600000                  8.400000   \n",
      "2              85.585714          20.985714                  5.771429   \n",
      "3              92.300000           4.400000                  4.900000   \n",
      "4              84.725000          21.712500                  5.962500   \n",
      "\n",
      "   Education Percent_mean  Owner Percent_mean  created_on_count  \n",
      "0               36.100000           63.000000                 7  \n",
      "1               33.800000           69.600000                 6  \n",
      "2               32.642857           68.014286                 7  \n",
      "3               52.500000           80.900000                 1  \n",
      "4               30.475000           68.875000                16  \n",
      "1516\n"
     ]
    }
   ],
   "source": [
    "grouped_month = barrios_filter_df.groupby(['barrio', 'month', 'year'], as_index=False).agg({\"price_aprox_local_currency\": [\"min\", \"max\", \"mean\", \"std\"], \"price_aprox_usd\": [\"min\", \"max\", \"mean\", \"std\"],\\\n",
    "                                                \"Computer Percent\": \"mean\", \"Cellular Percent\": \"mean\", \"Rent Percent\": \"mean\",\\\n",
    "                                                \"Immigration Percent\": \"mean\", \"Education Percent\": \"mean\", \"Owner Percent\": \"mean\",\\\n",
    "                                                \"created_on\": \"count\"})\n",
    "grouped_month.columns = [\"_\".join(x) for x in grouped_month.columns.ravel()]\n",
    "print (grouped_month.head(5))\n",
    "print (len(grouped_month))\n",
    "#grouped.to_csv('properati_data/properati_barrios_grouped.csv')"
   ]
  },
  {
   "cell_type": "code",
   "execution_count": 27,
   "metadata": {},
   "outputs": [],
   "source": [
    "grouped_month.to_csv('properati_data/properati_barrios_grouped_month.csv')\n",
    "grouped_month.to_json(\"properati_data/properati_barrios_month.json\", orient = \"records\", date_format = \"epoch\", double_precision = 10, force_ascii = True, date_unit = \"ms\", default_handler = None)\n",
    "\n"
   ]
  },
  {
   "cell_type": "code",
   "execution_count": null,
   "metadata": {},
   "outputs": [],
   "source": []
  }
 ],
 "metadata": {
  "kernelspec": {
   "display_name": "Python 3",
   "language": "python",
   "name": "python3"
  },
  "language_info": {
   "codemirror_mode": {
    "name": "ipython",
    "version": 3
   },
   "file_extension": ".py",
   "mimetype": "text/x-python",
   "name": "python",
   "nbconvert_exporter": "python",
   "pygments_lexer": "ipython3",
   "version": "3.7.3"
  }
 },
 "nbformat": 4,
 "nbformat_minor": 2
}
