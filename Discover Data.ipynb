{
 "cells": [
  {
   "cell_type": "code",
   "execution_count": 60,
   "metadata": {},
   "outputs": [],
   "source": [
    "# standard python packages\n",
    "import pandas as pd\n",
    "import ast\n",
    "import numpy as np\n",
    "import sys\n",
    "import json\n",
    "\n",
    "\n",
    "#geospatial manipulatio \n",
    "import geopandas\n",
    "from geopy.distance import geodesic\n",
    "from shapely.geometry import Point\n",
    "from shapely.geometry.polygon import Polygon\n",
    "from shapely.ops import nearest_points"
   ]
  },
  {
   "cell_type": "markdown",
   "metadata": {},
   "source": [
    "#### Import the Properati and Census data "
   ]
  },
  {
   "cell_type": "code",
   "execution_count": 61,
   "metadata": {},
   "outputs": [],
   "source": [
    "properati = pd.read_csv('properati_data/rent-combined.csv', encoding= \"ISO-8859-1\")\n",
    "census = pd.read_csv('census/cleaned_data2.csv',encoding= \"ISO-8859-1\")"
   ]
  },
  {
   "cell_type": "markdown",
   "metadata": {},
   "source": [
    "#### Change the format of the geojson file to something that can be imported into Pandas"
   ]
  },
  {
   "cell_type": "code",
   "execution_count": 62,
   "metadata": {},
   "outputs": [],
   "source": [
    "with open('geojson/baires.json', 'r+') as fd:\n",
    "    ba_dict = json.load(fd)\n",
    "    \n",
    "ba_polygon = ba_dict['features']\n",
    "header = ['type', 'id', 'coordinates', 'barrio', 'perimeter', 'area', 'commune']\n",
    "ba_data_list = []\n",
    "for feature in ba_polygon:\n",
    "    type_name = feature['type']\n",
    "    type_id = feature['id']\n",
    "    coordinates = feature['geometry']['coordinates']\n",
    "    barrio = feature['properties']['barrios']\n",
    "    perimeter = feature['properties']['perimetro']\n",
    "    area = feature['properties']['area']\n",
    "    commune = feature['properties']['comunas']\n",
    "    \n",
    "    ba_data_list.append([type_name, type_id, coordinates, barrio, perimeter, area, commune])\n",
    "\n",
    "ba_data = pd.DataFrame(ba_data_list, columns=header)\n",
    "\n",
    "    \n",
    "    \n",
    "    "
   ]
  },
  {
   "cell_type": "code",
   "execution_count": 63,
   "metadata": {},
   "outputs": [],
   "source": [
    "def modify_poly(data):\n",
    "    coord_list = []\n",
    "    #row = ast.literal_eval(data)\n",
    "    for coord in data:\n",
    "        coord_list.append(tuple(coord))\n",
    "    return coord_list"
   ]
  },
  {
   "cell_type": "code",
   "execution_count": 64,
   "metadata": {},
   "outputs": [
    {
     "name": "stdout",
     "output_type": "stream",
     "text": [
      "24.73%\n",
      "65574\n"
     ]
    }
   ],
   "source": [
    "# create a new column called coordinates on properati data frame\n",
    "properati['coordinates'] = list(zip(properati.lon, properati.lat))\n",
    "properati['coordinates'] = properati['coordinates'].apply(Point)\n",
    "\n",
    "# convert properati data into geopandas dataframe\n",
    "properati_gdf = geopandas.GeoDataFrame(properati, geometry='coordinates')\n",
    "\n",
    "# convert census polygon data into tuples and polygon\n",
    "census.coordinates = census.coordinates.apply(lambda x: ast.literal_eval(x)[0])\n",
    "census.coordinates = census.coordinates.apply(lambda x: modify_poly(x))\n",
    "census.coordinates = census.coordinates.apply(Polygon)\n",
    "\n",
    "census_gdf = geopandas.GeoDataFrame(census, geometry='coordinates')\n",
    "\n",
    "properati_census_gdf = geopandas.sjoin(properati_gdf, census_gdf, how=\"inner\", op='within')\n",
    "print ('{:.2f}%'.format((len(properati_census_gdf)/len(properati_gdf))*100))\n",
    "\n",
    "print (len(properati_census_gdf))"
   ]
  },
  {
   "cell_type": "code",
   "execution_count": 65,
   "metadata": {},
   "outputs": [],
   "source": [
    "def modify_json_coordinates(coordinates):\n",
    "    coord_list = []\n",
    "    for coord in coordinates[0][0]:\n",
    "        coord_list.append(tuple(coord))\n",
    "    return coord_list\n",
    "        "
   ]
  },
  {
   "cell_type": "code",
   "execution_count": 67,
   "metadata": {},
   "outputs": [],
   "source": [
    "ba_data.coordinates = ba_data.coordinates.apply(lambda x: modify_json_coordinates(x))\n",
    "#print (ba_data.coordinates[0])\n",
    "ba_data['coordinates'] = ba_data['coordinates'].apply(Polygon)\n",
    "#print (ba_data.coordinates[0])\n",
    "ba_data_gdf = geopandas.GeoDataFrame(ba_data, geometry='coordinates')"
   ]
  },
  {
   "cell_type": "code",
   "execution_count": 73,
   "metadata": {},
   "outputs": [
    {
     "name": "stdout",
     "output_type": "stream",
     "text": [
      "['dataset_date' 'created_on' 'operation' 'property_type' 'place_name'\n",
      " 'place_with_parent_names' 'country_name' 'state_name' 'geonames_id'\n",
      " 'lat_lon' 'lat' 'lon' 'price' 'currency' 'price_aprox_local_currency'\n",
      " 'price_aprox_usd' 'properati_url' 'description' 'title' 'image_thumbnail'\n",
      " 'coordinates' 'AREA' 'Commune' 'DEPTO' 'FRAC' 'Computer Percent'\n",
      " 'Computer Quantile' 'Cellular Percent' 'Cellular Quantile' 'Rent Percent'\n",
      " 'Rent Quantile' 'LINK' 'Immigration Percent' 'Immigration Quantile'\n",
      " 'Education Percent' 'Education Quantile' 'PERIMETER' 'Owner Percent'\n",
      " 'Owner Quantile' 'PROV' 'RADIO' 'RADPAIS_' 'REDCODE' 'Regular Percent'\n",
      " 'Regular Quantile' 'TIPO' 'Uninhabited Percent' 'Uninhabited Quantile'\n",
      " 'type']\n",
      "['dataset_date' 'created_on' 'operation' 'property_type' 'place_name'\n",
      " 'place_with_parent_names' 'country_name' 'state_name' 'geonames_id'\n",
      " 'lat_lon' 'lat' 'lon' 'price' 'currency' 'price_aprox_local_currency'\n",
      " 'price_aprox_usd' 'properati_url' 'description' 'title' 'image_thumbnail'\n",
      " 'coordinates' 'AREA' 'Commune' 'DEPTO' 'FRAC' 'Computer Percent'\n",
      " 'Computer Quantile' 'Cellular Percent' 'Cellular Quantile' 'Rent Percent'\n",
      " 'Rent Quantile' 'LINK' 'Immigration Percent' 'Immigration Quantile'\n",
      " 'Education Percent' 'Education Quantile' 'PERIMETER' 'Owner Percent'\n",
      " 'Owner Quantile' 'PROV' 'RADIO' 'RADPAIS_' 'REDCODE' 'Regular Percent'\n",
      " 'Regular Quantile' 'TIPO' 'Uninhabited Percent' 'Uninhabited Quantile'\n",
      " 'type_left' 'index_right' 'type_right' 'id' 'barrio' 'perimeter' 'area'\n",
      " 'commune']\n"
     ]
    }
   ],
   "source": [
    "#print (properati_census_gdf.columns.values)\n",
    "#properati_census_gdf.index = properati_census_gdf.index_left\n",
    "properati_census_gdf = properati_census_gdf.drop(columns=['id_left', 'id_right', 'index_right'], axis=1)\n",
    "print (properati_census_gdf.columns.values)\n",
    "final_gdf = geopandas.sjoin(properati_census_gdf , ba_data_gdf, how=\"inner\", op='within')\n",
    "print (final_gdf.columns.values)\n"
   ]
  },
  {
   "cell_type": "code",
   "execution_count": 78,
   "metadata": {},
   "outputs": [
    {
     "name": "stdout",
     "output_type": "stream",
     "text": [
      "       type                 id  \\\n",
      "0   Feature   nyu_2451_34198.1   \n",
      "1   Feature   nyu_2451_34198.2   \n",
      "2   Feature   nyu_2451_34198.3   \n",
      "3   Feature   nyu_2451_34198.4   \n",
      "4   Feature   nyu_2451_34198.5   \n",
      "5   Feature   nyu_2451_34198.6   \n",
      "6   Feature   nyu_2451_34198.7   \n",
      "7   Feature   nyu_2451_34198.8   \n",
      "8   Feature   nyu_2451_34198.9   \n",
      "9   Feature  nyu_2451_34198.10   \n",
      "10  Feature  nyu_2451_34198.11   \n",
      "11  Feature  nyu_2451_34198.12   \n",
      "12  Feature  nyu_2451_34198.13   \n",
      "13  Feature  nyu_2451_34198.14   \n",
      "14  Feature  nyu_2451_34198.15   \n",
      "\n",
      "                                          coordinates  \\\n",
      "0   POLYGON ((-58.39520579705124 -34.5721906912082...   \n",
      "1   POLYGON ((-58.41287003130885 -34.6141162515853...   \n",
      "2   POLYGON ((-58.43060582833087 -34.6070470885962...   \n",
      "3   POLYGON ((-58.45199524545651 -34.6297454449785...   \n",
      "4   POLYGON ((-58.51925405323249 -34.6330100952682...   \n",
      "5   POLYGON ((-58.48833736732458 -34.6201603572931...   \n",
      "6   POLYGON ((-58.49838483988304 -34.5963676568872...   \n",
      "7   POLYGON ((-58.5033113250844 -34.59385615958947...   \n",
      "8   POLYGON ((-58.42675931727641 -34.5520233734027...   \n",
      "9   POLYGON ((-58.41191880980378 -34.5980030767747...   \n",
      "10  POLYGON ((-58.4260240564076 -34.5966140637672,...   \n",
      "11  POLYGON ((-58.44913208318465 -34.6511657755509...   \n",
      "12  POLYGON ((-58.35520045765346 -34.6194307028365...   \n",
      "13  POLYGON ((-58.36854055688249 -34.5736500693968...   \n",
      "14  POLYGON ((-58.45663320171267 -34.5275582728595...   \n",
      "\n",
      "                                               barrio     perimeter  \\\n",
      "0                                            RECOLETA  21246.611702   \n",
      "1                                     ALMAGRO - BOEDO  12323.465538   \n",
      "2                                           CABALLITO  10990.964471   \n",
      "3                           FLORES - PARQUE CHACABUCO  17972.257870   \n",
      "4             LINIERS - MATADEROS - PARQUE AVELLANEDA  21411.738344   \n",
      "5   FLORESTA - MONTE CASTRO - VELEZ SARSFIELD - VE...  18332.037457   \n",
      "6   VILLA DEL PARQUE - VILLA  DEVOTO - VILLA GRAL....  19987.696155   \n",
      "7   COGHLAN - SAAVEDRA - VILLA PUEYRREDON - VILLA ...  17232.189372   \n",
      "8                                             PALERMO  21768.074886   \n",
      "9                           BALVANERA - SAN CRISTOBAL  10486.260809   \n",
      "10  AGRONOMIA - CHACARITA -  PARQUE CHAS -  PATERN...  17832.585580   \n",
      "11     VILLA LUGANO - VILLA RIACHUELO - VILLA SOLDATI  21028.314565   \n",
      "12  BARRACAS - BOCA - NUEVA POMPEYA - PARQUE PATRI...  36277.444201   \n",
      "13  CONSTITUCION - MONSERRAT - PUERTO MADERO -  RE...  35572.653074   \n",
      "14                      BELGRANO - COLEGIALES - NUÑEZ  26967.426465   \n",
      "\n",
      "            area  commune  \n",
      "0   6.140873e+06        2  \n",
      "1   6.660526e+06        5  \n",
      "2   6.851029e+06        6  \n",
      "3   1.242290e+07        7  \n",
      "4   1.650531e+07        9  \n",
      "5   1.265656e+07       10  \n",
      "6   1.412004e+07       11  \n",
      "7   1.557093e+07       12  \n",
      "8   1.577250e+07       14  \n",
      "9   6.385991e+06        3  \n",
      "10  1.432290e+07       15  \n",
      "11  2.219261e+07        8  \n",
      "12  2.170124e+07        4  \n",
      "13  1.780281e+07        1  \n",
      "14  1.457181e+07       13  \n"
     ]
    }
   ],
   "source": [
    "print (ba_data_gdf)\n",
    "ba_data_gdf.coordinates.to_file(driver = 'ESRI Shapefile', filename= \"shape files/ba_data.shp\")\n",
    "filtered_gdf = final_gdf[['dataset_date', 'created_on', 'operation', 'property_type', 'place_name', 'place_with_parent_names',\\\n",
    "                          'state_name', 'price', 'currency', 'price_aprox_local_currency', 'price_aprox_usd']]\n"
   ]
  },
  {
   "cell_type": "code",
   "execution_count": null,
   "metadata": {},
   "outputs": [],
   "source": []
  }
 ],
 "metadata": {
  "kernelspec": {
   "display_name": "Python 3",
   "language": "python",
   "name": "python3"
  },
  "language_info": {
   "codemirror_mode": {
    "name": "ipython",
    "version": 3
   },
   "file_extension": ".py",
   "mimetype": "text/x-python",
   "name": "python",
   "nbconvert_exporter": "python",
   "pygments_lexer": "ipython3",
   "version": "3.7.3"
  }
 },
 "nbformat": 4,
 "nbformat_minor": 2
}
