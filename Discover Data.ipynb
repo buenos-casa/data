{
 "cells": [
  {
   "cell_type": "code",
   "execution_count": 108,
   "metadata": {},
   "outputs": [],
   "source": [
    "# standard python packages\n",
    "import pandas as pd\n",
    "import ast\n",
    "import numpy as np\n",
    "import sys\n",
    "import json\n",
    "\n",
    "\n",
    "#geospatial manipulatio \n",
    "import geopandas\n",
    "from geopy.distance import geodesic\n",
    "from shapely.geometry import Point\n",
    "from shapely.geometry.polygon import Polygon\n",
    "from shapely.ops import nearest_points\n",
    "from shapely import wkt"
   ]
  },
  {
   "cell_type": "markdown",
   "metadata": {},
   "source": [
    "#### Import the Properati and Census data "
   ]
  },
  {
   "cell_type": "code",
   "execution_count": 109,
   "metadata": {},
   "outputs": [],
   "source": [
    "properati = pd.read_csv('properati_data/rent-combined.csv', encoding= \"ISO-8859-1\")\n",
    "census = pd.read_csv('census/cleaned_data2.csv',encoding= \"ISO-8859-1\")"
   ]
  },
  {
   "cell_type": "code",
   "execution_count": 110,
   "metadata": {},
   "outputs": [],
   "source": [
    "def modify_poly(data):\n",
    "    coord_list = []\n",
    "    #row = ast.literal_eval(data)\n",
    "    for coord in data:\n",
    "        coord_list.append(tuple(coord))\n",
    "    return coord_list"
   ]
  },
  {
   "cell_type": "code",
   "execution_count": 111,
   "metadata": {},
   "outputs": [
    {
     "name": "stdout",
     "output_type": "stream",
     "text": [
      "24.73%\n",
      "65574\n"
     ]
    }
   ],
   "source": [
    "# create a new column called coordinates on properati data frame\n",
    "properati['coordinates'] = list(zip(properati.lon, properati.lat))\n",
    "properati['coordinates'] = properati['coordinates'].apply(Point)\n",
    "\n",
    "# convert properati data into geopandas dataframe\n",
    "properati_gdf = geopandas.GeoDataFrame(properati, geometry='coordinates')\n",
    "\n",
    "# convert census polygon data into tuples and polygon\n",
    "census.coordinates = census.coordinates.apply(lambda x: ast.literal_eval(x)[0])\n",
    "census.coordinates = census.coordinates.apply(lambda x: modify_poly(x))\n",
    "census.coordinates = census.coordinates.apply(Polygon)\n",
    "\n",
    "census_gdf = geopandas.GeoDataFrame(census, geometry='coordinates')\n",
    "\n",
    "properati_census_gdf = geopandas.sjoin(properati_gdf, census_gdf, how=\"inner\", op='within')\n",
    "print ('{:.2f}%'.format((len(properati_census_gdf)/len(properati_gdf))*100))\n",
    "\n",
    "print (len(properati_census_gdf))"
   ]
  },
  {
   "cell_type": "code",
   "execution_count": 112,
   "metadata": {},
   "outputs": [],
   "source": [
    "prop_census_df = pd.DataFrame(properati_census_gdf)\n",
    "#prop_census_df.to_csv('properati_data/properati_census_rent.csv')"
   ]
  },
  {
   "cell_type": "code",
   "execution_count": 98,
   "metadata": {},
   "outputs": [
    {
     "name": "stdout",
     "output_type": "stream",
     "text": [
      "        dataset_date                                   id_left  created_on  \\\n",
      "1             201501  9b254ef5797b842cf18729c4df9827332fdca285  2014-08-26   \n",
      "59432         201605  693f3f98f8b3c4c8e8774c6b02fce12f260f5bc5  2016-05-19   \n",
      "63478         201606  7d7bc7ff8756413088e8f672c82c579b48272821  2016-06-10   \n",
      "108455        201702  799aca1e37fb3d2010fa1c54d5b851e311aa81a9  2017-03-09   \n",
      "109346        201703  2377705bd05e4626070b206396b66e99f28be369  2017-04-28   \n",
      "\n",
      "       operation property_type       place_name  \\\n",
      "1           rent     apartment  Capital Federal   \n",
      "59432       rent         store         Congreso   \n",
      "63478       rent     apartment         Congreso   \n",
      "108455      rent     apartment         Congreso   \n",
      "109346      rent     apartment         Congreso   \n",
      "\n",
      "                     place_with_parent_names country_name       state_name  \\\n",
      "1                |Argentina|Capital Federal|    Argentina  Capital Federal   \n",
      "59432   |Argentina|Capital Federal|Congreso|    Argentina  Capital Federal   \n",
      "63478   |Argentina|Capital Federal|Congreso|    Argentina  Capital Federal   \n",
      "108455  |Argentina|Capital Federal|Congreso|    Argentina  Capital Federal   \n",
      "109346  |Argentina|Capital Federal|Congreso|    Argentina  Capital Federal   \n",
      "\n",
      "        geonames_id  ... PROV  RADIO  RADPAIS_     REDCODE Regular Percent  \\\n",
      "1         3433955.0  ...  2.0   13.0   33303.0  20011113.0            87.3   \n",
      "59432     3435259.0  ...  2.0   13.0   33303.0  20011113.0            87.3   \n",
      "63478     3435259.0  ...  2.0   13.0   33303.0  20011113.0            87.3   \n",
      "108455    3435259.0  ...  2.0   13.0   33303.0  20011113.0            87.3   \n",
      "109346    3435259.0  ...  2.0   13.0   33303.0  20011113.0            87.3   \n",
      "\n",
      "        Regular Quantile  TIPO Uninhabited Percent Uninhabited Quantile  \\\n",
      "1                      4   NaN                 7.6                    8   \n",
      "59432                  4   NaN                 7.6                    8   \n",
      "63478                  4   NaN                 7.6                    8   \n",
      "108455                 4   NaN                 7.6                    8   \n",
      "109346                 4   NaN                 7.6                    8   \n",
      "\n",
      "           type  \n",
      "1       Polygon  \n",
      "59432   Polygon  \n",
      "63478   Polygon  \n",
      "108455  Polygon  \n",
      "109346  Polygon  \n",
      "\n",
      "[5 rows x 52 columns]\n"
     ]
    }
   ],
   "source": [
    "prop_census_df = prop_census_df.drop_duplicates(subset='id_left')\n",
    "print (prop_census_df.head(5))\n",
    "prop_census_df.to_csv('properati_data/rent_census_stripped.csv', columns=['id_left', 'lat', 'lon'])\n",
    "properati_census_gdf = geopandas.GeoDataFrame(prop_census_df, geometry='coordinates')"
   ]
  },
  {
   "cell_type": "code",
   "execution_count": 99,
   "metadata": {},
   "outputs": [
    {
     "name": "stdout",
     "output_type": "stream",
     "text": [
      "                                                 WKT            barrio  \\\n",
      "0  POLYGON ((-58.4528200492791 -34.5959886570639,...         CHACARITA   \n",
      "1  POLYGON ((-58.4655768128541 -34.5965577078058,...          PATERNAL   \n",
      "2  POLYGON ((-58.4237529813037 -34.5978273383243,...      VILLA CRESPO   \n",
      "3  POLYGON ((-58.4946097568899 -34.6148652395239,...  VILLA DEL PARQUE   \n",
      "4  POLYGON ((-58.4128700313089 -34.6141162515854,...           ALMAGRO   \n",
      "\n",
      "   comuna    perimetro          area  Unnamed: 0            Barrio    id  b_id  \n",
      "0      15  7725.695228  3.118101e+06        26.0         CHACARITA  26.0  26.0  \n",
      "1      15  7087.513295  2.229829e+06        27.0          PATERNAL  27.0  27.0  \n",
      "2      15  8132.699348  3.613584e+06         6.0      VILLA CRESPO   6.0   6.0  \n",
      "3      11  7705.389797  3.399596e+06        29.0  VILLA DEL PARQUE  29.0  29.0  \n",
      "4       5  8537.901368  4.050752e+06        12.0           ALMAGRO  12.0  12.0  \n"
     ]
    }
   ],
   "source": [
    "barrios = pd.read_csv('shape files/barrios.csv')\n",
    "barrios.WKT = barrios.WKT.apply(wkt.loads)\n",
    "\n",
    "barrio_df = pd.read_csv('barrio_table.csv')\n",
    "barrio_df['b_id'] = [int(barrio_df[barrio_df.Barrio == i].id) for i in barrio_df.Barrio]\n",
    "barrio_df['barrio'] = barrio_df.Barrio\n",
    "\n",
    "barrios = pd.merge(barrios, barrio_df, on='barrio', how='left')\n",
    "print (barrios.head(5))\n",
    "\n",
    "barrios_gdf = geopandas.GeoDataFrame(barrios, geometry='WKT')"
   ]
  },
  {
   "cell_type": "code",
   "execution_count": 100,
   "metadata": {},
   "outputs": [
    {
     "name": "stdout",
     "output_type": "stream",
     "text": [
      "['dataset_date' 'created_on' 'operation' 'property_type' 'place_name'\n",
      " 'place_with_parent_names' 'country_name' 'state_name' 'geonames_id'\n",
      " 'lat_lon' 'lat' 'lon' 'price' 'currency' 'price_aprox_local_currency'\n",
      " 'price_aprox_usd' 'properati_url' 'description' 'title' 'image_thumbnail'\n",
      " 'coordinates' 'AREA' 'Commune' 'DEPTO' 'FRAC' 'Computer Percent'\n",
      " 'Computer Quantile' 'Cellular Percent' 'Cellular Quantile' 'Rent Percent'\n",
      " 'Rent Quantile' 'LINK' 'Immigration Percent' 'Immigration Quantile'\n",
      " 'Education Percent' 'Education Quantile' 'PERIMETER' 'Owner Percent'\n",
      " 'Owner Quantile' 'PROV' 'RADIO' 'RADPAIS_' 'REDCODE' 'Regular Percent'\n",
      " 'Regular Quantile' 'TIPO' 'Uninhabited Percent' 'Uninhabited Quantile'\n",
      " 'type']\n",
      "['dataset_date' 'created_on' 'operation' 'property_type' 'place_name'\n",
      " 'place_with_parent_names' 'country_name' 'state_name' 'geonames_id'\n",
      " 'lat_lon' 'lat' 'lon' 'price' 'currency' 'price_aprox_local_currency'\n",
      " 'price_aprox_usd' 'properati_url' 'description' 'title' 'image_thumbnail'\n",
      " 'coordinates' 'AREA' 'Commune' 'DEPTO' 'FRAC' 'Computer Percent'\n",
      " 'Computer Quantile' 'Cellular Percent' 'Cellular Quantile' 'Rent Percent'\n",
      " 'Rent Quantile' 'LINK' 'Immigration Percent' 'Immigration Quantile'\n",
      " 'Education Percent' 'Education Quantile' 'PERIMETER' 'Owner Percent'\n",
      " 'Owner Quantile' 'PROV' 'RADIO' 'RADPAIS_' 'REDCODE' 'Regular Percent'\n",
      " 'Regular Quantile' 'TIPO' 'Uninhabited Percent' 'Uninhabited Quantile'\n",
      " 'type' 'index_right' 'barrio' 'comuna' 'perimetro' 'area' 'Unnamed: 0'\n",
      " 'Barrio' 'id' 'b_id']\n",
      "22781\n"
     ]
    }
   ],
   "source": [
    "#print (properati_census_gdf.columns.values)\n",
    "#properati_census_gdf.index = properati_census_gdf.index_left\n",
    "properati_census_gdf = properati_census_gdf.drop(columns=['id_left', 'id_right', 'index_right'], axis=1)\n",
    "print (properati_census_gdf.columns.values)\n",
    "final_gdf = geopandas.sjoin(properati_census_gdf , barrios_gdf, how=\"inner\", op='within')\n",
    "print (final_gdf.columns.values)\n",
    "print (len(final_gdf))\n"
   ]
  },
  {
   "cell_type": "code",
   "execution_count": 101,
   "metadata": {},
   "outputs": [],
   "source": [
    "\n",
    "#ba_data_gdf.coordinates.to_file(driver = 'ESRI Shapefile', filename= \"shape files/ba_data.shp\")\n",
    "#final_gdf.coordinates.to_file(driver = 'ESRI Shapefile', filename= \"shape files/final_data.shp\")\n",
    "filtered_gdf = final_gdf[['dataset_date', 'created_on', 'operation', 'property_type', 'place_name', 'place_with_parent_names',\\\n",
    "                          'state_name', 'price', 'currency', 'price_aprox_local_currency', 'price_aprox_usd',\\\n",
    "                         'Commune', 'Computer Percent', 'Computer Quantile', 'Cellular Percent', 'Cellular Quantile',\\\n",
    "                          'Rent Percent','Rent Quantile','Immigration Percent', 'Immigration Quantile','Education Percent', \\\n",
    "                          'Education Quantile', 'Owner Percent','Owner Quantile','Regular Percent','Regular Quantile', \\\n",
    "                          'Uninhabited Percent','Uninhabited Quantile','barrio','b_id', 'comuna', 'perimetro','area']]\n",
    "\n",
    "filter_df = pd.DataFrame(filtered_gdf)\n",
    "#filter_df.to_csv('properati_data/properati_census_barrios.csv')\n"
   ]
  },
  {
   "cell_type": "code",
   "execution_count": 102,
   "metadata": {},
   "outputs": [],
   "source": [
    "barrios_gdf.WKT.to_file(driver = 'ESRI Shapefile', filename= \"shape files/barrios.shp\")"
   ]
  },
  {
   "cell_type": "code",
   "execution_count": 103,
   "metadata": {},
   "outputs": [
    {
     "name": "stdout",
     "output_type": "stream",
     "text": [
      "   b_id_        barrio_  price_aprox_local_currency_min  \\\n",
      "0    0.0        PALERMO                             0.0   \n",
      "1    1.0       BELGRANO                             0.0   \n",
      "2    2.0          NUÑEZ                             0.0   \n",
      "3    3.0  VILLA ORTUZAR                             0.0   \n",
      "4    4.0      BALVANERA                             0.0   \n",
      "\n",
      "   price_aprox_local_currency_max  price_aprox_local_currency_mean  \\\n",
      "0                      1501039.00                     34566.886943   \n",
      "1                       705780.00                     35751.130246   \n",
      "2                       419657.92                     26568.049533   \n",
      "3                       237583.50                     23799.356016   \n",
      "4                      1390000.00                     30939.876621   \n",
      "\n",
      "   price_aprox_local_currency_std  price_aprox_usd_min  price_aprox_usd_max  \\\n",
      "0                    49085.363402                  0.0             94000.00   \n",
      "1                    50794.044685                  0.0             40000.00   \n",
      "2                    37840.219108                  0.0             26280.36   \n",
      "3                    35600.828397                  0.0             12100.00   \n",
      "4                    73083.385352                  0.0             80000.00   \n",
      "\n",
      "   price_aprox_usd_mean  price_aprox_usd_std  created_on_count  \n",
      "0           2016.866082          2889.677630              4433  \n",
      "1           2077.634832          2947.750069              1727  \n",
      "2           1555.494518          2275.854456               672  \n",
      "3           1371.153125          2009.757447               131  \n",
      "4           1807.461825          4266.068559               995  \n"
     ]
    }
   ],
   "source": [
    "barrios_filter_df = filter_df[['barrio','b_id','comuna','perimetro','area','price_aprox_local_currency', 'price_aprox_usd','created_on']]\n",
    "grouped = barrios_filter_df.groupby(['b_id','barrio'], as_index=False).agg({\"price_aprox_local_currency\": [\"min\", \"max\", \"mean\", \"std\"], \"price_aprox_usd\": [\"min\", \"max\", \"mean\", \"std\"],\\\n",
    "                                                \"created_on\": \"count\"})\n",
    "grouped.columns = [\"_\".join(x) for x in grouped.columns.ravel()]\n",
    "print (grouped.head(5))\n",
    "grouped.to_csv('properati_data/properati_barrios_grouped.csv')\n"
   ]
  },
  {
   "cell_type": "code",
   "execution_count": 104,
   "metadata": {},
   "outputs": [],
   "source": [
    "grouped.to_json(\"properati_data/properati_barrios.json\", orient = \"records\", date_format = \"epoch\", double_precision = 10, force_ascii = True, date_unit = \"ms\", default_handler = None)\n",
    "\n"
   ]
  },
  {
   "cell_type": "code",
   "execution_count": 105,
   "metadata": {},
   "outputs": [
    {
     "name": "stdout",
     "output_type": "stream",
     "text": [
      "             barrio  b_id  dataset_date  comuna    perimetro          area  \\\n",
      "1       SAN NICOLAS  43.0        201501       1  6548.084741  2.289008e+06   \n",
      "59432   SAN NICOLAS  43.0        201605       1  6548.084741  2.289008e+06   \n",
      "63478   SAN NICOLAS  43.0        201606       1  6548.084741  2.289008e+06   \n",
      "108455  SAN NICOLAS  43.0        201702       1  6548.084741  2.289008e+06   \n",
      "109346  SAN NICOLAS  43.0        201703       1  6548.084741  2.289008e+06   \n",
      "\n",
      "        price_aprox_local_currency  price_aprox_usd  Computer Percent  \\\n",
      "1                         13757.06           796.38              70.8   \n",
      "59432                     14425.14           903.35              70.8   \n",
      "63478                      8670.09           542.95              70.8   \n",
      "108455                    12070.26           755.88              70.8   \n",
      "109346                         NaN              NaN              70.8   \n",
      "\n",
      "        Cellular Percent  Rent Percent  Immigration Percent  \\\n",
      "1                   89.7          41.6                 11.3   \n",
      "59432               89.7          41.6                 11.3   \n",
      "63478               89.7          41.6                 11.3   \n",
      "108455              89.7          41.6                 11.3   \n",
      "109346              89.7          41.6                 11.3   \n",
      "\n",
      "        Education Percent  Owner Percent created_on  month  year  \n",
      "1                    51.9           45.7 2014-08-26      8  2014  \n",
      "59432                51.9           45.7 2016-05-19      5  2016  \n",
      "63478                51.9           45.7 2016-06-10      6  2016  \n",
      "108455               51.9           45.7 2017-03-09      3  2017  \n",
      "109346               51.9           45.7 2017-04-28      4  2017  \n"
     ]
    }
   ],
   "source": [
    "filter_df['created_on'] = pd.to_datetime(filter_df['created_on'])\n",
    "filter_df['month'] = filter_df.created_on.apply(lambda x: x.month)\n",
    "filter_df['year'] = filter_df.created_on.apply(lambda x: x.year)\n",
    "\n",
    "barrios_filter_df = filter_df[['barrio','b_id','dataset_date','comuna','perimetro','area','price_aprox_local_currency', 'price_aprox_usd', 'Computer Percent',\\\n",
    "                              'Cellular Percent', 'Rent Percent','Immigration Percent', 'Education Percent',\\\n",
    "                              'Owner Percent', 'created_on', 'month', 'year']]\n",
    "print (barrios_filter_df.head(5))"
   ]
  },
  {
   "cell_type": "code",
   "execution_count": 106,
   "metadata": {},
   "outputs": [
    {
     "name": "stdout",
     "output_type": "stream",
     "text": [
      "     barrio_  b_id_  month_  year_  price_aprox_local_currency_min  \\\n",
      "0  AGRONOMIA   25.0       1   2015                         3212.36   \n",
      "1  AGRONOMIA   25.0       1   2017                        20117.11   \n",
      "2  AGRONOMIA   25.0       1   2018                         4137.68   \n",
      "3  AGRONOMIA   25.0       3   2015                        11121.84   \n",
      "4  AGRONOMIA   25.0       3   2017                         4466.22   \n",
      "\n",
      "   price_aprox_local_currency_max  price_aprox_local_currency_mean  \\\n",
      "0                         3212.36                      3212.360000   \n",
      "1                        20117.11                     20117.110000   \n",
      "2                        12503.18                      8124.037143   \n",
      "3                        11121.84                     11121.840000   \n",
      "4                         7543.83                      6420.608000   \n",
      "\n",
      "   price_aprox_local_currency_std  price_aprox_usd_min  price_aprox_usd_max  \\\n",
      "0                        0.000000               185.96               185.96   \n",
      "1                        0.000000              1259.80              1259.80   \n",
      "2                     2540.152002               210.73               636.78   \n",
      "3                        0.000000               643.83               643.83   \n",
      "4                     1274.775346               279.69               472.42   \n",
      "\n",
      "   price_aprox_usd_mean  price_aprox_usd_std  created_on_count  \n",
      "0            185.960000             0.000000                 1  \n",
      "1           1259.800000             0.000000                 1  \n",
      "2            413.752857           129.368453                 7  \n",
      "3            643.830000             0.000000                 1  \n",
      "4            402.080000            79.830610                 5  \n",
      "1396\n"
     ]
    }
   ],
   "source": [
    "grouped_month = barrios_filter_df.groupby(['barrio', 'b_id', 'month', 'year'], as_index=False).agg({\"price_aprox_local_currency\": [\"min\", \"max\", \"mean\", \"std\"], \"price_aprox_usd\": [\"min\", \"max\", \"mean\", \"std\"],\\\n",
    "                                                \"created_on\": \"count\"}).fillna(0) #for the std deviation values that resulted in NaN \n",
    "grouped_month.columns = [\"_\".join(x) for x in grouped_month.columns.ravel()]\n",
    "print (grouped_month.head(5))\n",
    "print (len(grouped_month))\n",
    "#grouped.to_csv('properati_data/properati_barrios_grouped.csv')"
   ]
  },
  {
   "cell_type": "code",
   "execution_count": 107,
   "metadata": {},
   "outputs": [],
   "source": [
    "grouped_month.to_csv('properati_data/properati_barrios_grouped_month.csv')\n",
    "grouped_month.to_json(\"properati_data/properati_barrios_month.json\", orient = \"records\", date_format = \"epoch\", double_precision = 10, force_ascii = True, date_unit = \"ms\", default_handler = None)\n",
    "\n"
   ]
  },
  {
   "cell_type": "code",
   "execution_count": null,
   "metadata": {},
   "outputs": [],
   "source": []
  }
 ],
 "metadata": {
  "kernelspec": {
   "display_name": "Python 3",
   "language": "python",
   "name": "python3"
  },
  "language_info": {
   "codemirror_mode": {
    "name": "ipython",
    "version": 3
   },
   "file_extension": ".py",
   "mimetype": "text/x-python",
   "name": "python",
   "nbconvert_exporter": "python",
   "pygments_lexer": "ipython3",
   "version": "3.7.3"
  }
 },
 "nbformat": 4,
 "nbformat_minor": 2
}
