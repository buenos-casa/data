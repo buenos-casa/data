{
 "cells": [
  {
   "cell_type": "code",
   "execution_count": 53,
   "metadata": {},
   "outputs": [],
   "source": [
    "# standard python packages\n",
    "import pandas as pd\n",
    "import ast\n",
    "import numpy as np\n",
    "import sys\n",
    "import json\n",
    "\n",
    "\n",
    "#geospatial manipulatio \n",
    "import geopandas\n",
    "from geopy.distance import geodesic\n",
    "from shapely.geometry import Point\n",
    "from shapely.geometry.polygon import Polygon\n",
    "from shapely.ops import nearest_points\n",
    "from shapely import wkt"
   ]
  },
  {
   "cell_type": "markdown",
   "metadata": {},
   "source": [
    "#### Import the Properati and Census data "
   ]
  },
  {
   "cell_type": "code",
   "execution_count": 54,
   "metadata": {},
   "outputs": [],
   "source": [
    "properati = pd.read_csv('properati_data/rent-combined.csv', encoding= \"ISO-8859-1\")\n",
    "census = pd.read_csv('census/cleaned_data2.csv',encoding= \"ISO-8859-1\")"
   ]
  },
  {
   "cell_type": "markdown",
   "metadata": {},
   "source": [
    "#### Change the format of the geojson file to something that can be imported into Pandas"
   ]
  },
  {
   "cell_type": "code",
   "execution_count": 55,
   "metadata": {},
   "outputs": [],
   "source": [
    "with open('geojson/baires.json', 'r+') as fd:\n",
    "    ba_dict = json.load(fd)\n",
    "    \n",
    "ba_polygon = ba_dict['features']\n",
    "header = ['type', 'id', 'coordinates', 'barrio', 'perimeter', 'area', 'commune']\n",
    "ba_data_list = []\n",
    "for feature in ba_polygon:\n",
    "    type_name = feature['type']\n",
    "    type_id = feature['id']\n",
    "    coordinates = feature['geometry']['coordinates']\n",
    "    barrio = feature['properties']['barrios']\n",
    "    perimeter = feature['properties']['perimetro']\n",
    "    area = feature['properties']['area']\n",
    "    commune = feature['properties']['comunas']\n",
    "    \n",
    "    ba_data_list.append([type_name, type_id, coordinates, barrio, perimeter, area, commune])\n",
    "\n",
    "ba_data = pd.DataFrame(ba_data_list, columns=header)\n",
    "\n",
    "    \n",
    "    \n",
    "    "
   ]
  },
  {
   "cell_type": "code",
   "execution_count": 56,
   "metadata": {},
   "outputs": [],
   "source": [
    "def modify_poly(data):\n",
    "    coord_list = []\n",
    "    #row = ast.literal_eval(data)\n",
    "    for coord in data:\n",
    "        coord_list.append(tuple(coord))\n",
    "    return coord_list"
   ]
  },
  {
   "cell_type": "code",
   "execution_count": 57,
   "metadata": {},
   "outputs": [
    {
     "name": "stdout",
     "output_type": "stream",
     "text": [
      "24.73%\n",
      "65574\n"
     ]
    }
   ],
   "source": [
    "# create a new column called coordinates on properati data frame\n",
    "properati['coordinates'] = list(zip(properati.lon, properati.lat))\n",
    "properati['coordinates'] = properati['coordinates'].apply(Point)\n",
    "\n",
    "# convert properati data into geopandas dataframe\n",
    "properati_gdf = geopandas.GeoDataFrame(properati, geometry='coordinates')\n",
    "\n",
    "# convert census polygon data into tuples and polygon\n",
    "census.coordinates = census.coordinates.apply(lambda x: ast.literal_eval(x)[0])\n",
    "census.coordinates = census.coordinates.apply(lambda x: modify_poly(x))\n",
    "census.coordinates = census.coordinates.apply(Polygon)\n",
    "\n",
    "census_gdf = geopandas.GeoDataFrame(census, geometry='coordinates')\n",
    "\n",
    "properati_census_gdf = geopandas.sjoin(properati_gdf, census_gdf, how=\"inner\", op='within')\n",
    "print ('{:.2f}%'.format((len(properati_census_gdf)/len(properati_gdf))*100))\n",
    "\n",
    "print (len(properati_census_gdf))"
   ]
  },
  {
   "cell_type": "code",
   "execution_count": 58,
   "metadata": {},
   "outputs": [],
   "source": [
    "prop_census_df = pd.DataFrame(properati_census_gdf)\n",
    "#prop_census_df.to_csv('properati_data/properati_census_rent.csv')"
   ]
  },
  {
   "cell_type": "code",
   "execution_count": 59,
   "metadata": {},
   "outputs": [
    {
     "name": "stdout",
     "output_type": "stream",
     "text": [
      "        dataset_date                                   id_left  created_on  \\\n",
      "1             201501  9b254ef5797b842cf18729c4df9827332fdca285  2014-08-26   \n",
      "59432         201605  693f3f98f8b3c4c8e8774c6b02fce12f260f5bc5  2016-05-19   \n",
      "63478         201606  7d7bc7ff8756413088e8f672c82c579b48272821  2016-06-10   \n",
      "108455        201702  799aca1e37fb3d2010fa1c54d5b851e311aa81a9  2017-03-09   \n",
      "109346        201703  2377705bd05e4626070b206396b66e99f28be369  2017-04-28   \n",
      "\n",
      "       operation property_type       place_name  \\\n",
      "1           rent     apartment  Capital Federal   \n",
      "59432       rent         store         Congreso   \n",
      "63478       rent     apartment         Congreso   \n",
      "108455      rent     apartment         Congreso   \n",
      "109346      rent     apartment         Congreso   \n",
      "\n",
      "                     place_with_parent_names country_name       state_name  \\\n",
      "1                |Argentina|Capital Federal|    Argentina  Capital Federal   \n",
      "59432   |Argentina|Capital Federal|Congreso|    Argentina  Capital Federal   \n",
      "63478   |Argentina|Capital Federal|Congreso|    Argentina  Capital Federal   \n",
      "108455  |Argentina|Capital Federal|Congreso|    Argentina  Capital Federal   \n",
      "109346  |Argentina|Capital Federal|Congreso|    Argentina  Capital Federal   \n",
      "\n",
      "        geonames_id  ... PROV  RADIO  RADPAIS_     REDCODE Regular Percent  \\\n",
      "1         3433955.0  ...  2.0   13.0   33303.0  20011113.0            87.3   \n",
      "59432     3435259.0  ...  2.0   13.0   33303.0  20011113.0            87.3   \n",
      "63478     3435259.0  ...  2.0   13.0   33303.0  20011113.0            87.3   \n",
      "108455    3435259.0  ...  2.0   13.0   33303.0  20011113.0            87.3   \n",
      "109346    3435259.0  ...  2.0   13.0   33303.0  20011113.0            87.3   \n",
      "\n",
      "        Regular Quantile  TIPO Uninhabited Percent Uninhabited Quantile  \\\n",
      "1                      4   NaN                 7.6                    8   \n",
      "59432                  4   NaN                 7.6                    8   \n",
      "63478                  4   NaN                 7.6                    8   \n",
      "108455                 4   NaN                 7.6                    8   \n",
      "109346                 4   NaN                 7.6                    8   \n",
      "\n",
      "           type  \n",
      "1       Polygon  \n",
      "59432   Polygon  \n",
      "63478   Polygon  \n",
      "108455  Polygon  \n",
      "109346  Polygon  \n",
      "\n",
      "[5 rows x 52 columns]\n"
     ]
    }
   ],
   "source": [
    "prop_census_df = prop_census_df.drop_duplicates(subset='id_left')\n",
    "print (prop_census_df.head(5))\n",
    "properati_census_gdf = geopandas.GeoDataFrame(prop_census_df, geometry='coordinates')"
   ]
  },
  {
   "cell_type": "code",
   "execution_count": 60,
   "metadata": {},
   "outputs": [],
   "source": [
    "def modify_json_coordinates(coordinates):\n",
    "    coord_list = []\n",
    "    for coord in coordinates[0][0]:\n",
    "        coord_list.append(tuple(coord))\n",
    "    return coord_list\n",
    "        "
   ]
  },
  {
   "cell_type": "code",
   "execution_count": 61,
   "metadata": {},
   "outputs": [],
   "source": [
    "ba_data.coordinates = ba_data.coordinates.apply(lambda x: modify_json_coordinates(x))\n",
    "#print (ba_data.coordinates[0])\n",
    "ba_data['coordinates'] = ba_data['coordinates'].apply(Polygon)\n",
    "#print (ba_data.coordinates[0])\n",
    "ba_data_gdf = geopandas.GeoDataFrame(ba_data, geometry='coordinates')"
   ]
  },
  {
   "cell_type": "code",
   "execution_count": 62,
   "metadata": {},
   "outputs": [],
   "source": [
    "barrios = pd.read_csv('shape files/barrios.csv')\n",
    "barrios.WKT = barrios.WKT.apply(wkt.loads)\n",
    "barrios_gdf = geopandas.GeoDataFrame(barrios, geometry='WKT')"
   ]
  },
  {
   "cell_type": "code",
   "execution_count": 63,
   "metadata": {},
   "outputs": [
    {
     "name": "stdout",
     "output_type": "stream",
     "text": [
      "['dataset_date' 'created_on' 'operation' 'property_type' 'place_name'\n",
      " 'place_with_parent_names' 'country_name' 'state_name' 'geonames_id'\n",
      " 'lat_lon' 'lat' 'lon' 'price' 'currency' 'price_aprox_local_currency'\n",
      " 'price_aprox_usd' 'properati_url' 'description' 'title' 'image_thumbnail'\n",
      " 'coordinates' 'AREA' 'Commune' 'DEPTO' 'FRAC' 'Computer Percent'\n",
      " 'Computer Quantile' 'Cellular Percent' 'Cellular Quantile' 'Rent Percent'\n",
      " 'Rent Quantile' 'LINK' 'Immigration Percent' 'Immigration Quantile'\n",
      " 'Education Percent' 'Education Quantile' 'PERIMETER' 'Owner Percent'\n",
      " 'Owner Quantile' 'PROV' 'RADIO' 'RADPAIS_' 'REDCODE' 'Regular Percent'\n",
      " 'Regular Quantile' 'TIPO' 'Uninhabited Percent' 'Uninhabited Quantile'\n",
      " 'type']\n",
      "['dataset_date' 'created_on' 'operation' 'property_type' 'place_name'\n",
      " 'place_with_parent_names' 'country_name' 'state_name' 'geonames_id'\n",
      " 'lat_lon' 'lat' 'lon' 'price' 'currency' 'price_aprox_local_currency'\n",
      " 'price_aprox_usd' 'properati_url' 'description' 'title' 'image_thumbnail'\n",
      " 'coordinates' 'AREA' 'Commune' 'DEPTO' 'FRAC' 'Computer Percent'\n",
      " 'Computer Quantile' 'Cellular Percent' 'Cellular Quantile' 'Rent Percent'\n",
      " 'Rent Quantile' 'LINK' 'Immigration Percent' 'Immigration Quantile'\n",
      " 'Education Percent' 'Education Quantile' 'PERIMETER' 'Owner Percent'\n",
      " 'Owner Quantile' 'PROV' 'RADIO' 'RADPAIS_' 'REDCODE' 'Regular Percent'\n",
      " 'Regular Quantile' 'TIPO' 'Uninhabited Percent' 'Uninhabited Quantile'\n",
      " 'type' 'index_right' 'barrio' 'comuna' 'perimetro' 'area']\n",
      "22781\n"
     ]
    }
   ],
   "source": [
    "#print (properati_census_gdf.columns.values)\n",
    "#properati_census_gdf.index = properati_census_gdf.index_left\n",
    "properati_census_gdf = properati_census_gdf.drop(columns=['id_left', 'id_right', 'index_right'], axis=1)\n",
    "print (properati_census_gdf.columns.values)\n",
    "final_gdf = geopandas.sjoin(properati_census_gdf , barrios_gdf, how=\"inner\", op='within')\n",
    "print (final_gdf.columns.values)\n",
    "print (len(final_gdf))\n"
   ]
  },
  {
   "cell_type": "code",
   "execution_count": 64,
   "metadata": {},
   "outputs": [],
   "source": [
    "\n",
    "#ba_data_gdf.coordinates.to_file(driver = 'ESRI Shapefile', filename= \"shape files/ba_data.shp\")\n",
    "#final_gdf.coordinates.to_file(driver = 'ESRI Shapefile', filename= \"shape files/final_data.shp\")\n",
    "filtered_gdf = final_gdf[['dataset_date', 'created_on', 'operation', 'property_type', 'place_name', 'place_with_parent_names',\\\n",
    "                          'state_name', 'price', 'currency', 'price_aprox_local_currency', 'price_aprox_usd',\\\n",
    "                         'Commune', 'Computer Percent', 'Computer Quantile', 'Cellular Percent', 'Cellular Quantile',\\\n",
    "                          'Rent Percent','Rent Quantile','Immigration Percent', 'Immigration Quantile','Education Percent', \\\n",
    "                          'Education Quantile', 'Owner Percent','Owner Quantile','Regular Percent','Regular Quantile', \\\n",
    "                          'Uninhabited Percent','Uninhabited Quantile','barrio', 'comuna', 'perimetro','area']]\n",
    "\n",
    "filter_df = pd.DataFrame(filtered_gdf)\n",
    "#filter_df.to_csv('properati_data/properati_census_barrios.csv')\n"
   ]
  },
  {
   "cell_type": "code",
   "execution_count": 65,
   "metadata": {},
   "outputs": [],
   "source": [
    "barrios_gdf.WKT.to_file(driver = 'ESRI Shapefile', filename= \"shape files/barrios.shp\")"
   ]
  },
  {
   "cell_type": "code",
   "execution_count": 66,
   "metadata": {},
   "outputs": [
    {
     "name": "stdout",
     "output_type": "stream",
     "text": [
      "     barrio_  price_aprox_local_currency_min  price_aprox_local_currency_max  \\\n",
      "0  AGRONOMIA                            0.00                        86175.00   \n",
      "1    ALMAGRO                            0.00                       878267.50   \n",
      "2  BALVANERA                            0.00                      1390000.00   \n",
      "3   BARRACAS                         4208.49                       312417.98   \n",
      "4   BELGRANO                            0.00                       705780.00   \n",
      "\n",
      "   price_aprox_local_currency_mean  price_aprox_local_currency_std  \\\n",
      "0                     10955.837907                    12993.562240   \n",
      "1                     17953.989677                    50862.319415   \n",
      "2                     30939.876621                    73083.385352   \n",
      "3                     25863.239113                    43261.998366   \n",
      "4                     35751.130246                    50794.044685   \n",
      "\n",
      "   price_aprox_usd_min  price_aprox_usd_max  price_aprox_usd_mean  \\\n",
      "0                 0.00              5000.00            638.329070   \n",
      "1                 0.00             55000.00           1048.382565   \n",
      "2                 0.00             80000.00           1807.461825   \n",
      "3               252.37             15911.28           1505.594680   \n",
      "4                 0.00             40000.00           2077.634832   \n",
      "\n",
      "   price_aprox_usd_std  created_on_count  \n",
      "0           763.668012                43  \n",
      "1          3066.954209               652  \n",
      "2          4266.068559               995  \n",
      "3          2472.294682               207  \n",
      "4          2947.750069              1727  \n"
     ]
    }
   ],
   "source": [
    "barrios_filter_df = filter_df[['barrio','comuna','perimetro','area','price_aprox_local_currency', 'price_aprox_usd','created_on']]\n",
    "grouped = barrios_filter_df.groupby('barrio', as_index=False).agg({\"price_aprox_local_currency\": [\"min\", \"max\", \"mean\", \"std\"], \"price_aprox_usd\": [\"min\", \"max\", \"mean\", \"std\"],\\\n",
    "                                                \"created_on\": \"count\"})\n",
    "grouped.columns = [\"_\".join(x) for x in grouped.columns.ravel()]\n",
    "print (grouped.head(5))\n",
    "grouped.to_csv('properati_data/properati_barrios_grouped.csv')\n"
   ]
  },
  {
   "cell_type": "code",
   "execution_count": 67,
   "metadata": {},
   "outputs": [],
   "source": [
    "grouped.to_json(\"properati_data/properati_barrios.json\", orient = \"records\", date_format = \"epoch\", double_precision = 10, force_ascii = True, date_unit = \"ms\", default_handler = None)\n",
    "\n"
   ]
  },
  {
   "cell_type": "code",
   "execution_count": 68,
   "metadata": {},
   "outputs": [
    {
     "name": "stdout",
     "output_type": "stream",
     "text": [
      "             barrio  dataset_date  comuna    perimetro          area  \\\n",
      "1       SAN NICOLAS        201501       1  6548.084741  2.289008e+06   \n",
      "59432   SAN NICOLAS        201605       1  6548.084741  2.289008e+06   \n",
      "63478   SAN NICOLAS        201606       1  6548.084741  2.289008e+06   \n",
      "108455  SAN NICOLAS        201702       1  6548.084741  2.289008e+06   \n",
      "109346  SAN NICOLAS        201703       1  6548.084741  2.289008e+06   \n",
      "\n",
      "        price_aprox_local_currency  price_aprox_usd  Computer Percent  \\\n",
      "1                         13757.06           796.38              70.8   \n",
      "59432                     14425.14           903.35              70.8   \n",
      "63478                      8670.09           542.95              70.8   \n",
      "108455                    12070.26           755.88              70.8   \n",
      "109346                         NaN              NaN              70.8   \n",
      "\n",
      "        Cellular Percent  Rent Percent  Immigration Percent  \\\n",
      "1                   89.7          41.6                 11.3   \n",
      "59432               89.7          41.6                 11.3   \n",
      "63478               89.7          41.6                 11.3   \n",
      "108455              89.7          41.6                 11.3   \n",
      "109346              89.7          41.6                 11.3   \n",
      "\n",
      "        Education Percent  Owner Percent created_on  month  year  \n",
      "1                    51.9           45.7 2014-08-26      8  2014  \n",
      "59432                51.9           45.7 2016-05-19      5  2016  \n",
      "63478                51.9           45.7 2016-06-10      6  2016  \n",
      "108455               51.9           45.7 2017-03-09      3  2017  \n",
      "109346               51.9           45.7 2017-04-28      4  2017  \n"
     ]
    }
   ],
   "source": [
    "filter_df['created_on'] = pd.to_datetime(filter_df['created_on'])\n",
    "filter_df['month'] = filter_df.created_on.apply(lambda x: x.month)\n",
    "filter_df['year'] = filter_df.created_on.apply(lambda x: x.year)\n",
    "\n",
    "barrios_filter_df = filter_df[['barrio','dataset_date','comuna','perimetro','area','price_aprox_local_currency', 'price_aprox_usd', 'Computer Percent',\\\n",
    "                              'Cellular Percent', 'Rent Percent','Immigration Percent', 'Education Percent',\\\n",
    "                              'Owner Percent', 'created_on', 'month', 'year']]\n",
    "print (barrios_filter_df.head(5))"
   ]
  },
  {
   "cell_type": "code",
   "execution_count": 69,
   "metadata": {},
   "outputs": [
    {
     "name": "stdout",
     "output_type": "stream",
     "text": [
      "     barrio_  month_  year_  price_aprox_local_currency_min  \\\n",
      "0  AGRONOMIA       1   2015                         3212.36   \n",
      "1  AGRONOMIA       1   2017                        20117.11   \n",
      "2  AGRONOMIA       1   2018                         4137.68   \n",
      "3  AGRONOMIA       3   2015                        11121.84   \n",
      "4  AGRONOMIA       3   2017                         4466.22   \n",
      "\n",
      "   price_aprox_local_currency_max  price_aprox_local_currency_mean  \\\n",
      "0                         3212.36                      3212.360000   \n",
      "1                        20117.11                     20117.110000   \n",
      "2                        12503.18                      8124.037143   \n",
      "3                        11121.84                     11121.840000   \n",
      "4                         7543.83                      6420.608000   \n",
      "\n",
      "   price_aprox_local_currency_std  price_aprox_usd_min  price_aprox_usd_max  \\\n",
      "0                        0.000000               185.96               185.96   \n",
      "1                        0.000000              1259.80              1259.80   \n",
      "2                     2540.152002               210.73               636.78   \n",
      "3                        0.000000               643.83               643.83   \n",
      "4                     1274.775346               279.69               472.42   \n",
      "\n",
      "   price_aprox_usd_mean  price_aprox_usd_std  created_on_count  \n",
      "0            185.960000             0.000000                 1  \n",
      "1           1259.800000             0.000000                 1  \n",
      "2            413.752857           129.368453                 7  \n",
      "3            643.830000             0.000000                 1  \n",
      "4            402.080000            79.830610                 5  \n",
      "1510\n"
     ]
    }
   ],
   "source": [
    "grouped_month = barrios_filter_df.groupby(['barrio', 'month', 'year'], as_index=False).agg({\"price_aprox_local_currency\": [\"min\", \"max\", \"mean\", \"std\"], \"price_aprox_usd\": [\"min\", \"max\", \"mean\", \"std\"],\\\n",
    "                                                \"created_on\": \"count\"}).fillna(0) #for the std deviation values that resulted in NaN \n",
    "grouped_month.columns = [\"_\".join(x) for x in grouped_month.columns.ravel()]\n",
    "print (grouped_month.head(5))\n",
    "print (len(grouped_month))\n",
    "#grouped.to_csv('properati_data/properati_barrios_grouped.csv')"
   ]
  },
  {
   "cell_type": "code",
   "execution_count": 70,
   "metadata": {},
   "outputs": [],
   "source": [
    "grouped_month.to_csv('properati_data/properati_barrios_grouped_month.csv')\n",
    "grouped_month.to_json(\"properati_data/properati_barrios_month.json\", orient = \"records\", date_format = \"epoch\", double_precision = 10, force_ascii = True, date_unit = \"ms\", default_handler = None)\n",
    "\n"
   ]
  },
  {
   "cell_type": "code",
   "execution_count": null,
   "metadata": {},
   "outputs": [],
   "source": []
  }
 ],
 "metadata": {
  "kernelspec": {
   "display_name": "Python 3",
   "language": "python",
   "name": "python3"
  },
  "language_info": {
   "codemirror_mode": {
    "name": "ipython",
    "version": 3
   },
   "file_extension": ".py",
   "mimetype": "text/x-python",
   "name": "python",
   "nbconvert_exporter": "python",
   "pygments_lexer": "ipython3",
   "version": "3.7.3"
  }
 },
 "nbformat": 4,
 "nbformat_minor": 2
}
